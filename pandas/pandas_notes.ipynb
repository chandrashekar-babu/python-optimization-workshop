{
 "cells": [
  {
   "cell_type": "markdown",
   "metadata": {},
   "source": [
    "# Using Pandas"
   ]
  },
  {
   "cell_type": "markdown",
   "metadata": {},
   "source": [
    "**pandas** is a data analytics framework written in Python that provides a fast and flexible way to express tabular (relational) data that would normally be done using a Spreadsheet application.\n",
    "\n",
    "It aims to be a high-level building block for performing data analysis in Python.\n",
    "\n",
    "**pandas** can read the following data formats:\n",
    "  - Tabular data (RDBMS table,  Excel spreadsheet, CSV file, Tabbed text file, HTML tables)\n",
    "  - Ordered/unordered time series data (Logs which are properly formatted)\n",
    "  - Numpy arrays and similar array-like objects (2-D matrix)\n"
   ]
  },
  {
   "cell_type": "markdown",
   "metadata": {},
   "source": [
    "### Pandas fundamental data structures\n",
    "- Series (1-dimensional) \n",
    "- DataFrame (2-dimensional - made up of Series)\n",
    "\n",
    "Series objects are array-like and can be used in environments that expect numpy arrays"
   ]
  },
  {
   "cell_type": "code",
   "execution_count": 1,
   "metadata": {},
   "outputs": [
    {
     "name": "stdout",
     "output_type": "stream",
     "text": [
      "Populating the interactive namespace from numpy and matplotlib\n"
     ]
    }
   ],
   "source": [
    "%pylab inline\n",
    "\n",
    "import pandas as pd"
   ]
  },
  {
   "cell_type": "markdown",
   "metadata": {},
   "source": [
    "## Loading data into pandas"
   ]
  },
  {
   "cell_type": "code",
   "execution_count": 5,
   "metadata": {},
   "outputs": [
    {
     "name": "stdout",
     "output_type": "stream",
     "text": [
      "name,physics,maths,compsci\r\n",
      "john,66,78,89\r\n",
      "adrian,82,73,91\r\n",
      "bourne,73,94,86\r\n",
      "smith,62,65,68\r\n",
      "jane,79,84,89\r\n",
      "david,84,87,82\r\n",
      "emily,80,93,84\r\n",
      "floyd,87,86,92\r\n",
      "gary,78,72,84\r\n"
     ]
    }
   ],
   "source": [
    "cat scores.csv"
   ]
  },
  {
   "cell_type": "code",
   "execution_count": 30,
   "metadata": {},
   "outputs": [
    {
     "data": {
      "text/html": [
       "<div>\n",
       "<style scoped>\n",
       "    .dataframe tbody tr th:only-of-type {\n",
       "        vertical-align: middle;\n",
       "    }\n",
       "\n",
       "    .dataframe tbody tr th {\n",
       "        vertical-align: top;\n",
       "    }\n",
       "\n",
       "    .dataframe thead th {\n",
       "        text-align: right;\n",
       "    }\n",
       "</style>\n",
       "<table border=\"1\" class=\"dataframe\">\n",
       "  <thead>\n",
       "    <tr style=\"text-align: right;\">\n",
       "      <th></th>\n",
       "      <th>name</th>\n",
       "      <th>physics</th>\n",
       "      <th>maths</th>\n",
       "      <th>compsci</th>\n",
       "    </tr>\n",
       "  </thead>\n",
       "  <tbody>\n",
       "    <tr>\n",
       "      <th>0</th>\n",
       "      <td>john</td>\n",
       "      <td>66</td>\n",
       "      <td>78</td>\n",
       "      <td>89</td>\n",
       "    </tr>\n",
       "    <tr>\n",
       "      <th>1</th>\n",
       "      <td>adrian</td>\n",
       "      <td>82</td>\n",
       "      <td>73</td>\n",
       "      <td>91</td>\n",
       "    </tr>\n",
       "    <tr>\n",
       "      <th>2</th>\n",
       "      <td>bourne</td>\n",
       "      <td>73</td>\n",
       "      <td>94</td>\n",
       "      <td>86</td>\n",
       "    </tr>\n",
       "    <tr>\n",
       "      <th>3</th>\n",
       "      <td>smith</td>\n",
       "      <td>62</td>\n",
       "      <td>65</td>\n",
       "      <td>68</td>\n",
       "    </tr>\n",
       "    <tr>\n",
       "      <th>4</th>\n",
       "      <td>jane</td>\n",
       "      <td>79</td>\n",
       "      <td>84</td>\n",
       "      <td>89</td>\n",
       "    </tr>\n",
       "    <tr>\n",
       "      <th>5</th>\n",
       "      <td>david</td>\n",
       "      <td>84</td>\n",
       "      <td>87</td>\n",
       "      <td>82</td>\n",
       "    </tr>\n",
       "    <tr>\n",
       "      <th>6</th>\n",
       "      <td>emily</td>\n",
       "      <td>80</td>\n",
       "      <td>93</td>\n",
       "      <td>84</td>\n",
       "    </tr>\n",
       "    <tr>\n",
       "      <th>7</th>\n",
       "      <td>floyd</td>\n",
       "      <td>87</td>\n",
       "      <td>86</td>\n",
       "      <td>92</td>\n",
       "    </tr>\n",
       "    <tr>\n",
       "      <th>8</th>\n",
       "      <td>gary</td>\n",
       "      <td>78</td>\n",
       "      <td>72</td>\n",
       "      <td>84</td>\n",
       "    </tr>\n",
       "  </tbody>\n",
       "</table>\n",
       "</div>"
      ],
      "text/plain": [
       "     name  physics  maths  compsci\n",
       "0    john       66     78       89\n",
       "1  adrian       82     73       91\n",
       "2  bourne       73     94       86\n",
       "3   smith       62     65       68\n",
       "4    jane       79     84       89\n",
       "5   david       84     87       82\n",
       "6   emily       80     93       84\n",
       "7   floyd       87     86       92\n",
       "8    gary       78     72       84"
      ]
     },
     "execution_count": 30,
     "metadata": {},
     "output_type": "execute_result"
    }
   ],
   "source": [
    "df = pd.read_csv(\"scores.csv\")\n",
    "#df = pd.read_excel(\"scores.xlsx\", \"sheet1\")\n",
    "#df  = pd.read_html(\"html_tables.html\")\n",
    "#df = pd.DataFrame()\n",
    "df"
   ]
  },
  {
   "cell_type": "code",
   "execution_count": 7,
   "metadata": {
    "scrolled": true
   },
   "outputs": [
    {
     "data": {
      "text/html": [
       "<div>\n",
       "<style scoped>\n",
       "    .dataframe tbody tr th:only-of-type {\n",
       "        vertical-align: middle;\n",
       "    }\n",
       "\n",
       "    .dataframe tbody tr th {\n",
       "        vertical-align: top;\n",
       "    }\n",
       "\n",
       "    .dataframe thead th {\n",
       "        text-align: right;\n",
       "    }\n",
       "</style>\n",
       "<table border=\"1\" class=\"dataframe\">\n",
       "  <thead>\n",
       "    <tr style=\"text-align: right;\">\n",
       "      <th></th>\n",
       "      <th>compsci</th>\n",
       "      <th>maths</th>\n",
       "      <th>name</th>\n",
       "      <th>physics</th>\n",
       "    </tr>\n",
       "  </thead>\n",
       "  <tbody>\n",
       "    <tr>\n",
       "      <th>0</th>\n",
       "      <td>89</td>\n",
       "      <td>78</td>\n",
       "      <td>john</td>\n",
       "      <td>66</td>\n",
       "    </tr>\n",
       "    <tr>\n",
       "      <th>1</th>\n",
       "      <td>91</td>\n",
       "      <td>73</td>\n",
       "      <td>adrian</td>\n",
       "      <td>82</td>\n",
       "    </tr>\n",
       "    <tr>\n",
       "      <th>2</th>\n",
       "      <td>86</td>\n",
       "      <td>94</td>\n",
       "      <td>bourne</td>\n",
       "      <td>73</td>\n",
       "    </tr>\n",
       "    <tr>\n",
       "      <th>3</th>\n",
       "      <td>68</td>\n",
       "      <td>65</td>\n",
       "      <td>smith</td>\n",
       "      <td>62</td>\n",
       "    </tr>\n",
       "    <tr>\n",
       "      <th>4</th>\n",
       "      <td>89</td>\n",
       "      <td>84</td>\n",
       "      <td>jane</td>\n",
       "      <td>79</td>\n",
       "    </tr>\n",
       "    <tr>\n",
       "      <th>5</th>\n",
       "      <td>82</td>\n",
       "      <td>87</td>\n",
       "      <td>david</td>\n",
       "      <td>84</td>\n",
       "    </tr>\n",
       "    <tr>\n",
       "      <th>6</th>\n",
       "      <td>84</td>\n",
       "      <td>93</td>\n",
       "      <td>emily</td>\n",
       "      <td>80</td>\n",
       "    </tr>\n",
       "    <tr>\n",
       "      <th>7</th>\n",
       "      <td>92</td>\n",
       "      <td>86</td>\n",
       "      <td>floyd</td>\n",
       "      <td>87</td>\n",
       "    </tr>\n",
       "    <tr>\n",
       "      <th>8</th>\n",
       "      <td>84</td>\n",
       "      <td>72</td>\n",
       "      <td>gary</td>\n",
       "      <td>78</td>\n",
       "    </tr>\n",
       "  </tbody>\n",
       "</table>\n",
       "</div>"
      ],
      "text/plain": [
       "   compsci  maths    name  physics\n",
       "0       89     78    john       66\n",
       "1       91     73  adrian       82\n",
       "2       86     94  bourne       73\n",
       "3       68     65   smith       62\n",
       "4       89     84    jane       79\n",
       "5       82     87   david       84\n",
       "6       84     93   emily       80\n",
       "7       92     86   floyd       87\n",
       "8       84     72    gary       78"
      ]
     },
     "execution_count": 7,
     "metadata": {},
     "output_type": "execute_result"
    }
   ],
   "source": [
    "data = [\n",
    " {'name': 'john',   'physics': 66, 'maths': 78, 'compsci': 89 },\n",
    " {'name': 'adrian', 'physics': 82, 'maths': 73, 'compsci': 91 },\n",
    " {'name': 'bourne', 'physics': 73, 'maths': 94, 'compsci': 86 },\n",
    " {'name': 'smith',  'physics': 62, 'maths': 65, 'compsci': 68 },\n",
    " {'name': 'jane',   'physics': 79, 'maths': 84, 'compsci': 89 },\n",
    " {'name': 'david',  'physics': 84, 'maths': 87, 'compsci': 82 },\n",
    " {'name': 'emily',  'physics': 80, 'maths': 93, 'compsci': 84 },\n",
    " {'name': 'floyd',  'physics': 87, 'maths': 86, 'compsci': 92 },\n",
    " {'name': 'gary',   'physics': 78, 'maths': 72, 'compsci': 84 }]\n",
    "\n",
    "df = pd.DataFrame(data)\n",
    "df"
   ]
  },
  {
   "cell_type": "code",
   "execution_count": 8,
   "metadata": {},
   "outputs": [
    {
     "data": {
      "text/html": [
       "<div>\n",
       "<style scoped>\n",
       "    .dataframe tbody tr th:only-of-type {\n",
       "        vertical-align: middle;\n",
       "    }\n",
       "\n",
       "    .dataframe tbody tr th {\n",
       "        vertical-align: top;\n",
       "    }\n",
       "\n",
       "    .dataframe thead th {\n",
       "        text-align: right;\n",
       "    }\n",
       "</style>\n",
       "<table border=\"1\" class=\"dataframe\">\n",
       "  <thead>\n",
       "    <tr style=\"text-align: right;\">\n",
       "      <th></th>\n",
       "      <th>name</th>\n",
       "      <th>physics</th>\n",
       "      <th>maths</th>\n",
       "      <th>compsci</th>\n",
       "    </tr>\n",
       "  </thead>\n",
       "  <tbody>\n",
       "    <tr>\n",
       "      <th>0</th>\n",
       "      <td>john</td>\n",
       "      <td>66</td>\n",
       "      <td>78</td>\n",
       "      <td>89</td>\n",
       "    </tr>\n",
       "    <tr>\n",
       "      <th>1</th>\n",
       "      <td>adrian</td>\n",
       "      <td>82</td>\n",
       "      <td>73</td>\n",
       "      <td>91</td>\n",
       "    </tr>\n",
       "    <tr>\n",
       "      <th>2</th>\n",
       "      <td>bourne</td>\n",
       "      <td>73</td>\n",
       "      <td>94</td>\n",
       "      <td>86</td>\n",
       "    </tr>\n",
       "    <tr>\n",
       "      <th>3</th>\n",
       "      <td>smith</td>\n",
       "      <td>62</td>\n",
       "      <td>65</td>\n",
       "      <td>68</td>\n",
       "    </tr>\n",
       "    <tr>\n",
       "      <th>4</th>\n",
       "      <td>jane</td>\n",
       "      <td>79</td>\n",
       "      <td>84</td>\n",
       "      <td>89</td>\n",
       "    </tr>\n",
       "    <tr>\n",
       "      <th>5</th>\n",
       "      <td>david</td>\n",
       "      <td>84</td>\n",
       "      <td>87</td>\n",
       "      <td>82</td>\n",
       "    </tr>\n",
       "    <tr>\n",
       "      <th>6</th>\n",
       "      <td>emily</td>\n",
       "      <td>80</td>\n",
       "      <td>93</td>\n",
       "      <td>84</td>\n",
       "    </tr>\n",
       "    <tr>\n",
       "      <th>7</th>\n",
       "      <td>floyd</td>\n",
       "      <td>87</td>\n",
       "      <td>86</td>\n",
       "      <td>92</td>\n",
       "    </tr>\n",
       "    <tr>\n",
       "      <th>8</th>\n",
       "      <td>gary</td>\n",
       "      <td>78</td>\n",
       "      <td>72</td>\n",
       "      <td>84</td>\n",
       "    </tr>\n",
       "  </tbody>\n",
       "</table>\n",
       "</div>"
      ],
      "text/plain": [
       "     name physics maths compsci\n",
       "0    john      66    78      89\n",
       "1  adrian      82    73      91\n",
       "2  bourne      73    94      86\n",
       "3   smith      62    65      68\n",
       "4    jane      79    84      89\n",
       "5   david      84    87      82\n",
       "6   emily      80    93      84\n",
       "7   floyd      87    86      92\n",
       "8    gary      78    72      84"
      ]
     },
     "execution_count": 8,
     "metadata": {},
     "output_type": "execute_result"
    }
   ],
   "source": [
    "from collections import OrderedDict\n",
    "\n",
    "data = [\n",
    " OrderedDict([('name', 'john'),\n",
    "              ('physics', '66'),\n",
    "              ('maths', '78'),\n",
    "              ('compsci', '89')]),\n",
    " OrderedDict([('name', 'adrian'),\n",
    "              ('physics', '82'),\n",
    "              ('maths', '73'),\n",
    "              ('compsci', '91')]),\n",
    " OrderedDict([('name', 'bourne'),\n",
    "              ('physics', '73'),\n",
    "              ('maths', '94'),\n",
    "              ('compsci', '86')]),\n",
    " OrderedDict([('name', 'smith'),\n",
    "              ('physics', '62'),\n",
    "              ('maths', '65'),\n",
    "              ('compsci', '68')]),\n",
    " OrderedDict([('name', 'jane'),\n",
    "              ('physics', '79'),\n",
    "              ('maths', '84'),\n",
    "              ('compsci', '89')]),\n",
    " OrderedDict([('name', 'david'),\n",
    "              ('physics', '84'),\n",
    "              ('maths', '87'),\n",
    "              ('compsci', '82')]),\n",
    " OrderedDict([('name', 'emily'),\n",
    "              ('physics', '80'),\n",
    "              ('maths', '93'),\n",
    "              ('compsci', '84')]),\n",
    " OrderedDict([('name', 'floyd'),\n",
    "              ('physics', '87'),\n",
    "              ('maths', '86'),\n",
    "              ('compsci', '92')]),\n",
    " OrderedDict([('name', 'gary'),\n",
    "              ('physics', '78'),\n",
    "              ('maths', '72'),\n",
    "              ('compsci', '84')])]\n",
    "\n",
    "df = pd.DataFrame(data)\n",
    "df"
   ]
  },
  {
   "cell_type": "code",
   "execution_count": 9,
   "metadata": {},
   "outputs": [
    {
     "data": {
      "text/html": [
       "<div>\n",
       "<style scoped>\n",
       "    .dataframe tbody tr th:only-of-type {\n",
       "        vertical-align: middle;\n",
       "    }\n",
       "\n",
       "    .dataframe tbody tr th {\n",
       "        vertical-align: top;\n",
       "    }\n",
       "\n",
       "    .dataframe thead th {\n",
       "        text-align: right;\n",
       "    }\n",
       "</style>\n",
       "<table border=\"1\" class=\"dataframe\">\n",
       "  <thead>\n",
       "    <tr style=\"text-align: right;\">\n",
       "      <th></th>\n",
       "      <th>name</th>\n",
       "      <th>physics</th>\n",
       "      <th>maths</th>\n",
       "      <th>compsci</th>\n",
       "    </tr>\n",
       "  </thead>\n",
       "  <tbody>\n",
       "    <tr>\n",
       "      <th>0</th>\n",
       "      <td>john</td>\n",
       "      <td>66</td>\n",
       "      <td>78</td>\n",
       "      <td>89</td>\n",
       "    </tr>\n",
       "    <tr>\n",
       "      <th>1</th>\n",
       "      <td>adrian</td>\n",
       "      <td>82</td>\n",
       "      <td>73</td>\n",
       "      <td>91</td>\n",
       "    </tr>\n",
       "    <tr>\n",
       "      <th>2</th>\n",
       "      <td>bourne</td>\n",
       "      <td>73</td>\n",
       "      <td>94</td>\n",
       "      <td>86</td>\n",
       "    </tr>\n",
       "    <tr>\n",
       "      <th>3</th>\n",
       "      <td>smith</td>\n",
       "      <td>62</td>\n",
       "      <td>65</td>\n",
       "      <td>68</td>\n",
       "    </tr>\n",
       "    <tr>\n",
       "      <th>4</th>\n",
       "      <td>jane</td>\n",
       "      <td>79</td>\n",
       "      <td>84</td>\n",
       "      <td>89</td>\n",
       "    </tr>\n",
       "    <tr>\n",
       "      <th>5</th>\n",
       "      <td>david</td>\n",
       "      <td>84</td>\n",
       "      <td>87</td>\n",
       "      <td>82</td>\n",
       "    </tr>\n",
       "    <tr>\n",
       "      <th>6</th>\n",
       "      <td>emily</td>\n",
       "      <td>80</td>\n",
       "      <td>93</td>\n",
       "      <td>84</td>\n",
       "    </tr>\n",
       "    <tr>\n",
       "      <th>7</th>\n",
       "      <td>floyd</td>\n",
       "      <td>87</td>\n",
       "      <td>86</td>\n",
       "      <td>92</td>\n",
       "    </tr>\n",
       "    <tr>\n",
       "      <th>8</th>\n",
       "      <td>gary</td>\n",
       "      <td>78</td>\n",
       "      <td>72</td>\n",
       "      <td>84</td>\n",
       "    </tr>\n",
       "  </tbody>\n",
       "</table>\n",
       "</div>"
      ],
      "text/plain": [
       "     name  physics  maths  compsci\n",
       "0    john       66     78       89\n",
       "1  adrian       82     73       91\n",
       "2  bourne       73     94       86\n",
       "3   smith       62     65       68\n",
       "4    jane       79     84       89\n",
       "5   david       84     87       82\n",
       "6   emily       80     93       84\n",
       "7   floyd       87     86       92\n",
       "8    gary       78     72       84"
      ]
     },
     "execution_count": 9,
     "metadata": {},
     "output_type": "execute_result"
    }
   ],
   "source": [
    "data = {\n",
    "    'name': ['john', 'adrian', 'bourne', 'smith', 'jane', 'david', 'emily', 'floyd', 'gary'],\n",
    "    'physics': [66, 82, 73, 62, 79, 84, 80, 87, 78],\n",
    "    'maths': [78, 73, 94, 65, 84, 87, 93, 86, 72],\n",
    "    'compsci': [89, 91, 86, 68, 89, 82, 84, 92, 84]\n",
    "}\n",
    "\n",
    "df = pd.DataFrame(data)\n",
    "df\n",
    " \n"
   ]
  },
  {
   "cell_type": "code",
   "execution_count": 10,
   "metadata": {},
   "outputs": [],
   "source": [
    "data = {\n",
    "    'name': ['john', 'adrian', 'bourne', 'smith', 'jane', 'david', 'emily', 'floyd', 'gary'],\n",
    "    'physics': [66, 82, 73, 62, 79, 84, 80, 87, 78],\n",
    "    'maths': [78, 73, 94, 65, 84, 87, 93, 86, 72],\n",
    "    'compsci': [89, 91, 86, 68, 89, 82, 84, 92, 84]\n",
    "}\n",
    "\n",
    "df = pd.DataFrame(data)\n",
    "df.to_excel(\"scores.xlsx\")\n",
    " \n"
   ]
  },
  {
   "cell_type": "code",
   "execution_count": 31,
   "metadata": {
    "scrolled": true
   },
   "outputs": [
    {
     "data": {
      "text/html": [
       "<div>\n",
       "<style scoped>\n",
       "    .dataframe tbody tr th:only-of-type {\n",
       "        vertical-align: middle;\n",
       "    }\n",
       "\n",
       "    .dataframe tbody tr th {\n",
       "        vertical-align: top;\n",
       "    }\n",
       "\n",
       "    .dataframe thead th {\n",
       "        text-align: right;\n",
       "    }\n",
       "</style>\n",
       "<table border=\"1\" class=\"dataframe\">\n",
       "  <thead>\n",
       "    <tr style=\"text-align: right;\">\n",
       "      <th></th>\n",
       "      <th>name</th>\n",
       "      <th>physics</th>\n",
       "      <th>maths</th>\n",
       "      <th>compsci</th>\n",
       "    </tr>\n",
       "  </thead>\n",
       "  <tbody>\n",
       "    <tr>\n",
       "      <th>0</th>\n",
       "      <td>JOHN</td>\n",
       "      <td>66</td>\n",
       "      <td>78</td>\n",
       "      <td>89</td>\n",
       "    </tr>\n",
       "    <tr>\n",
       "      <th>1</th>\n",
       "      <td>ADRIAN</td>\n",
       "      <td>82</td>\n",
       "      <td>73</td>\n",
       "      <td>91</td>\n",
       "    </tr>\n",
       "    <tr>\n",
       "      <th>2</th>\n",
       "      <td>BOURNE</td>\n",
       "      <td>73</td>\n",
       "      <td>94</td>\n",
       "      <td>86</td>\n",
       "    </tr>\n",
       "    <tr>\n",
       "      <th>3</th>\n",
       "      <td>SMITH</td>\n",
       "      <td>62</td>\n",
       "      <td>65</td>\n",
       "      <td>68</td>\n",
       "    </tr>\n",
       "    <tr>\n",
       "      <th>4</th>\n",
       "      <td>JANE</td>\n",
       "      <td>79</td>\n",
       "      <td>84</td>\n",
       "      <td>89</td>\n",
       "    </tr>\n",
       "    <tr>\n",
       "      <th>5</th>\n",
       "      <td>DAVID</td>\n",
       "      <td>84</td>\n",
       "      <td>87</td>\n",
       "      <td>82</td>\n",
       "    </tr>\n",
       "    <tr>\n",
       "      <th>6</th>\n",
       "      <td>EMILY</td>\n",
       "      <td>80</td>\n",
       "      <td>93</td>\n",
       "      <td>84</td>\n",
       "    </tr>\n",
       "    <tr>\n",
       "      <th>7</th>\n",
       "      <td>FLOYD</td>\n",
       "      <td>87</td>\n",
       "      <td>86</td>\n",
       "      <td>92</td>\n",
       "    </tr>\n",
       "    <tr>\n",
       "      <th>8</th>\n",
       "      <td>GARY</td>\n",
       "      <td>78</td>\n",
       "      <td>72</td>\n",
       "      <td>84</td>\n",
       "    </tr>\n",
       "  </tbody>\n",
       "</table>\n",
       "</div>"
      ],
      "text/plain": [
       "     name  physics  maths  compsci\n",
       "0    JOHN       66     78       89\n",
       "1  ADRIAN       82     73       91\n",
       "2  BOURNE       73     94       86\n",
       "3   SMITH       62     65       68\n",
       "4    JANE       79     84       89\n",
       "5   DAVID       84     87       82\n",
       "6   EMILY       80     93       84\n",
       "7   FLOYD       87     86       92\n",
       "8    GARY       78     72       84"
      ]
     },
     "execution_count": 31,
     "metadata": {},
     "output_type": "execute_result"
    }
   ],
   "source": [
    "data = {\n",
    "    'name': ['john', 'adrian', 'bourne', 'smith', 'jane', 'david', 'emily', 'floyd', 'gary'],\n",
    "    'physics': [66, 82, 73, 62, 79, 84, 80, 87, 78],\n",
    "    'maths': [78, 73, 94, 65, 84, 87, 93, 86, 72],\n",
    "    'compsci': [89, 91, 86, 68, 89, 82, 84, 92, 84]\n",
    "}\n",
    "\n",
    "df = pd.DataFrame(data)\n",
    "df[\"name\"] = df[\"name\"].apply(lambda x: x.upper())\n",
    "df"
   ]
  },
  {
   "cell_type": "code",
   "execution_count": 12,
   "metadata": {},
   "outputs": [
    {
     "data": {
      "text/plain": [
       "RangeIndex(start=0, stop=9, step=1)"
      ]
     },
     "execution_count": 12,
     "metadata": {},
     "output_type": "execute_result"
    }
   ],
   "source": [
    "df.index"
   ]
  },
  {
   "cell_type": "code",
   "execution_count": 13,
   "metadata": {
    "scrolled": true
   },
   "outputs": [
    {
     "data": {
      "text/html": [
       "<div>\n",
       "<style scoped>\n",
       "    .dataframe tbody tr th:only-of-type {\n",
       "        vertical-align: middle;\n",
       "    }\n",
       "\n",
       "    .dataframe tbody tr th {\n",
       "        vertical-align: top;\n",
       "    }\n",
       "\n",
       "    .dataframe thead th {\n",
       "        text-align: right;\n",
       "    }\n",
       "</style>\n",
       "<table border=\"1\" class=\"dataframe\">\n",
       "  <thead>\n",
       "    <tr style=\"text-align: right;\">\n",
       "      <th></th>\n",
       "      <th>name</th>\n",
       "      <th>physics</th>\n",
       "    </tr>\n",
       "  </thead>\n",
       "  <tbody>\n",
       "    <tr>\n",
       "      <th>0</th>\n",
       "      <td>JOHN</td>\n",
       "      <td>66</td>\n",
       "    </tr>\n",
       "    <tr>\n",
       "      <th>1</th>\n",
       "      <td>ADRIAN</td>\n",
       "      <td>82</td>\n",
       "    </tr>\n",
       "    <tr>\n",
       "      <th>2</th>\n",
       "      <td>BOURNE</td>\n",
       "      <td>73</td>\n",
       "    </tr>\n",
       "    <tr>\n",
       "      <th>3</th>\n",
       "      <td>SMITH</td>\n",
       "      <td>62</td>\n",
       "    </tr>\n",
       "  </tbody>\n",
       "</table>\n",
       "</div>"
      ],
      "text/plain": [
       "     name  physics\n",
       "0    JOHN       66\n",
       "1  ADRIAN       82\n",
       "2  BOURNE       73\n",
       "3   SMITH       62"
      ]
     },
     "execution_count": 13,
     "metadata": {},
     "output_type": "execute_result"
    }
   ],
   "source": [
    "df[:4][[\"name\", \"physics\"]]"
   ]
  },
  {
   "cell_type": "code",
   "execution_count": 14,
   "metadata": {
    "scrolled": false
   },
   "outputs": [
    {
     "data": {
      "text/plain": [
       "87"
      ]
     },
     "execution_count": 14,
     "metadata": {},
     "output_type": "execute_result"
    }
   ],
   "source": [
    "df[\"physics\"].max()"
   ]
  },
  {
   "cell_type": "code",
   "execution_count": 15,
   "metadata": {
    "scrolled": false
   },
   "outputs": [
    {
     "data": {
      "text/html": [
       "<div>\n",
       "<style scoped>\n",
       "    .dataframe tbody tr th:only-of-type {\n",
       "        vertical-align: middle;\n",
       "    }\n",
       "\n",
       "    .dataframe tbody tr th {\n",
       "        vertical-align: top;\n",
       "    }\n",
       "\n",
       "    .dataframe thead th {\n",
       "        text-align: right;\n",
       "    }\n",
       "</style>\n",
       "<table border=\"1\" class=\"dataframe\">\n",
       "  <thead>\n",
       "    <tr style=\"text-align: right;\">\n",
       "      <th></th>\n",
       "      <th>name</th>\n",
       "      <th>maths</th>\n",
       "    </tr>\n",
       "  </thead>\n",
       "  <tbody>\n",
       "    <tr>\n",
       "      <th>0</th>\n",
       "      <td>JOHN</td>\n",
       "      <td>78</td>\n",
       "    </tr>\n",
       "    <tr>\n",
       "      <th>1</th>\n",
       "      <td>ADRIAN</td>\n",
       "      <td>73</td>\n",
       "    </tr>\n",
       "    <tr>\n",
       "      <th>2</th>\n",
       "      <td>BOURNE</td>\n",
       "      <td>94</td>\n",
       "    </tr>\n",
       "    <tr>\n",
       "      <th>3</th>\n",
       "      <td>SMITH</td>\n",
       "      <td>65</td>\n",
       "    </tr>\n",
       "    <tr>\n",
       "      <th>4</th>\n",
       "      <td>JANE</td>\n",
       "      <td>84</td>\n",
       "    </tr>\n",
       "    <tr>\n",
       "      <th>5</th>\n",
       "      <td>DAVID</td>\n",
       "      <td>87</td>\n",
       "    </tr>\n",
       "    <tr>\n",
       "      <th>6</th>\n",
       "      <td>EMILY</td>\n",
       "      <td>93</td>\n",
       "    </tr>\n",
       "    <tr>\n",
       "      <th>7</th>\n",
       "      <td>FLOYD</td>\n",
       "      <td>86</td>\n",
       "    </tr>\n",
       "    <tr>\n",
       "      <th>8</th>\n",
       "      <td>GARY</td>\n",
       "      <td>72</td>\n",
       "    </tr>\n",
       "  </tbody>\n",
       "</table>\n",
       "</div>"
      ],
      "text/plain": [
       "     name  maths\n",
       "0    JOHN     78\n",
       "1  ADRIAN     73\n",
       "2  BOURNE     94\n",
       "3   SMITH     65\n",
       "4    JANE     84\n",
       "5   DAVID     87\n",
       "6   EMILY     93\n",
       "7   FLOYD     86\n",
       "8    GARY     72"
      ]
     },
     "execution_count": 15,
     "metadata": {},
     "output_type": "execute_result"
    }
   ],
   "source": [
    "df[[\"name\", \"maths\"]]"
   ]
  },
  {
   "cell_type": "code",
   "execution_count": 16,
   "metadata": {
    "scrolled": true
   },
   "outputs": [
    {
     "data": {
      "text/plain": [
       "0      JOHN\n",
       "1    ADRIAN\n",
       "2    BOURNE\n",
       "3     SMITH\n",
       "Name: name, dtype: object"
      ]
     },
     "execution_count": 16,
     "metadata": {},
     "output_type": "execute_result"
    }
   ],
   "source": [
    "df[:4][\"name\"]"
   ]
  },
  {
   "cell_type": "code",
   "execution_count": 17,
   "metadata": {
    "scrolled": true
   },
   "outputs": [
    {
     "data": {
      "text/plain": [
       "0    78\n",
       "1    73\n",
       "2    94\n",
       "3    65\n",
       "4    84\n",
       "5    87\n",
       "6    93\n",
       "7    86\n",
       "8    72\n",
       "Name: maths, dtype: int64"
      ]
     },
     "execution_count": 17,
     "metadata": {},
     "output_type": "execute_result"
    }
   ],
   "source": [
    "df.maths"
   ]
  },
  {
   "cell_type": "code",
   "execution_count": 18,
   "metadata": {},
   "outputs": [
    {
     "data": {
      "text/plain": [
       "Index(['name', 'physics', 'maths', 'compsci'], dtype='object')"
      ]
     },
     "execution_count": 18,
     "metadata": {},
     "output_type": "execute_result"
    }
   ],
   "source": [
    "df.columns"
   ]
  },
  {
   "cell_type": "code",
   "execution_count": 19,
   "metadata": {},
   "outputs": [
    {
     "data": {
      "text/plain": [
       "RangeIndex(start=0, stop=9, step=1)"
      ]
     },
     "execution_count": 19,
     "metadata": {},
     "output_type": "execute_result"
    }
   ],
   "source": [
    "df.index"
   ]
  },
  {
   "cell_type": "code",
   "execution_count": 20,
   "metadata": {},
   "outputs": [
    {
     "data": {
      "text/plain": [
       "94"
      ]
     },
     "execution_count": 20,
     "metadata": {},
     "output_type": "execute_result"
    }
   ],
   "source": [
    "df.maths.max()"
   ]
  },
  {
   "cell_type": "code",
   "execution_count": 21,
   "metadata": {},
   "outputs": [
    {
     "data": {
      "text/html": [
       "<div>\n",
       "<style scoped>\n",
       "    .dataframe tbody tr th:only-of-type {\n",
       "        vertical-align: middle;\n",
       "    }\n",
       "\n",
       "    .dataframe tbody tr th {\n",
       "        vertical-align: top;\n",
       "    }\n",
       "\n",
       "    .dataframe thead th {\n",
       "        text-align: right;\n",
       "    }\n",
       "</style>\n",
       "<table border=\"1\" class=\"dataframe\">\n",
       "  <thead>\n",
       "    <tr style=\"text-align: right;\">\n",
       "      <th></th>\n",
       "      <th>name</th>\n",
       "      <th>physics</th>\n",
       "      <th>maths</th>\n",
       "      <th>compsci</th>\n",
       "    </tr>\n",
       "  </thead>\n",
       "  <tbody>\n",
       "    <tr>\n",
       "      <th>2</th>\n",
       "      <td>BOURNE</td>\n",
       "      <td>73</td>\n",
       "      <td>94</td>\n",
       "      <td>86</td>\n",
       "    </tr>\n",
       "  </tbody>\n",
       "</table>\n",
       "</div>"
      ],
      "text/plain": [
       "     name  physics  maths  compsci\n",
       "2  BOURNE       73     94       86"
      ]
     },
     "execution_count": 21,
     "metadata": {},
     "output_type": "execute_result"
    }
   ],
   "source": [
    "df[df[\"maths\"] == df[\"maths\"].max()]"
   ]
  },
  {
   "cell_type": "code",
   "execution_count": 22,
   "metadata": {},
   "outputs": [
    {
     "data": {
      "text/plain": [
       "2    BOURNE\n",
       "Name: name, dtype: object"
      ]
     },
     "execution_count": 22,
     "metadata": {},
     "output_type": "execute_result"
    }
   ],
   "source": [
    "df[\"name\"][df[\"maths\"] == df[\"maths\"].max()]"
   ]
  },
  {
   "cell_type": "code",
   "execution_count": 24,
   "metadata": {},
   "outputs": [
    {
     "data": {
      "text/plain": [
       "2    BOURNE\n",
       "Name: name, dtype: object"
      ]
     },
     "execution_count": 24,
     "metadata": {},
     "output_type": "execute_result"
    }
   ],
   "source": [
    "df[df[\"maths\"] == df[\"maths\"].max()][\"name\"]"
   ]
  },
  {
   "cell_type": "code",
   "execution_count": 32,
   "metadata": {},
   "outputs": [
    {
     "data": {
      "text/plain": [
       "0      JOHN\n",
       "1    ADRIAN\n",
       "2    BOURNE\n",
       "3     SMITH\n",
       "4      JANE\n",
       "5     DAVID\n",
       "6     EMILY\n",
       "7     FLOYD\n",
       "8      GARY\n",
       "Name: name, dtype: object"
      ]
     },
     "execution_count": 32,
     "metadata": {},
     "output_type": "execute_result"
    }
   ],
   "source": [
    "df[\"name\"]"
   ]
  },
  {
   "cell_type": "code",
   "execution_count": 33,
   "metadata": {
    "scrolled": false
   },
   "outputs": [
    {
     "data": {
      "text/html": [
       "<div>\n",
       "<style scoped>\n",
       "    .dataframe tbody tr th:only-of-type {\n",
       "        vertical-align: middle;\n",
       "    }\n",
       "\n",
       "    .dataframe tbody tr th {\n",
       "        vertical-align: top;\n",
       "    }\n",
       "\n",
       "    .dataframe thead th {\n",
       "        text-align: right;\n",
       "    }\n",
       "</style>\n",
       "<table border=\"1\" class=\"dataframe\">\n",
       "  <thead>\n",
       "    <tr style=\"text-align: right;\">\n",
       "      <th></th>\n",
       "      <th>physics</th>\n",
       "      <th>maths</th>\n",
       "      <th>compsci</th>\n",
       "    </tr>\n",
       "    <tr>\n",
       "      <th>name</th>\n",
       "      <th></th>\n",
       "      <th></th>\n",
       "      <th></th>\n",
       "    </tr>\n",
       "  </thead>\n",
       "  <tbody>\n",
       "    <tr>\n",
       "      <th>JOHN</th>\n",
       "      <td>66</td>\n",
       "      <td>78</td>\n",
       "      <td>89</td>\n",
       "    </tr>\n",
       "    <tr>\n",
       "      <th>ADRIAN</th>\n",
       "      <td>82</td>\n",
       "      <td>73</td>\n",
       "      <td>91</td>\n",
       "    </tr>\n",
       "    <tr>\n",
       "      <th>BOURNE</th>\n",
       "      <td>73</td>\n",
       "      <td>94</td>\n",
       "      <td>86</td>\n",
       "    </tr>\n",
       "    <tr>\n",
       "      <th>SMITH</th>\n",
       "      <td>62</td>\n",
       "      <td>65</td>\n",
       "      <td>68</td>\n",
       "    </tr>\n",
       "    <tr>\n",
       "      <th>JANE</th>\n",
       "      <td>79</td>\n",
       "      <td>84</td>\n",
       "      <td>89</td>\n",
       "    </tr>\n",
       "    <tr>\n",
       "      <th>DAVID</th>\n",
       "      <td>84</td>\n",
       "      <td>87</td>\n",
       "      <td>82</td>\n",
       "    </tr>\n",
       "    <tr>\n",
       "      <th>EMILY</th>\n",
       "      <td>80</td>\n",
       "      <td>93</td>\n",
       "      <td>84</td>\n",
       "    </tr>\n",
       "    <tr>\n",
       "      <th>FLOYD</th>\n",
       "      <td>87</td>\n",
       "      <td>86</td>\n",
       "      <td>92</td>\n",
       "    </tr>\n",
       "    <tr>\n",
       "      <th>GARY</th>\n",
       "      <td>78</td>\n",
       "      <td>72</td>\n",
       "      <td>84</td>\n",
       "    </tr>\n",
       "  </tbody>\n",
       "</table>\n",
       "</div>"
      ],
      "text/plain": [
       "        physics  maths  compsci\n",
       "name                           \n",
       "JOHN         66     78       89\n",
       "ADRIAN       82     73       91\n",
       "BOURNE       73     94       86\n",
       "SMITH        62     65       68\n",
       "JANE         79     84       89\n",
       "DAVID        84     87       82\n",
       "EMILY        80     93       84\n",
       "FLOYD        87     86       92\n",
       "GARY         78     72       84"
      ]
     },
     "execution_count": 33,
     "metadata": {},
     "output_type": "execute_result"
    }
   ],
   "source": [
    "df.set_index(\"name\", inplace=True)\n",
    "#df.reset_index()\n",
    "df"
   ]
  },
  {
   "cell_type": "code",
   "execution_count": 35,
   "metadata": {},
   "outputs": [
    {
     "data": {
      "text/plain": [
       "Index(['JOHN', 'ADRIAN', 'BOURNE', 'SMITH', 'JANE', 'DAVID', 'EMILY', 'FLOYD',\n",
       "       'GARY'],\n",
       "      dtype='object', name='name')"
      ]
     },
     "execution_count": 35,
     "metadata": {},
     "output_type": "execute_result"
    }
   ],
   "source": [
    "df.index"
   ]
  },
  {
   "cell_type": "code",
   "execution_count": 36,
   "metadata": {},
   "outputs": [
    {
     "data": {
      "text/plain": [
       "Index(['JOHN'], dtype='object', name='name')"
      ]
     },
     "execution_count": 36,
     "metadata": {},
     "output_type": "execute_result"
    }
   ],
   "source": [
    "df.index[:1]"
   ]
  },
  {
   "cell_type": "code",
   "execution_count": 39,
   "metadata": {
    "scrolled": true
   },
   "outputs": [],
   "source": [
    "df.reset_index(inplace=True)"
   ]
  },
  {
   "cell_type": "code",
   "execution_count": 40,
   "metadata": {},
   "outputs": [
    {
     "data": {
      "text/html": [
       "<div>\n",
       "<style scoped>\n",
       "    .dataframe tbody tr th:only-of-type {\n",
       "        vertical-align: middle;\n",
       "    }\n",
       "\n",
       "    .dataframe tbody tr th {\n",
       "        vertical-align: top;\n",
       "    }\n",
       "\n",
       "    .dataframe thead th {\n",
       "        text-align: right;\n",
       "    }\n",
       "</style>\n",
       "<table border=\"1\" class=\"dataframe\">\n",
       "  <thead>\n",
       "    <tr style=\"text-align: right;\">\n",
       "      <th></th>\n",
       "      <th>name</th>\n",
       "      <th>physics</th>\n",
       "      <th>maths</th>\n",
       "      <th>compsci</th>\n",
       "    </tr>\n",
       "  </thead>\n",
       "  <tbody>\n",
       "    <tr>\n",
       "      <th>0</th>\n",
       "      <td>JOHN</td>\n",
       "      <td>66</td>\n",
       "      <td>78</td>\n",
       "      <td>89</td>\n",
       "    </tr>\n",
       "    <tr>\n",
       "      <th>1</th>\n",
       "      <td>ADRIAN</td>\n",
       "      <td>82</td>\n",
       "      <td>73</td>\n",
       "      <td>91</td>\n",
       "    </tr>\n",
       "    <tr>\n",
       "      <th>2</th>\n",
       "      <td>BOURNE</td>\n",
       "      <td>73</td>\n",
       "      <td>94</td>\n",
       "      <td>86</td>\n",
       "    </tr>\n",
       "    <tr>\n",
       "      <th>3</th>\n",
       "      <td>SMITH</td>\n",
       "      <td>62</td>\n",
       "      <td>65</td>\n",
       "      <td>68</td>\n",
       "    </tr>\n",
       "    <tr>\n",
       "      <th>4</th>\n",
       "      <td>JANE</td>\n",
       "      <td>79</td>\n",
       "      <td>84</td>\n",
       "      <td>89</td>\n",
       "    </tr>\n",
       "    <tr>\n",
       "      <th>5</th>\n",
       "      <td>DAVID</td>\n",
       "      <td>84</td>\n",
       "      <td>87</td>\n",
       "      <td>82</td>\n",
       "    </tr>\n",
       "    <tr>\n",
       "      <th>6</th>\n",
       "      <td>EMILY</td>\n",
       "      <td>80</td>\n",
       "      <td>93</td>\n",
       "      <td>84</td>\n",
       "    </tr>\n",
       "    <tr>\n",
       "      <th>7</th>\n",
       "      <td>FLOYD</td>\n",
       "      <td>87</td>\n",
       "      <td>86</td>\n",
       "      <td>92</td>\n",
       "    </tr>\n",
       "    <tr>\n",
       "      <th>8</th>\n",
       "      <td>GARY</td>\n",
       "      <td>78</td>\n",
       "      <td>72</td>\n",
       "      <td>84</td>\n",
       "    </tr>\n",
       "  </tbody>\n",
       "</table>\n",
       "</div>"
      ],
      "text/plain": [
       "     name  physics  maths  compsci\n",
       "0    JOHN       66     78       89\n",
       "1  ADRIAN       82     73       91\n",
       "2  BOURNE       73     94       86\n",
       "3   SMITH       62     65       68\n",
       "4    JANE       79     84       89\n",
       "5   DAVID       84     87       82\n",
       "6   EMILY       80     93       84\n",
       "7   FLOYD       87     86       92\n",
       "8    GARY       78     72       84"
      ]
     },
     "execution_count": 40,
     "metadata": {},
     "output_type": "execute_result"
    }
   ],
   "source": [
    "df"
   ]
  },
  {
   "cell_type": "code",
   "execution_count": 41,
   "metadata": {},
   "outputs": [
    {
     "data": {
      "text/plain": [
       "5"
      ]
     },
     "execution_count": 41,
     "metadata": {},
     "output_type": "execute_result"
    }
   ],
   "source": [
    "df[\"name\"][df[\"compsci\"] > 85].count()"
   ]
  },
  {
   "cell_type": "code",
   "execution_count": 46,
   "metadata": {},
   "outputs": [
    {
     "data": {
      "text/html": [
       "<div>\n",
       "<style scoped>\n",
       "    .dataframe tbody tr th:only-of-type {\n",
       "        vertical-align: middle;\n",
       "    }\n",
       "\n",
       "    .dataframe tbody tr th {\n",
       "        vertical-align: top;\n",
       "    }\n",
       "\n",
       "    .dataframe thead th {\n",
       "        text-align: right;\n",
       "    }\n",
       "</style>\n",
       "<table border=\"1\" class=\"dataframe\">\n",
       "  <thead>\n",
       "    <tr style=\"text-align: right;\">\n",
       "      <th>name</th>\n",
       "      <th>ADRIAN</th>\n",
       "      <th>BOURNE</th>\n",
       "      <th>DAVID</th>\n",
       "      <th>EMILY</th>\n",
       "      <th>FLOYD</th>\n",
       "      <th>GARY</th>\n",
       "      <th>JANE</th>\n",
       "      <th>JOHN</th>\n",
       "      <th>SMITH</th>\n",
       "    </tr>\n",
       "  </thead>\n",
       "  <tbody>\n",
       "    <tr>\n",
       "      <th>compsci</th>\n",
       "      <td>91</td>\n",
       "      <td>86</td>\n",
       "      <td>82</td>\n",
       "      <td>84</td>\n",
       "      <td>92</td>\n",
       "      <td>84</td>\n",
       "      <td>89</td>\n",
       "      <td>89</td>\n",
       "      <td>68</td>\n",
       "    </tr>\n",
       "    <tr>\n",
       "      <th>maths</th>\n",
       "      <td>73</td>\n",
       "      <td>94</td>\n",
       "      <td>87</td>\n",
       "      <td>93</td>\n",
       "      <td>86</td>\n",
       "      <td>72</td>\n",
       "      <td>84</td>\n",
       "      <td>78</td>\n",
       "      <td>65</td>\n",
       "    </tr>\n",
       "    <tr>\n",
       "      <th>physics</th>\n",
       "      <td>82</td>\n",
       "      <td>73</td>\n",
       "      <td>84</td>\n",
       "      <td>80</td>\n",
       "      <td>87</td>\n",
       "      <td>78</td>\n",
       "      <td>79</td>\n",
       "      <td>66</td>\n",
       "      <td>62</td>\n",
       "    </tr>\n",
       "  </tbody>\n",
       "</table>\n",
       "</div>"
      ],
      "text/plain": [
       "name     ADRIAN  BOURNE  DAVID  EMILY  FLOYD  GARY  JANE  JOHN  SMITH\n",
       "compsci      91      86     82     84     92    84    89    89     68\n",
       "maths        73      94     87     93     86    72    84    78     65\n",
       "physics      82      73     84     80     87    78    79    66     62"
      ]
     },
     "execution_count": 46,
     "metadata": {},
     "output_type": "execute_result"
    }
   ],
   "source": [
    "pt = df.pivot_table(columns=[\"name\"])\n",
    "pt"
   ]
  },
  {
   "cell_type": "code",
   "execution_count": 49,
   "metadata": {},
   "outputs": [
    {
     "data": {
      "text/html": [
       "<div>\n",
       "<style scoped>\n",
       "    .dataframe tbody tr th:only-of-type {\n",
       "        vertical-align: middle;\n",
       "    }\n",
       "\n",
       "    .dataframe tbody tr th {\n",
       "        vertical-align: top;\n",
       "    }\n",
       "\n",
       "    .dataframe thead tr th {\n",
       "        text-align: left;\n",
       "    }\n",
       "\n",
       "    .dataframe thead tr:last-of-type th {\n",
       "        text-align: right;\n",
       "    }\n",
       "</style>\n",
       "<table border=\"1\" class=\"dataframe\">\n",
       "  <thead>\n",
       "    <tr>\n",
       "      <th></th>\n",
       "      <th colspan=\"9\" halign=\"left\">name</th>\n",
       "    </tr>\n",
       "    <tr>\n",
       "      <th>maths</th>\n",
       "      <th>65</th>\n",
       "      <th>72</th>\n",
       "      <th>73</th>\n",
       "      <th>78</th>\n",
       "      <th>84</th>\n",
       "      <th>86</th>\n",
       "      <th>87</th>\n",
       "      <th>93</th>\n",
       "      <th>94</th>\n",
       "    </tr>\n",
       "    <tr>\n",
       "      <th>physics</th>\n",
       "      <th></th>\n",
       "      <th></th>\n",
       "      <th></th>\n",
       "      <th></th>\n",
       "      <th></th>\n",
       "      <th></th>\n",
       "      <th></th>\n",
       "      <th></th>\n",
       "      <th></th>\n",
       "    </tr>\n",
       "  </thead>\n",
       "  <tbody>\n",
       "    <tr>\n",
       "      <th>62</th>\n",
       "      <td>SMITH</td>\n",
       "      <td>NaN</td>\n",
       "      <td>NaN</td>\n",
       "      <td>NaN</td>\n",
       "      <td>NaN</td>\n",
       "      <td>NaN</td>\n",
       "      <td>NaN</td>\n",
       "      <td>NaN</td>\n",
       "      <td>NaN</td>\n",
       "    </tr>\n",
       "    <tr>\n",
       "      <th>66</th>\n",
       "      <td>NaN</td>\n",
       "      <td>NaN</td>\n",
       "      <td>NaN</td>\n",
       "      <td>JOHN</td>\n",
       "      <td>NaN</td>\n",
       "      <td>NaN</td>\n",
       "      <td>NaN</td>\n",
       "      <td>NaN</td>\n",
       "      <td>NaN</td>\n",
       "    </tr>\n",
       "    <tr>\n",
       "      <th>73</th>\n",
       "      <td>NaN</td>\n",
       "      <td>NaN</td>\n",
       "      <td>NaN</td>\n",
       "      <td>NaN</td>\n",
       "      <td>NaN</td>\n",
       "      <td>NaN</td>\n",
       "      <td>NaN</td>\n",
       "      <td>NaN</td>\n",
       "      <td>BOURNE</td>\n",
       "    </tr>\n",
       "    <tr>\n",
       "      <th>78</th>\n",
       "      <td>NaN</td>\n",
       "      <td>GARY</td>\n",
       "      <td>NaN</td>\n",
       "      <td>NaN</td>\n",
       "      <td>NaN</td>\n",
       "      <td>NaN</td>\n",
       "      <td>NaN</td>\n",
       "      <td>NaN</td>\n",
       "      <td>NaN</td>\n",
       "    </tr>\n",
       "    <tr>\n",
       "      <th>79</th>\n",
       "      <td>NaN</td>\n",
       "      <td>NaN</td>\n",
       "      <td>NaN</td>\n",
       "      <td>NaN</td>\n",
       "      <td>JANE</td>\n",
       "      <td>NaN</td>\n",
       "      <td>NaN</td>\n",
       "      <td>NaN</td>\n",
       "      <td>NaN</td>\n",
       "    </tr>\n",
       "    <tr>\n",
       "      <th>80</th>\n",
       "      <td>NaN</td>\n",
       "      <td>NaN</td>\n",
       "      <td>NaN</td>\n",
       "      <td>NaN</td>\n",
       "      <td>NaN</td>\n",
       "      <td>NaN</td>\n",
       "      <td>NaN</td>\n",
       "      <td>EMILY</td>\n",
       "      <td>NaN</td>\n",
       "    </tr>\n",
       "    <tr>\n",
       "      <th>82</th>\n",
       "      <td>NaN</td>\n",
       "      <td>NaN</td>\n",
       "      <td>ADRIAN</td>\n",
       "      <td>NaN</td>\n",
       "      <td>NaN</td>\n",
       "      <td>NaN</td>\n",
       "      <td>NaN</td>\n",
       "      <td>NaN</td>\n",
       "      <td>NaN</td>\n",
       "    </tr>\n",
       "    <tr>\n",
       "      <th>84</th>\n",
       "      <td>NaN</td>\n",
       "      <td>NaN</td>\n",
       "      <td>NaN</td>\n",
       "      <td>NaN</td>\n",
       "      <td>NaN</td>\n",
       "      <td>NaN</td>\n",
       "      <td>DAVID</td>\n",
       "      <td>NaN</td>\n",
       "      <td>NaN</td>\n",
       "    </tr>\n",
       "    <tr>\n",
       "      <th>87</th>\n",
       "      <td>NaN</td>\n",
       "      <td>NaN</td>\n",
       "      <td>NaN</td>\n",
       "      <td>NaN</td>\n",
       "      <td>NaN</td>\n",
       "      <td>FLOYD</td>\n",
       "      <td>NaN</td>\n",
       "      <td>NaN</td>\n",
       "      <td>NaN</td>\n",
       "    </tr>\n",
       "  </tbody>\n",
       "</table>\n",
       "</div>"
      ],
      "text/plain": [
       "          name                                                       \n",
       "maths       65    72      73    78    84     86     87     93      94\n",
       "physics                                                              \n",
       "62       SMITH   NaN     NaN   NaN   NaN    NaN    NaN    NaN     NaN\n",
       "66         NaN   NaN     NaN  JOHN   NaN    NaN    NaN    NaN     NaN\n",
       "73         NaN   NaN     NaN   NaN   NaN    NaN    NaN    NaN  BOURNE\n",
       "78         NaN  GARY     NaN   NaN   NaN    NaN    NaN    NaN     NaN\n",
       "79         NaN   NaN     NaN   NaN  JANE    NaN    NaN    NaN     NaN\n",
       "80         NaN   NaN     NaN   NaN   NaN    NaN    NaN  EMILY     NaN\n",
       "82         NaN   NaN  ADRIAN   NaN   NaN    NaN    NaN    NaN     NaN\n",
       "84         NaN   NaN     NaN   NaN   NaN    NaN  DAVID    NaN     NaN\n",
       "87         NaN   NaN     NaN   NaN   NaN  FLOYD    NaN    NaN     NaN"
      ]
     },
     "execution_count": 49,
     "metadata": {},
     "output_type": "execute_result"
    }
   ],
   "source": [
    "df.pivot(index=\"physics\", columns=\"maths\", values=[\"name\"])"
   ]
  },
  {
   "cell_type": "code",
   "execution_count": 50,
   "metadata": {},
   "outputs": [
    {
     "data": {
      "text/html": [
       "<div>\n",
       "<style scoped>\n",
       "    .dataframe tbody tr th:only-of-type {\n",
       "        vertical-align: middle;\n",
       "    }\n",
       "\n",
       "    .dataframe tbody tr th {\n",
       "        vertical-align: top;\n",
       "    }\n",
       "\n",
       "    .dataframe thead th {\n",
       "        text-align: right;\n",
       "    }\n",
       "</style>\n",
       "<table border=\"1\" class=\"dataframe\">\n",
       "  <thead>\n",
       "    <tr style=\"text-align: right;\">\n",
       "      <th></th>\n",
       "      <th>A</th>\n",
       "      <th>B</th>\n",
       "      <th>C</th>\n",
       "      <th>D</th>\n",
       "    </tr>\n",
       "  </thead>\n",
       "  <tbody>\n",
       "    <tr>\n",
       "      <th>0</th>\n",
       "      <td>foo</td>\n",
       "      <td>one</td>\n",
       "      <td>small</td>\n",
       "      <td>1</td>\n",
       "    </tr>\n",
       "    <tr>\n",
       "      <th>1</th>\n",
       "      <td>foo</td>\n",
       "      <td>one</td>\n",
       "      <td>large</td>\n",
       "      <td>2</td>\n",
       "    </tr>\n",
       "    <tr>\n",
       "      <th>2</th>\n",
       "      <td>foo</td>\n",
       "      <td>one</td>\n",
       "      <td>large</td>\n",
       "      <td>2</td>\n",
       "    </tr>\n",
       "    <tr>\n",
       "      <th>3</th>\n",
       "      <td>foo</td>\n",
       "      <td>two</td>\n",
       "      <td>small</td>\n",
       "      <td>3</td>\n",
       "    </tr>\n",
       "    <tr>\n",
       "      <th>4</th>\n",
       "      <td>foo</td>\n",
       "      <td>two</td>\n",
       "      <td>small</td>\n",
       "      <td>3</td>\n",
       "    </tr>\n",
       "    <tr>\n",
       "      <th>5</th>\n",
       "      <td>bar</td>\n",
       "      <td>one</td>\n",
       "      <td>large</td>\n",
       "      <td>4</td>\n",
       "    </tr>\n",
       "    <tr>\n",
       "      <th>6</th>\n",
       "      <td>bar</td>\n",
       "      <td>one</td>\n",
       "      <td>small</td>\n",
       "      <td>5</td>\n",
       "    </tr>\n",
       "    <tr>\n",
       "      <th>7</th>\n",
       "      <td>bar</td>\n",
       "      <td>two</td>\n",
       "      <td>small</td>\n",
       "      <td>6</td>\n",
       "    </tr>\n",
       "    <tr>\n",
       "      <th>8</th>\n",
       "      <td>bar</td>\n",
       "      <td>two</td>\n",
       "      <td>large</td>\n",
       "      <td>7</td>\n",
       "    </tr>\n",
       "  </tbody>\n",
       "</table>\n",
       "</div>"
      ],
      "text/plain": [
       "     A    B      C  D\n",
       "0  foo  one  small  1\n",
       "1  foo  one  large  2\n",
       "2  foo  one  large  2\n",
       "3  foo  two  small  3\n",
       "4  foo  two  small  3\n",
       "5  bar  one  large  4\n",
       "6  bar  one  small  5\n",
       "7  bar  two  small  6\n",
       "8  bar  two  large  7"
      ]
     },
     "execution_count": 50,
     "metadata": {},
     "output_type": "execute_result"
    }
   ],
   "source": [
    "df = pd.DataFrame({\"A\": [\"foo\", \"foo\", \"foo\", \"foo\", \"foo\",\n",
    "                          \"bar\", \"bar\", \"bar\", \"bar\"],\n",
    "                    \"B\": [\"one\", \"one\", \"one\", \"two\", \"two\",\n",
    "                          \"one\", \"one\", \"two\", \"two\"],\n",
    "                    \"C\": [\"small\", \"large\", \"large\", \"small\",\n",
    "                          \"small\", \"large\", \"small\", \"small\",\n",
    "                          \"large\"],\n",
    "                    \"D\": [1, 2, 2, 3, 3, 4, 5, 6, 7]})\n",
    "\n",
    "df"
   ]
  },
  {
   "cell_type": "code",
   "execution_count": 51,
   "metadata": {
    "scrolled": true
   },
   "outputs": [
    {
     "data": {
      "text/html": [
       "<div>\n",
       "<style scoped>\n",
       "    .dataframe tbody tr th:only-of-type {\n",
       "        vertical-align: middle;\n",
       "    }\n",
       "\n",
       "    .dataframe tbody tr th {\n",
       "        vertical-align: top;\n",
       "    }\n",
       "\n",
       "    .dataframe thead th {\n",
       "        text-align: right;\n",
       "    }\n",
       "</style>\n",
       "<table border=\"1\" class=\"dataframe\">\n",
       "  <thead>\n",
       "    <tr style=\"text-align: right;\">\n",
       "      <th></th>\n",
       "      <th>C</th>\n",
       "      <th>large</th>\n",
       "      <th>small</th>\n",
       "    </tr>\n",
       "    <tr>\n",
       "      <th>A</th>\n",
       "      <th>B</th>\n",
       "      <th></th>\n",
       "      <th></th>\n",
       "    </tr>\n",
       "  </thead>\n",
       "  <tbody>\n",
       "    <tr>\n",
       "      <th rowspan=\"2\" valign=\"top\">bar</th>\n",
       "      <th>one</th>\n",
       "      <td>4.0</td>\n",
       "      <td>5.0</td>\n",
       "    </tr>\n",
       "    <tr>\n",
       "      <th>two</th>\n",
       "      <td>7.0</td>\n",
       "      <td>6.0</td>\n",
       "    </tr>\n",
       "    <tr>\n",
       "      <th rowspan=\"2\" valign=\"top\">foo</th>\n",
       "      <th>one</th>\n",
       "      <td>4.0</td>\n",
       "      <td>1.0</td>\n",
       "    </tr>\n",
       "    <tr>\n",
       "      <th>two</th>\n",
       "      <td>NaN</td>\n",
       "      <td>6.0</td>\n",
       "    </tr>\n",
       "  </tbody>\n",
       "</table>\n",
       "</div>"
      ],
      "text/plain": [
       "C        large  small\n",
       "A   B                \n",
       "bar one    4.0    5.0\n",
       "    two    7.0    6.0\n",
       "foo one    4.0    1.0\n",
       "    two    NaN    6.0"
      ]
     },
     "execution_count": 51,
     "metadata": {},
     "output_type": "execute_result"
    }
   ],
   "source": [
    "table = df.pivot_table(values='D', index=['A', 'B'],  columns=['C'], aggfunc=np.sum)\n",
    "table"
   ]
  },
  {
   "cell_type": "code",
   "execution_count": 123,
   "metadata": {},
   "outputs": [
    {
     "name": "stdout",
     "output_type": "stream",
     "text": [
      "{'program': 'bash', 'pid': '2888', 'cpu': '002', 'irqs_disabled': '.', 'need_resched': '.', 'irq_context': '.', 'preempt_count': '.', 'timestamp': '214.858474', 'function': 'kmem_cache_free'}\n"
     ]
    }
   ],
   "source": [
    "import re\n",
    "\n",
    "line1 = '            bash-2888  [002] ....   214.858474: kmem_cache_free: call_site=c132e814 ptr=d78dd0a0\\n'\n",
    "line2 = '            bash-2833  [001] ....   214.858888: kmalloc: call_site=c13a0a0d ptr=d5265780 bytes_req=188 bytes_alloc=192 gfp_flags=GFP_KERNEL_ACCOUNT|__GFP_ZERO\\n'\n",
    "\n",
    "generic_regex = r\"\"\"\n",
    "    (?P<program>\\S+)\n",
    "    -\n",
    "    (?P<pid>\\d+)\n",
    "    \\s+\\[\n",
    "    (?P<cpu>\\d+)\n",
    "    \\]\\s+\n",
    "    (?P<irqs_disabled>.)\n",
    "    (?P<need_resched>.)\n",
    "    (?P<irq_context>.)\n",
    "    (?P<preempt_count>.)\n",
    "    \\s+\n",
    "    (?P<timestamp>[\\d\\.]+)\n",
    "    :\\s+\n",
    "    (?P<function>\\w+)\n",
    "    :\\s+.+\n",
    "\"\"\"\n",
    "\n",
    "alloc_regex = r\"\"\"\n",
    "    bytes_req=(?P<bytes_req>\\d+)\n",
    "    \\s+\n",
    "    bytes_alloc=(?P<bytes_alloc>\\d+)\n",
    "\"\"\"\n",
    "gpattern = re.compile(generic_regex, re.VERBOSE)\n",
    "alloc_pattern = re.compile(alloc_regex, re.VERBOSE)\n",
    "\n",
    "from collections import OrderedDict\n",
    "\n",
    "\n",
    "def parse_trace_log(filename):\n",
    "    with open(filename) as tracefile:\n",
    "        for line in tracefile:\n",
    "            generic = gpattern.search(line)\n",
    "            if not generic: continue\n",
    "            rec = OrderedDict(generic.groupdict())\n",
    "            alloc = alloc_pattern.search(line)\n",
    "            if alloc:\n",
    "                rec.update(alloc.groupdict())\n",
    "            print(rec)\n"
   ]
  },
  {
   "cell_type": "code",
   "execution_count": 55,
   "metadata": {},
   "outputs": [],
   "source": [
    "\n",
    "line1 = '            bash-2888  [002] ....   214.858474: kmem_cache_free: call_site=c132e814 ptr=d78dd0a0\\n'\n",
    "line2 = '            bash-2833  [001] ....   214.858888: kmalloc: call_site=c13a0a0d ptr=d5265780 bytes_req=188 bytes_alloc=192 gfp_flags=GFP_KERNEL_ACCOUNT|__GFP_ZERO\\n'\n",
    "\n",
    "field_names = (\"program\", \"pid\", \"cpu\", \n",
    "               \"irqs_disabled\", \"need_resched\", \"irq_context\",\n",
    "               \"preempt_count\", \"timestamp\", \"function\",\n",
    "               \"bytes_req\", \"bytes_alloc\")\n",
    "\n",
    "generic_regex = r\"\"\"\n",
    "    (?P<program>\\S+)\n",
    "    -\n",
    "    (?P<pid>\\d+)\n",
    "    \\s+\\[\n",
    "    (?P<cpu>\\d+)\n",
    "    \\]\\s+\n",
    "    (?P<irqs_disabled>.)\n",
    "    (?P<need_resched>.)\n",
    "    (?P<irq_context>.)\n",
    "    (?P<preempt_count>.)\n",
    "    \\s+\n",
    "    (?P<timestamp>[\\d\\.]+)\n",
    "    :\\s+\n",
    "    (?P<function>\\w+)\n",
    "    :\\s+.+\n",
    "\"\"\"\n",
    "\n",
    "alloc_regex = r\"\"\"\n",
    "    bytes_req=(?P<bytes_req>\\d+)\n",
    "    \\s+\n",
    "    bytes_alloc=(?P<bytes_alloc>\\d+)\n",
    "\"\"\"\n",
    "\n",
    "\n",
    "def log_to_csv(logfile, csvfile, fields, *regex):\n",
    "    import re\n",
    "    from collections import OrderedDict\n",
    "    from csv import DictWriter\n",
    "    patterns = [ re.compile(r, re.VERBOSE) for r in regex ]\n",
    "    \n",
    "    with open(logfile) as infile,\\\n",
    "         open(csvfile, \"w\") as outfile:\n",
    "        \n",
    "        csvout = DictWriter(outfile, fieldnames=fields)\n",
    "        csvout.writeheader()\n",
    "        \n",
    "        for line in infile:\n",
    "            rec = OrderedDict()\n",
    "            for p in patterns:\n",
    "                m = p.search(line)\n",
    "                if m: \n",
    "                    rec.update(m.groupdict())\n",
    "            if rec:\n",
    "                csvout.writerow(rec)\n"
   ]
  },
  {
   "cell_type": "code",
   "execution_count": 56,
   "metadata": {},
   "outputs": [],
   "source": [
    "log_to_csv(\"kmem-trace.log\", \"kmem-trace.csv\", field_names, \n",
    "            generic_regex, alloc_regex)\n"
   ]
  },
  {
   "cell_type": "code",
   "execution_count": 57,
   "metadata": {},
   "outputs": [
    {
     "name": "stdout",
     "output_type": "stream",
     "text": [
      "The following commands were written to file `log_to_csv.py`:\n",
      "\n",
      "line1 = '            bash-2888  [002] ....   214.858474: kmem_cache_free: call_site=c132e814 ptr=d78dd0a0\\n'\n",
      "line2 = '            bash-2833  [001] ....   214.858888: kmalloc: call_site=c13a0a0d ptr=d5265780 bytes_req=188 bytes_alloc=192 gfp_flags=GFP_KERNEL_ACCOUNT|__GFP_ZERO\\n'\n",
      "\n",
      "field_names = (\"program\", \"pid\", \"cpu\", \n",
      "               \"irqs_disabled\", \"need_resched\", \"irq_context\",\n",
      "               \"preempt_count\", \"timestamp\", \"function\",\n",
      "               \"bytes_req\", \"bytes_alloc\")\n",
      "\n",
      "generic_regex = r\"\"\"\n",
      "    (?P<program>\\S+)\n",
      "    -\n",
      "    (?P<pid>\\d+)\n",
      "    \\s+\\[\n",
      "    (?P<cpu>\\d+)\n",
      "    \\]\\s+\n",
      "    (?P<irqs_disabled>.)\n",
      "    (?P<need_resched>.)\n",
      "    (?P<irq_context>.)\n",
      "    (?P<preempt_count>.)\n",
      "    \\s+\n",
      "    (?P<timestamp>[\\d\\.]+)\n",
      "    :\\s+\n",
      "    (?P<function>\\w+)\n",
      "    :\\s+.+\n",
      "\"\"\"\n",
      "\n",
      "alloc_regex = r\"\"\"\n",
      "    bytes_req=(?P<bytes_req>\\d+)\n",
      "    \\s+\n",
      "    bytes_alloc=(?P<bytes_alloc>\\d+)\n",
      "\"\"\"\n",
      "\n",
      "\n",
      "def log_to_csv(logfile, csvfile, fields, *regex):\n",
      "    import re\n",
      "    from collections import OrderedDict\n",
      "    from csv import DictWriter\n",
      "    patterns = [ re.compile(r, re.VERBOSE) for r in regex ]\n",
      "    \n",
      "    with open(logfile) as infile,\\\n",
      "         open(csvfile, \"w\") as outfile:\n",
      "        \n",
      "        csvout = DictWriter(outfile, fieldnames=fields)\n",
      "        csvout.writeheader()\n",
      "        \n",
      "        for line in infile:\n",
      "            rec = OrderedDict()\n",
      "            for p in patterns:\n",
      "                m = p.search(line)\n",
      "                if m: \n",
      "                    rec.update(m.groupdict())\n",
      "            if rec:\n",
      "                csvout.writerow(rec)\n"
     ]
    }
   ],
   "source": [
    "%save log_to_csv.py 55"
   ]
  },
  {
   "cell_type": "code",
   "execution_count": 58,
   "metadata": {},
   "outputs": [
    {
     "name": "stdout",
     "output_type": "stream",
     "text": [
      "46668392.0\n"
     ]
    }
   ],
   "source": [
    "tf = pd.read_csv(\"kmem-trace.csv\", chunksize=1024*25)\n",
    "\n",
    "total_size = 0\n",
    "for df in tf:\n",
    "    total_size += df.bytes_alloc.sum()\n",
    "    \n",
    "print(total_size)\n"
   ]
  },
  {
   "cell_type": "code",
   "execution_count": 68,
   "metadata": {
    "scrolled": true
   },
   "outputs": [
    {
     "data": {
      "text/plain": [
       "cpu\n",
       "0    1064216.0\n",
       "1    1159248.0\n",
       "2     697752.0\n",
       "3    1016096.0\n",
       "Name: bytes_alloc, dtype: float64"
      ]
     },
     "execution_count": 68,
     "metadata": {},
     "output_type": "execute_result"
    }
   ],
   "source": [
    "tf = pd.read_csv(\"kmem-trace.csv\", chunksize=1024*25)\n",
    "\n",
    "df = tf.get_chunk()\n",
    "\n",
    "df.groupby(\"cpu\").sum()[\"bytes_alloc\"]"
   ]
  },
  {
   "cell_type": "code",
   "execution_count": 70,
   "metadata": {},
   "outputs": [
    {
     "name": "stdout",
     "output_type": "stream",
     "text": [
      "{0: 22065744.0, 1: 15694768.0, 2: 4239080.0, 3: 4668800.0}\n"
     ]
    }
   ],
   "source": [
    "tf = pd.read_csv(\"kmem-trace.csv\", chunksize=1024*25)\n",
    "\n",
    "bytes_alloc = {0: 0, 1: 0, 2: 0, 3: 0}\n",
    "for df in tf:\n",
    "    row = df.groupby(\"cpu\").sum().bytes_alloc\n",
    "    bytes_alloc[0] += row.get(0, 0)\n",
    "    bytes_alloc[1] += row.get(1, 0)\n",
    "    bytes_alloc[2] += row.get(2, 0)\n",
    "    bytes_alloc[3] += row.get(3, 0)\n",
    "    \n",
    "print(bytes_alloc)"
   ]
  },
  {
   "cell_type": "code",
   "execution_count": 101,
   "metadata": {},
   "outputs": [
    {
     "data": {
      "text/html": [
       "<div>\n",
       "<style scoped>\n",
       "    .dataframe tbody tr th:only-of-type {\n",
       "        vertical-align: middle;\n",
       "    }\n",
       "\n",
       "    .dataframe tbody tr th {\n",
       "        vertical-align: top;\n",
       "    }\n",
       "\n",
       "    .dataframe thead th {\n",
       "        text-align: right;\n",
       "    }\n",
       "</style>\n",
       "<table border=\"1\" class=\"dataframe\">\n",
       "  <thead>\n",
       "    <tr style=\"text-align: right;\">\n",
       "      <th></th>\n",
       "      <th>bytes_alloc</th>\n",
       "    </tr>\n",
       "    <tr>\n",
       "      <th>cpu</th>\n",
       "      <th></th>\n",
       "    </tr>\n",
       "  </thead>\n",
       "  <tbody>\n",
       "    <tr>\n",
       "      <th>0</th>\n",
       "      <td>22065744.0</td>\n",
       "    </tr>\n",
       "    <tr>\n",
       "      <th>1</th>\n",
       "      <td>15694768.0</td>\n",
       "    </tr>\n",
       "    <tr>\n",
       "      <th>2</th>\n",
       "      <td>4239080.0</td>\n",
       "    </tr>\n",
       "    <tr>\n",
       "      <th>3</th>\n",
       "      <td>4668800.0</td>\n",
       "    </tr>\n",
       "  </tbody>\n",
       "</table>\n",
       "</div>"
      ],
      "text/plain": [
       "     bytes_alloc\n",
       "cpu             \n",
       "0     22065744.0\n",
       "1     15694768.0\n",
       "2      4239080.0\n",
       "3      4668800.0"
      ]
     },
     "execution_count": 101,
     "metadata": {},
     "output_type": "execute_result"
    }
   ],
   "source": [
    "# Find out on which CPU, most memory allocations occurred.\n",
    "res = pd.concat(\n",
    "         df.groupby(\"cpu\").sum()[[\"bytes_alloc\"]] \\\n",
    "         for df in pd.read_csv(\"kmem-trace.csv\", chunksize=1024*25)).groupby(\"cpu\").sum()\n",
    "res\n"
   ]
  },
  {
   "cell_type": "code",
   "execution_count": 71,
   "metadata": {},
   "outputs": [],
   "source": [
    "## Intermediate try-out\n",
    "tf = pd.read_csv(\"kmem-trace.csv\", chunksize=1024*25)\n",
    "\n",
    "df = next(tf)\n"
   ]
  },
  {
   "cell_type": "code",
   "execution_count": 89,
   "metadata": {
    "scrolled": true
   },
   "outputs": [
    {
     "data": {
      "text/html": [
       "<div>\n",
       "<style scoped>\n",
       "    .dataframe tbody tr th:only-of-type {\n",
       "        vertical-align: middle;\n",
       "    }\n",
       "\n",
       "    .dataframe tbody tr th {\n",
       "        vertical-align: top;\n",
       "    }\n",
       "\n",
       "    .dataframe thead th {\n",
       "        text-align: right;\n",
       "    }\n",
       "</style>\n",
       "<table border=\"1\" class=\"dataframe\">\n",
       "  <thead>\n",
       "    <tr style=\"text-align: right;\">\n",
       "      <th></th>\n",
       "      <th>function</th>\n",
       "    </tr>\n",
       "    <tr>\n",
       "      <th>cpu</th>\n",
       "      <th></th>\n",
       "    </tr>\n",
       "  </thead>\n",
       "  <tbody>\n",
       "    <tr>\n",
       "      <th>0</th>\n",
       "      <td>134</td>\n",
       "    </tr>\n",
       "    <tr>\n",
       "      <th>1</th>\n",
       "      <td>68</td>\n",
       "    </tr>\n",
       "    <tr>\n",
       "      <th>2</th>\n",
       "      <td>56</td>\n",
       "    </tr>\n",
       "    <tr>\n",
       "      <th>3</th>\n",
       "      <td>82</td>\n",
       "    </tr>\n",
       "  </tbody>\n",
       "</table>\n",
       "</div>"
      ],
      "text/plain": [
       "     function\n",
       "cpu          \n",
       "0         134\n",
       "1          68\n",
       "2          56\n",
       "3          82"
      ]
     },
     "execution_count": 89,
     "metadata": {},
     "output_type": "execute_result"
    }
   ],
   "source": [
    "## Find number of times kmalloc was invoked on each CPU\n",
    "df = next(tf)\n",
    "df[df.function == \"kmalloc\"].groupby(\"cpu\").count()[[\"function\"]]"
   ]
  },
  {
   "cell_type": "code",
   "execution_count": 88,
   "metadata": {
    "scrolled": true
   },
   "outputs": [],
   "source": [
    "## Find number of times kmalloc was invoked on each CPU\n",
    "r1 = df[df.function == \"kmalloc\"].groupby(\"cpu\").count()[[\"function\"]]"
   ]
  },
  {
   "cell_type": "code",
   "execution_count": 90,
   "metadata": {
    "scrolled": true
   },
   "outputs": [],
   "source": [
    "## Find number of times kmalloc was invoked on each CPU\n",
    "r2 = df[df.function == \"kmalloc\"].groupby(\"cpu\").count()[[\"function\"]]"
   ]
  },
  {
   "cell_type": "code",
   "execution_count": 99,
   "metadata": {},
   "outputs": [
    {
     "data": {
      "text/html": [
       "<div>\n",
       "<style scoped>\n",
       "    .dataframe tbody tr th:only-of-type {\n",
       "        vertical-align: middle;\n",
       "    }\n",
       "\n",
       "    .dataframe tbody tr th {\n",
       "        vertical-align: top;\n",
       "    }\n",
       "\n",
       "    .dataframe thead th {\n",
       "        text-align: right;\n",
       "    }\n",
       "</style>\n",
       "<table border=\"1\" class=\"dataframe\">\n",
       "  <thead>\n",
       "    <tr style=\"text-align: right;\">\n",
       "      <th></th>\n",
       "      <th>function</th>\n",
       "    </tr>\n",
       "    <tr>\n",
       "      <th>cpu</th>\n",
       "      <th></th>\n",
       "    </tr>\n",
       "  </thead>\n",
       "  <tbody>\n",
       "    <tr>\n",
       "      <th>0</th>\n",
       "      <td>5871</td>\n",
       "    </tr>\n",
       "    <tr>\n",
       "      <th>1</th>\n",
       "      <td>652</td>\n",
       "    </tr>\n",
       "    <tr>\n",
       "      <th>2</th>\n",
       "      <td>375</td>\n",
       "    </tr>\n",
       "    <tr>\n",
       "      <th>3</th>\n",
       "      <td>198</td>\n",
       "    </tr>\n",
       "  </tbody>\n",
       "</table>\n",
       "</div>"
      ],
      "text/plain": [
       "     function\n",
       "cpu          \n",
       "0        5871\n",
       "1         652\n",
       "2         375\n",
       "3         198"
      ]
     },
     "execution_count": 99,
     "metadata": {},
     "output_type": "execute_result"
    }
   ],
   "source": [
    "# Find out on which CPU kmalloc was invoked the most!\n",
    "res = pd.concat(\n",
    "         df[df.function == \"kmalloc\"].groupby(\"cpu\").count()[[\"function\"]] \\\n",
    "         for df in pd.read_csv(\"kmem-trace.csv\", chunksize=1024*25)).groupby(\"cpu\").sum()\n",
    "res\n"
   ]
  },
  {
   "cell_type": "code",
   "execution_count": 109,
   "metadata": {},
   "outputs": [
    {
     "data": {
      "text/plain": [
       "bytes_alloc    811\n",
       "dtype: int64"
      ]
     },
     "execution_count": 109,
     "metadata": {},
     "output_type": "execute_result"
    }
   ],
   "source": [
    "# How often memory allocations were performed with interrupts disabled.\n",
    "\n",
    "pd.concat(df[df[\"irqs_disabled\"] == 'd'][[\"bytes_alloc\"]].dropna() \\\n",
    "          for df in pd.read_csv(\"kmem-trace.csv\", chunksize=1024*25)).count()"
   ]
  },
  {
   "cell_type": "code",
   "execution_count": 110,
   "metadata": {},
   "outputs": [
    {
     "data": {
      "text/plain": [
       "bytes_alloc    16384.0\n",
       "dtype: float64"
      ]
     },
     "execution_count": 110,
     "metadata": {},
     "output_type": "execute_result"
    }
   ],
   "source": [
    "# Highest memory allocation in bytes\n",
    "pd.concat(df[[\"bytes_alloc\"]].dropna() \\\n",
    "          for df in pd.read_csv(\"kmem-trace.csv\", chunksize=1024*25)).max()"
   ]
  },
  {
   "cell_type": "code",
   "execution_count": 125,
   "metadata": {},
   "outputs": [
    {
     "data": {
      "text/plain": [
       "program\n",
       "top    18864120.0\n",
       "Name: bytes_alloc, dtype: float64"
      ]
     },
     "execution_count": 125,
     "metadata": {},
     "output_type": "execute_result"
    }
   ],
   "source": [
    "# Which process accounted for maximum memory allocation\n",
    "result = pd.concat(df.groupby([\"program\"]).bytes_alloc.sum() \\\n",
    "          for df in pd.read_csv(\"kmem-trace.csv\", chunksize=1024*25))\n",
    "\n",
    "result.groupby([\"program\"]).sum().sort_values(ascending=False)[:1]"
   ]
  },
  {
   "cell_type": "code",
   "execution_count": 148,
   "metadata": {},
   "outputs": [],
   "source": [
    "# Check if kmallocs are lesser than kfrees\n",
    "result = pd.concat(df.groupby(\"function\").count() \\\n",
    "          for df in pd.read_csv(\"kmem-trace.csv\", chunksize=1024*25))\n",
    "\n",
    "total_calls = result.groupby(\"function\").sum()[\"program\"]"
   ]
  },
  {
   "cell_type": "code",
   "execution_count": 149,
   "metadata": {},
   "outputs": [
    {
     "data": {
      "text/plain": [
       "True"
      ]
     },
     "execution_count": 149,
     "metadata": {},
     "output_type": "execute_result"
    }
   ],
   "source": [
    "total_calls.loc[\"kmalloc\"] < total_calls.loc[\"kfree\"]"
   ]
  },
  {
   "cell_type": "code",
   "execution_count": 150,
   "metadata": {},
   "outputs": [],
   "source": [
    "tf = pd.read_csv(\"kmem-trace.csv\", chunksize=1024*25)"
   ]
  },
  {
   "cell_type": "code",
   "execution_count": 151,
   "metadata": {},
   "outputs": [],
   "source": [
    "df = next(tf)"
   ]
  },
  {
   "cell_type": "code",
   "execution_count": 161,
   "metadata": {},
   "outputs": [
    {
     "data": {
      "text/plain": [
       "263675.0"
      ]
     },
     "execution_count": 161,
     "metadata": {},
     "output_type": "execute_result"
    }
   ],
   "source": [
    "# Total internal fragmentation of memory\n",
    "pd.concat((df.bytes_alloc - df.bytes_req).dropna() \\\n",
    "          for df in pd.read_csv(\"kmem-trace.csv\", chunksize=1024*25)).sum()"
   ]
  },
  {
   "cell_type": "code",
   "execution_count": 162,
   "metadata": {},
   "outputs": [
    {
     "data": {
      "text/plain": [
       "pid              51782\n",
       "cpu              51782\n",
       "irqs_disabled    51782\n",
       "need_resched     51782\n",
       "irq_context      51782\n",
       "preempt_count    51782\n",
       "timestamp        51782\n",
       "function         51782\n",
       "bytes_req          904\n",
       "bytes_alloc        904\n",
       "dtype: int64"
      ]
     },
     "execution_count": 162,
     "metadata": {},
     "output_type": "execute_result"
    }
   ],
   "source": [
    "# Which process accounts for maxium preempt disable states\n",
    "\n",
    "pd.concat(df[df.preempt_count != \".\"].groupby(\"program\").count() \\\n",
    "          for df in pd.read_csv(\"kmem-trace.csv\", chunksize=1024*25)).sum()"
   ]
  },
  {
   "cell_type": "code",
   "execution_count": 157,
   "metadata": {},
   "outputs": [
    {
     "data": {
      "text/html": [
       "<div>\n",
       "<style scoped>\n",
       "    .dataframe tbody tr th:only-of-type {\n",
       "        vertical-align: middle;\n",
       "    }\n",
       "\n",
       "    .dataframe tbody tr th {\n",
       "        vertical-align: top;\n",
       "    }\n",
       "\n",
       "    .dataframe thead th {\n",
       "        text-align: right;\n",
       "    }\n",
       "</style>\n",
       "<table border=\"1\" class=\"dataframe\">\n",
       "  <thead>\n",
       "    <tr style=\"text-align: right;\">\n",
       "      <th></th>\n",
       "      <th>program</th>\n",
       "      <th>pid</th>\n",
       "      <th>cpu</th>\n",
       "      <th>irqs_disabled</th>\n",
       "      <th>need_resched</th>\n",
       "      <th>irq_context</th>\n",
       "      <th>preempt_count</th>\n",
       "      <th>timestamp</th>\n",
       "      <th>function</th>\n",
       "      <th>bytes_req</th>\n",
       "      <th>bytes_alloc</th>\n",
       "    </tr>\n",
       "  </thead>\n",
       "  <tbody>\n",
       "    <tr>\n",
       "      <th>199</th>\n",
       "      <td>bash</td>\n",
       "      <td>2833</td>\n",
       "      <td>1</td>\n",
       "      <td>.</td>\n",
       "      <td>.</td>\n",
       "      <td>.</td>\n",
       "      <td>.</td>\n",
       "      <td>214.858891</td>\n",
       "      <td>kmalloc</td>\n",
       "      <td>384.0</td>\n",
       "      <td>512.0</td>\n",
       "    </tr>\n",
       "  </tbody>\n",
       "</table>\n",
       "</div>"
      ],
      "text/plain": [
       "    program   pid  cpu irqs_disabled need_resched irq_context preempt_count  \\\n",
       "199    bash  2833    1             .            .           .             .   \n",
       "\n",
       "      timestamp function  bytes_req  bytes_alloc  \n",
       "199  214.858891  kmalloc      384.0        512.0  "
      ]
     },
     "execution_count": 157,
     "metadata": {},
     "output_type": "execute_result"
    }
   ],
   "source": [
    "df[]"
   ]
  }
 ],
 "metadata": {
  "kernelspec": {
   "display_name": "Python 3",
   "language": "python",
   "name": "python3"
  },
  "language_info": {
   "codemirror_mode": {
    "name": "ipython",
    "version": 3
   },
   "file_extension": ".py",
   "mimetype": "text/x-python",
   "name": "python",
   "nbconvert_exporter": "python",
   "pygments_lexer": "ipython3",
   "version": "3.7.1"
  }
 },
 "nbformat": 4,
 "nbformat_minor": 2
}
