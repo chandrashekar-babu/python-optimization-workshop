{
 "cells": [
  {
   "cell_type": "code",
   "execution_count": 1,
   "id": "602e4efa",
   "metadata": {},
   "outputs": [
    {
     "name": "stdout",
     "output_type": "stream",
     "text": [
      "Hello, world\n"
     ]
    }
   ],
   "source": [
    "print(\"Hello, world\")"
   ]
  },
  {
   "cell_type": "code",
   "execution_count": 15,
   "id": "21aec91f",
   "metadata": {},
   "outputs": [
    {
     "ename": "TypeError",
     "evalue": "name must be a string",
     "output_type": "error",
     "traceback": [
      "\u001b[1;31m---------------------------------------------------------------------------\u001b[0m",
      "\u001b[1;31mTypeError\u001b[0m                                 Traceback (most recent call last)",
      "Cell \u001b[1;32mIn[15], line 19\u001b[0m\n\u001b[0;32m     16\u001b[0m             \u001b[38;5;28mself\u001b[39m\u001b[38;5;241m.\u001b[39m__name \u001b[38;5;241m=\u001b[39m n\n\u001b[0;32m     18\u001b[0m u \u001b[38;5;241m=\u001b[39m User(\u001b[38;5;124m\"\u001b[39m\u001b[38;5;124mJohn\u001b[39m\u001b[38;5;124m\"\u001b[39m, \u001b[38;5;241m45\u001b[39m)\n\u001b[1;32m---> 19\u001b[0m u\u001b[38;5;241m.\u001b[39mname \u001b[38;5;241m=\u001b[39m \u001b[38;5;241m10\u001b[39m\n\u001b[0;32m     20\u001b[0m u\u001b[38;5;241m.\u001b[39mname\n",
      "Cell \u001b[1;32mIn[15], line 14\u001b[0m, in \u001b[0;36mUser.name\u001b[1;34m(self, n)\u001b[0m\n\u001b[0;32m     11\u001b[0m \u001b[38;5;129m@name\u001b[39m\u001b[38;5;241m.\u001b[39msetter\n\u001b[0;32m     12\u001b[0m \u001b[38;5;28;01mdef\u001b[39;00m\u001b[38;5;250m \u001b[39m\u001b[38;5;21mname\u001b[39m(\u001b[38;5;28mself\u001b[39m, n):\n\u001b[0;32m     13\u001b[0m     \u001b[38;5;28;01mif\u001b[39;00m \u001b[38;5;28mtype\u001b[39m(n) \u001b[38;5;129;01mis\u001b[39;00m \u001b[38;5;129;01mnot\u001b[39;00m \u001b[38;5;28mstr\u001b[39m:\n\u001b[1;32m---> 14\u001b[0m         \u001b[38;5;28;01mraise\u001b[39;00m \u001b[38;5;167;01mTypeError\u001b[39;00m(\u001b[38;5;124m\"\u001b[39m\u001b[38;5;124mname must be a string\u001b[39m\u001b[38;5;124m\"\u001b[39m)\n\u001b[0;32m     15\u001b[0m     \u001b[38;5;28;01melse\u001b[39;00m:\n\u001b[0;32m     16\u001b[0m         \u001b[38;5;28mself\u001b[39m\u001b[38;5;241m.\u001b[39m__name \u001b[38;5;241m=\u001b[39m n\n",
      "\u001b[1;31mTypeError\u001b[0m: name must be a string"
     ]
    }
   ],
   "source": [
    "class User:\n",
    "    def __init__(self, name, score):\n",
    "        self.__name = name\n",
    "        self._score = score\n",
    "\n",
    "    @property\n",
    "    def name(self):\n",
    "        print(\"name attribute being accessed\")\n",
    "        return self.__name\n",
    "    \n",
    "    @name.setter\n",
    "    def name(self, n):\n",
    "        if type(n) is not str:\n",
    "            raise TypeError(\"name must be a string\")\n",
    "        else:\n",
    "            self.__name = n\n",
    "    \n",
    "u = User(\"John\", 45)\n",
    "u.name = 10\n",
    "u.name"
   ]
  },
  {
   "cell_type": "code",
   "execution_count": 29,
   "id": "156fa346",
   "metadata": {},
   "outputs": [
    {
     "data": {
      "text/plain": [
       "0    object\n",
       "dtype: object"
      ]
     },
     "execution_count": 29,
     "metadata": {},
     "output_type": "execute_result"
    }
   ],
   "source": [
    "import pandas as pd\n",
    "\n",
    "df = pd.DataFrame([10.4, \"56\", \"hello\", 30, 40])\n",
    "df.dtypes"
   ]
  },
  {
   "cell_type": "code",
   "execution_count": 30,
   "id": "7b2c664c",
   "metadata": {},
   "outputs": [],
   "source": [
    "n = df.to_numpy()\n",
    "b = n.tobytes()"
   ]
  },
  {
   "cell_type": "code",
   "execution_count": 31,
   "id": "80a2b371",
   "metadata": {},
   "outputs": [
    {
     "data": {
      "text/plain": [
       "b'\\x90\\xaa\\xbf\\x95\\x1b\\x02\\x00\\x00\\xd0x\\xd2\\x95\\x1b\\x02\\x00\\x00p\\x0b]\\x92\\x1b\\x02\\x00\\x00H\\xb7\\xa4\\xfa\\xfa\\x7f\\x00\\x00\\x88\\xb8\\xa4\\xfa\\xfa\\x7f\\x00\\x00'"
      ]
     },
     "execution_count": 31,
     "metadata": {},
     "output_type": "execute_result"
    }
   ],
   "source": [
    "b"
   ]
  },
  {
   "cell_type": "code",
   "execution_count": 37,
   "id": "c7fba3e5",
   "metadata": {},
   "outputs": [
    {
     "data": {
      "text/plain": [
       "array([1.14499701e-311, 1.14499761e-311, 1.14496894e-311, 6.95229037e-310,\n",
       "       6.95229037e-310])"
      ]
     },
     "execution_count": 37,
     "metadata": {},
     "output_type": "execute_result"
    }
   ],
   "source": [
    "import numpy as np\n",
    "np.frombuffer(b, like=n)"
   ]
  },
  {
   "cell_type": "markdown",
   "id": "425a4ebb",
   "metadata": {},
   "source": [
    "#### Synchronization mechanisms\n",
    "1. Lock\n",
    "2. RLock\n",
    "3. Condition\n",
    "4. Event\n",
    "5. Semaphore\n",
    "6. BoundedSemaphore\n",
    "7. Barrier\n",
    "8. queue.Queue\n"
   ]
  },
  {
   "cell_type": "code",
   "execution_count": null,
   "id": "81e87b38",
   "metadata": {},
   "outputs": [],
   "source": [
    "from concurrent.futures import ThreadPoolExecutor as Executor\n"
   ]
  }
 ],
 "metadata": {
  "kernelspec": {
   "display_name": "base",
   "language": "python",
   "name": "python3"
  },
  "language_info": {
   "codemirror_mode": {
    "name": "ipython",
    "version": 3
   },
   "file_extension": ".py",
   "mimetype": "text/x-python",
   "name": "python",
   "nbconvert_exporter": "python",
   "pygments_lexer": "ipython3",
   "version": "3.13.5"
  }
 },
 "nbformat": 4,
 "nbformat_minor": 5
}
