{
 "cells": [
  {
   "cell_type": "code",
   "execution_count": 3,
   "id": "b1ce78e6",
   "metadata": {},
   "outputs": [
    {
     "name": "stdout",
     "output_type": "stream",
     "text": [
      "1962685286784 1962685286784\n"
     ]
    }
   ],
   "source": [
    "class World:\n",
    "    def __new__(cls):\n",
    "        if hasattr(cls, 'instance'):\n",
    "            return cls.instance\n",
    "        else:\n",
    "            cls.instance = super().__new__(cls)\n",
    "            return cls.instance\n",
    "\n",
    "\n",
    "w1 = World()\n",
    "w2 = World()\n",
    "print(id(w1), id(w2))"
   ]
  },
  {
   "cell_type": "code",
   "execution_count": 17,
   "id": "6054ff7d",
   "metadata": {},
   "outputs": [
    {
     "name": "stdout",
     "output_type": "stream",
     "text": [
      "Database object created...\n",
      "<__main__.Singleton object at 0x0000018BCB95D6D0> <__main__.Singleton object at 0x0000018BCB84F620>\n"
     ]
    }
   ],
   "source": [
    "class Singleton:\n",
    "    def __init__(self, target):\n",
    "        self.target = target()\n",
    "\n",
    "    def __call__(self):\n",
    "        return self.target\n",
    "\n",
    "@Singleton\n",
    "class World: # World = Singleton(World)\n",
    "    pass\n",
    "\n",
    "@Singleton\n",
    "class Database:\n",
    "    def __init__(self):\n",
    "        print(\"Database object created...\")\n",
    "\n",
    "\n",
    "print(Database, World)"
   ]
  },
  {
   "cell_type": "markdown",
   "id": "7520603d",
   "metadata": {},
   "source": [
    "#### Decorators in Python"
   ]
  },
  {
   "cell_type": "markdown",
   "id": "95da952c",
   "metadata": {},
   "source": [
    "A syntax feature that aids in AOP patterns in a simpler syntax / structure "
   ]
  },
  {
   "cell_type": "code",
   "execution_count": 12,
   "id": "dc6fd258",
   "metadata": {},
   "outputs": [],
   "source": [
    "def to_upper(fn):\n",
    "    def wrap():\n",
    "        return fn().upper()\n",
    "    return wrap\n",
    "\n",
    "def strong(fn):\n",
    "    def wrap():\n",
    "        return \"<strong>\" + fn() + \"</strong>\"\n",
    "    return wrap\n",
    "\n",
    "\n"
   ]
  },
  {
   "cell_type": "code",
   "execution_count": null,
   "id": "619bcb59",
   "metadata": {},
   "outputs": [
    {
     "data": {
      "text/plain": [
       "'<strong>HELLO, WORLD</strong>'"
      ]
     },
     "execution_count": 16,
     "metadata": {},
     "output_type": "execute_result"
    }
   ],
   "source": [
    "@strong\n",
    "@to_upper\n",
    "def greet():\n",
    "    return \"Hello, world\"\n",
    "\n",
    "#greet = to_upper(greet)\n",
    "greet()"
   ]
  },
  {
   "cell_type": "code",
   "execution_count": 30,
   "id": "3b9d7516",
   "metadata": {},
   "outputs": [
    {
     "name": "stdout",
     "output_type": "stream",
     "text": [
      "decorator invoked\n",
      "start\n",
      "wrap invoked\n",
      "testfn invoked\n"
     ]
    }
   ],
   "source": [
    "def decorator(fn):\n",
    "    print(\"decorator invoked\")\n",
    "    def wrap():\n",
    "        print(\"wrap invoked\")\n",
    "        fn()\n",
    "    return wrap\n",
    "\n",
    "@decorator\n",
    "def testfn():\n",
    "    print(\"testfn invoked\")\n",
    "\n",
    "print(\"start\")\n",
    "testfn()\n"
   ]
  },
  {
   "cell_type": "code",
   "execution_count": null,
   "id": "8cff58af",
   "metadata": {},
   "outputs": [
    {
     "name": "stdout",
     "output_type": "stream",
     "text": [
      "200000000\n",
      "20000000\n"
     ]
    }
   ],
   "source": [
    "def profile(fn):\n",
    "    from time import time, ctime\n",
    "    stats = {}\n",
    "    def wrap(*args, **kwargs):\n",
    "        start = time()\n",
    "\n",
    "        ret = fn(*args, **kwargs)\n",
    "        \n",
    "        duration = time() - start\n",
    "        record = (args, kwargs, ctime(), duration)\n",
    "        stats.setdefault(fn.__qualname__, []).append(record)\n",
    "        \n",
    "        return ret\n",
    "\n",
    "    def report():\n",
    "        for rec in stats.get(fn.__qualname__, []):\n",
    "            args, kwargs, ts, duration = rec\n",
    "            print(f\"{ts}: {fn.__qualname__}{args} took {duration} seconds.\")    \n",
    "\n",
    "    wrap.report = report\n",
    "    return wrap\n",
    "\n",
    "@profile\n",
    "def slow_test(count):\n",
    "    for i in range(count):\n",
    "        pass\n",
    "    return count * 2\n",
    "\n",
    "print(slow_test(100_000_000))\n",
    "print(slow_test(10_000_000))\n",
    "\n",
    "# OUT: Wed Aug 13 10:43:15 2025: slow_test(100_000_000) took 1.23 seconds\n",
    "# OUT  Wed Aug 13 10:43:16 2025: slow_test(10_000_000) took 0.27 seconds\n"
   ]
  },
  {
   "cell_type": "code",
   "execution_count": 54,
   "id": "8c234ada",
   "metadata": {},
   "outputs": [
    {
     "name": "stdout",
     "output_type": "stream",
     "text": [
      "200000000\n",
      "20000000\n"
     ]
    }
   ],
   "source": [
    "class Profile:\n",
    "    def __init__(self, fn):\n",
    "        self.stats = {}\n",
    "        self.fn = fn\n",
    "\n",
    "    def __call__(self, *args, **kwargs):\n",
    "        from time import time, ctime\n",
    "        start = time()\n",
    "\n",
    "        ret = self.fn(*args, **kwargs)\n",
    "        duration = time() - start\n",
    "        \n",
    "        record = (args, kwargs, ctime(), duration)\n",
    "        self.stats.setdefault(self.fn.__qualname__, []).append(record)\n",
    "        \n",
    "        return ret\n",
    "\n",
    "    def report(self):\n",
    "        for rec in self.stats.get(self.fn.__qualname__, []):\n",
    "            args, kwargs, ts, duration = rec\n",
    "            print(f\"{ts}: {self.fn.__qualname__}{args} took {duration} seconds.\")    \n",
    "\n",
    "@Profile\n",
    "def slow_test(count):\n",
    "    for i in range(count):\n",
    "        pass\n",
    "    return count * 2\n",
    "\n",
    "print(slow_test(100_000_000))\n",
    "print(slow_test(10_000_000))\n",
    "\n",
    "# OUT: Wed Aug 13 10:43:15 2025: slow_test(100_000_000) took 1.23 seconds\n",
    "# OUT  Wed Aug 13 10:43:16 2025: slow_test(10_000_000) took 0.27 seconds\n"
   ]
  },
  {
   "cell_type": "code",
   "execution_count": 55,
   "id": "5c9dca2d",
   "metadata": {},
   "outputs": [
    {
     "name": "stdout",
     "output_type": "stream",
     "text": [
      "Wed Aug 13 12:08:43 2025: slow_test(100000000,) took 1.6132164001464844 seconds.\n",
      "Wed Aug 13 12:08:43 2025: slow_test(10000000,) took 0.17212653160095215 seconds.\n"
     ]
    }
   ],
   "source": [
    "slow_test.report()"
   ]
  },
  {
   "cell_type": "code",
   "execution_count": 20,
   "id": "6a3f3e0a",
   "metadata": {},
   "outputs": [
    {
     "data": {
      "text/plain": [
       "'Wed Aug 13 10:43:15 2025'"
      ]
     },
     "execution_count": 20,
     "metadata": {},
     "output_type": "execute_result"
    }
   ],
   "source": [
    "from time import ctime\n",
    "ctime()"
   ]
  },
  {
   "cell_type": "code",
   "execution_count": 28,
   "id": "a05cd293",
   "metadata": {},
   "outputs": [
    {
     "data": {
      "text/plain": [
       "'HELLO, WORLD'"
      ]
     },
     "execution_count": 28,
     "metadata": {},
     "output_type": "execute_result"
    }
   ],
   "source": [
    "def style(s):\n",
    "    def decorate(fn):\n",
    "        if s == \"strong\":\n",
    "            def wrap():\n",
    "                return \"<strong>\" + fn() + \"</strong>\"\n",
    "        elif s == \"upper\":\n",
    "            def wrap():\n",
    "                return fn().upper()\n",
    "        else:\n",
    "            wrap = fn\n",
    "        return wrap\n",
    "    return decorate\n",
    "\n",
    "@style(\"upper\")\n",
    "def greet():\n",
    "    return \"Hello, world\"\n",
    "\n",
    "greet()"
   ]
  },
  {
   "cell_type": "code",
   "execution_count": 40,
   "id": "ffb687d6",
   "metadata": {},
   "outputs": [
    {
     "name": "stdout",
     "output_type": "stream",
     "text": [
      "Driving Maruti Suzuki car\n"
     ]
    }
   ],
   "source": [
    "class Car:\n",
    "    def __init__(self, make):\n",
    "        self.make = make\n",
    "\n",
    "    def __add__(self, other):\n",
    "        return Car(self.make + \" \" + other.make)\n",
    "    \n",
    "    def drive(self):\n",
    "        print(f\"Driving {self.make} car\")\n",
    "    \n",
    "c1 = Car(\"Maruti\")\n",
    "c2 = Car(\"Suzuki\")\n",
    "c3 = c1 + c2 # c1.__add__(c2) -> Car.__add__(c1, c2)\n",
    "c3.drive()      "
   ]
  },
  {
   "cell_type": "code",
   "execution_count": 46,
   "id": "3013af10",
   "metadata": {},
   "outputs": [
    {
     "name": "stdout",
     "output_type": "stream",
     "text": [
      "<@Toupper: <function greet at 0x000001C8F9B422A0>> <class '__main__.ToUpper'>\n"
     ]
    },
    {
     "data": {
      "text/plain": [
       "'Hello, world'"
      ]
     },
     "execution_count": 46,
     "metadata": {},
     "output_type": "execute_result"
    }
   ],
   "source": [
    "class ToUpper:\n",
    "    def __init__(self, target):\n",
    "        self.target = target\n",
    "\n",
    "    def __call__(self):\n",
    "        return self.target()\n",
    "    \n",
    "    def __str__(self):\n",
    "        #return str(self.target)  # Bad practice\n",
    "        return f\"<@Toupper: {str(self.target)}>\"\n",
    "@ToUpper\n",
    "def greet():\n",
    "    return \"Hello, world\"\n",
    "\n",
    "# greet = ToUpper(greet)\n",
    "\n",
    "greet()\n",
    "print(greet, type(greet))\n",
    "greet()"
   ]
  },
  {
   "cell_type": "code",
   "execution_count": 34,
   "id": "0cde45c8",
   "metadata": {},
   "outputs": [
    {
     "data": {
      "text/plain": [
       "(function, 1962693403296)"
      ]
     },
     "execution_count": 34,
     "metadata": {},
     "output_type": "execute_result"
    }
   ],
   "source": [
    "def greet(): \n",
    "    return \"Hello, world\"\n",
    "\n",
    "\n",
    "type(greet), id(greet)"
   ]
  },
  {
   "cell_type": "code",
   "execution_count": null,
   "id": "0f46a791",
   "metadata": {},
   "outputs": [
    {
     "data": {
      "text/plain": [
       "'<STRONG>HELLO, WORLD</STRONG>'"
      ]
     },
     "execution_count": 49,
     "metadata": {},
     "output_type": "execute_result"
    }
   ],
   "source": [
    "class Style:\n",
    "    def __init__(self, s):\n",
    "        self.style = s\n",
    "\n",
    "    def __call__(self, fn):\n",
    "        self.target = fn\n",
    "        if self.style == 'upper':\n",
    "            return self.to_upper\n",
    "        elif self.style == 'strong':\n",
    "            return self.to_strong\n",
    "        \n",
    "    def to_upper(self):\n",
    "        return self.target().upper()\n",
    "    \n",
    "    def to_strong(self):\n",
    "        return \"<strong>\" + self.target() + \"</strong>\"\n",
    "    \n",
    "@Style(\"upper\")\n",
    "@Style(\"strong\")\n",
    "def greet():\n",
    "    return \"Hello, world\"\n",
    "\n",
    "greet()"
   ]
  },
  {
   "cell_type": "code",
   "execution_count": 52,
   "id": "6c786a53",
   "metadata": {},
   "outputs": [
    {
     "data": {
      "text/plain": [
       "'<STRONG><I>HELLO, WORLD</I></STRONG>'"
      ]
     },
     "execution_count": 52,
     "metadata": {},
     "output_type": "execute_result"
    }
   ],
   "source": [
    "class Style:\n",
    "    def __init__(self, s):\n",
    "        self.style = s\n",
    "\n",
    "    def __call__(self, fn):\n",
    "        self.target = fn\n",
    "        wrapper = f'to_{self.style}'\n",
    "        if hasattr(self, wrapper):\n",
    "            return getattr(self, wrapper)\n",
    "        else:\n",
    "            return self.target\n",
    "           \n",
    "    def to_upper(self):\n",
    "        return self.target().upper()\n",
    "    \n",
    "    def to_strong(self):\n",
    "        return \"<strong>\" + self.target() + \"</strong>\"\n",
    "    \n",
    "    def to_italics(self):\n",
    "        return \"<i>\" + self.target() + \"</i>\"\n",
    "    \n",
    "@Style(\"upper\")\n",
    "@Style(\"strong\")\n",
    "@Style(\"italics\")\n",
    "def greet():\n",
    "    return \"Hello, world\"\n",
    "\n",
    "greet()"
   ]
  },
  {
   "cell_type": "code",
   "execution_count": 2,
   "id": "838d2e6f",
   "metadata": {},
   "outputs": [
    {
     "name": "stdout",
     "output_type": "stream",
     "text": [
      "Square of 2 is 4\n",
      "Square of 5 is 25\n",
      "Square of 6 is 36\n",
      "Square of 3 is 9\n",
      "4.002784013748169\n",
      "[4, 25, 4, 36, 9, 25, 4, 25, 4, 25]\n"
     ]
    }
   ],
   "source": [
    "# Memoize Pattern (Memento)\n",
    "\n",
    "class Memoize:\n",
    "    def __init__(self, fn):\n",
    "        self.fn = fn\n",
    "        self.cache = {}\n",
    "\n",
    "    def __call__(self, *args, **kwargs):\n",
    "        key = self.fn.__qualname__ + str(args) + str(kwargs)\n",
    "        if key not in self.cache:\n",
    "            self.cache[key] = self.fn(*args, **kwargs)\n",
    "        return self.cache[key]\n",
    "    \n",
    "\n",
    "from time import time, sleep\n",
    "\n",
    "@Memoize\n",
    "def square(x):\n",
    "    sleep(1)\n",
    "    print(\"Square of\", x, \"is\", x*x)\n",
    "    return x*x\n",
    "\n",
    "nums = [2, 5, 2, 6, 3, 5, 2, 5, 2, 5]\n",
    "result = []\n",
    "\n",
    "start = time()\n",
    "for v in nums:\n",
    "    result.append(square(v))\n",
    "duration = time() - start\n",
    "print(duration)\n",
    "print(result)\n"
   ]
  },
  {
   "cell_type": "code",
   "execution_count": 7,
   "id": "aaee2b10",
   "metadata": {},
   "outputs": [
    {
     "name": "stdout",
     "output_type": "stream",
     "text": [
      "Fetching https://python.org\n",
      "Fetching https://pypi.org\n",
      "Fetching https://fsf.org\n",
      "Fetching https://www.chandrashekar.info\n",
      "[200, 200, 200, 200, 200, 200, 200, 200]\n",
      "3.732240915298462\n"
     ]
    }
   ],
   "source": [
    "from time import time, sleep\n",
    "\n",
    "urls = [\n",
    "    \"https://python.org\",\n",
    "    \"https://pypi.org\",\n",
    "    \"https://fsf.org\",\n",
    "    \"https://python.org\",\n",
    "    \"https://python.org\",\n",
    "    \"https://fsf.org\",\n",
    "    \"https://www.chandrashekar.info\",\n",
    "    \"https://python.org\"\n",
    "]\n",
    "\n",
    "from functools import lru_cache\n",
    "\n",
    "@lru_cache\n",
    "def fetch_url(u):\n",
    "    from urllib.request import urlopen\n",
    "    print(\"Fetching\", u)\n",
    "    res = urlopen(u)\n",
    "    return res.code\n",
    "\n",
    "start = time()\n",
    "result = []\n",
    "for u in urls:\n",
    "    r = fetch_url(u)\n",
    "    result.append(r)\n",
    "duration = time() - start\n",
    "print(result)\n",
    "print(duration)\n"
   ]
  },
  {
   "cell_type": "code",
   "execution_count": 9,
   "id": "c3838d68",
   "metadata": {},
   "outputs": [
    {
     "data": {
      "text/plain": [
       "101"
      ]
     },
     "execution_count": 9,
     "metadata": {},
     "output_type": "execute_result"
    }
   ],
   "source": [
    "a = {\"a\": 100, \"b\": 200}\n",
    "b = {\"a1\": 101, \"b1\": 201}\n",
    "\n",
    "from collections import ChainMap\n",
    "c = ChainMap(a, b)\n",
    "\n",
    "c[\"a1\"]"
   ]
  },
  {
   "cell_type": "code",
   "execution_count": 11,
   "id": "bb4c0766",
   "metadata": {},
   "outputs": [],
   "source": [
    "import shelve\n",
    "s = shelve.open(\"a.dat\")\n",
    "s[\"a\"] = 100\n",
    "s.close()"
   ]
  },
  {
   "cell_type": "code",
   "execution_count": 21,
   "id": "119a42d7",
   "metadata": {},
   "outputs": [
    {
     "name": "stdout",
     "output_type": "stream",
     "text": [
      "10\n",
      "20\n",
      "30\n"
     ]
    }
   ],
   "source": [
    "a = [10, 20, 30]\n",
    "\n",
    "for v in a:\n",
    "    print(v)"
   ]
  },
  {
   "cell_type": "code",
   "execution_count": 22,
   "id": "5c28921a",
   "metadata": {},
   "outputs": [
    {
     "data": {
      "text/plain": [
       "<list_iterator at 0x18bcad43220>"
      ]
     },
     "execution_count": 22,
     "metadata": {},
     "output_type": "execute_result"
    }
   ],
   "source": [
    "iterator = iter(a)\n",
    "iterator"
   ]
  },
  {
   "cell_type": "code",
   "execution_count": 27,
   "id": "0468ef45",
   "metadata": {},
   "outputs": [
    {
     "name": "stdout",
     "output_type": "stream",
     "text": [
      "10\n",
      "20\n",
      "30\n"
     ]
    }
   ],
   "source": [
    "iterator = iter(a)\n",
    "\n",
    "try:\n",
    "    while True:\n",
    "        v = next(iterator)\n",
    "        # for loop body\n",
    "        print(v)\n",
    "except StopIteration:\n",
    "    pass"
   ]
  },
  {
   "cell_type": "markdown",
   "id": "37395b42",
   "metadata": {},
   "source": [
    "#### How to identify collections in Python:\n",
    " 1. Iterability: iter(obj) must return an iterator\n",
    " 2. Searchability: ```item in obj`` must either return True / False\n",
    " 3. Length: ```len(obj)``` must return a valid positive integer\n",
    " "
   ]
  },
  {
   "cell_type": "code",
   "execution_count": 37,
   "id": "5daa8663",
   "metadata": {},
   "outputs": [
    {
     "name": "stdout",
     "output_type": "stream",
     "text": [
      "0, 1, 4, 9, 16, 25, 36, 49, 64, 81, "
     ]
    },
    {
     "data": {
      "text/plain": [
       "True"
      ]
     },
     "execution_count": 37,
     "metadata": {},
     "output_type": "execute_result"
    }
   ],
   "source": [
    "class Scores:\n",
    "    def __getitem__(self, idx):\n",
    "        if 0 <= idx < 10:\n",
    "            return idx * idx\n",
    "        else:\n",
    "            raise IndexError(str(idx))\n",
    "        \n",
    "    def __len__(self):\n",
    "        return 10\n",
    "    \n",
    "\n",
    "s = Scores()\n",
    "len(s)  # s.__len__()\n",
    "for v in s:\n",
    "    print(v, end=\", \")\n",
    "\n",
    "25 in s"
   ]
  },
  {
   "cell_type": "code",
   "execution_count": 40,
   "id": "4953b756",
   "metadata": {},
   "outputs": [
    {
     "data": {
      "text/plain": [
       "<range_iterator at 0x18bcb931e50>"
      ]
     },
     "execution_count": 40,
     "metadata": {},
     "output_type": "execute_result"
    }
   ],
   "source": [
    "r = range(10)\n",
    "len(r)\n",
    "5 in r\n",
    "iter(r)"
   ]
  },
  {
   "cell_type": "code",
   "execution_count": 47,
   "id": "91b68df5",
   "metadata": {},
   "outputs": [
    {
     "data": {
      "text/plain": [
       "<_io.TextIOWrapper name='command_dispatch.py' mode='r' encoding='utf-8'>"
      ]
     },
     "execution_count": 47,
     "metadata": {},
     "output_type": "execute_result"
    }
   ],
   "source": [
    "infile = open(\"command_dispatch.py\")\n",
    "infile"
   ]
  },
  {
   "cell_type": "code",
   "execution_count": 43,
   "id": "374cda4b",
   "metadata": {},
   "outputs": [
    {
     "data": {
      "text/plain": [
       "<_io.TextIOWrapper name='command_dispatch.py' mode='r' encoding='utf-8'>"
      ]
     },
     "execution_count": 43,
     "metadata": {},
     "output_type": "execute_result"
    }
   ],
   "source": [
    "iter(infile)"
   ]
  },
  {
   "cell_type": "code",
   "execution_count": 48,
   "id": "6b67c089",
   "metadata": {},
   "outputs": [
    {
     "name": "stdout",
     "output_type": "stream",
     "text": [
      "--> class CommandDispatch:\n",
      "\n",
      "-->     def __init__(self, config):\n",
      "\n",
      "-->         self.config = config\n",
      "\n",
      "-->         self.dispatch = {}\n",
      "\n",
      "--> \n",
      "\n",
      "-->     def for_command(self, command):\n",
      "\n",
      "-->         def decorate(fn):\n",
      "\n",
      "-->             self.dispatch[command] = fn\n",
      "\n",
      "-->         return decorate\n",
      "\n",
      "--> \n",
      "\n",
      "-->     def invalid(self, fn):\n",
      "\n",
      "-->         self.invalidfn = fn\n",
      "\n",
      "--> \n",
      "\n",
      "-->     def input(self, fn):\n",
      "\n",
      "-->         self.inputfn = fn\n",
      "\n",
      "--> \n",
      "\n",
      "-->     def run(self):\n",
      "\n",
      "-->         while True:\n",
      "\n",
      "-->             args = self.inputfn(self.config)\n",
      "\n",
      "-->             self.dispatch.get(args[0], self.invalidfn)(*args)\n",
      "\n",
      "-->             \n",
      "\n"
     ]
    }
   ],
   "source": [
    "for line in infile:\n",
    "    print(\"-->\", line)"
   ]
  },
  {
   "cell_type": "code",
   "execution_count": 49,
   "id": "1ea35886",
   "metadata": {},
   "outputs": [
    {
     "ename": "TypeError",
     "evalue": "object of type '_io.TextIOWrapper' has no len()",
     "output_type": "error",
     "traceback": [
      "\u001b[1;31m---------------------------------------------------------------------------\u001b[0m",
      "\u001b[1;31mTypeError\u001b[0m                                 Traceback (most recent call last)",
      "Cell \u001b[1;32mIn[49], line 1\u001b[0m\n\u001b[1;32m----> 1\u001b[0m \u001b[38;5;28mlen\u001b[39m(infile)\n",
      "\u001b[1;31mTypeError\u001b[0m: object of type '_io.TextIOWrapper' has no len()"
     ]
    }
   ],
   "source": [
    "len(infile)"
   ]
  },
  {
   "cell_type": "code",
   "execution_count": 46,
   "id": "1365bcb1",
   "metadata": {},
   "outputs": [],
   "source": [
    "infile.close()"
   ]
  },
  {
   "cell_type": "markdown",
   "id": "4e4f1a8f",
   "metadata": {},
   "source": [
    "### Buffer Protocol\n",
    "\n",
    "Representation of collections that store their data in a memory-contiguous manner\n",
    "Examples: str, bytes, bytearray\n",
    "\n",
    "All collections that implement buffer protocol are homogenous collections.\n",
    "\n"
   ]
  },
  {
   "cell_type": "code",
   "execution_count": 51,
   "id": "b698b155",
   "metadata": {},
   "outputs": [
    {
     "name": "stdout",
     "output_type": "stream",
     "text": [
      "Hello world <class 'str'>\n",
      "b'Hello world' <class 'bytes'>\n"
     ]
    }
   ],
   "source": [
    "a = \"Hello world\"\n",
    "print(a, type(a))\n",
    "\n",
    "b = b\"Hello world\"\n",
    "print(b, type(b))"
   ]
  },
  {
   "cell_type": "code",
   "execution_count": 56,
   "id": "bdd49f1e",
   "metadata": {},
   "outputs": [
    {
     "data": {
      "text/plain": [
       "'Aअआइ'"
      ]
     },
     "execution_count": 56,
     "metadata": {},
     "output_type": "execute_result"
    }
   ],
   "source": [
    "a = \"A\\u0905\\u0906\\u0907\"\n",
    "a"
   ]
  },
  {
   "cell_type": "code",
   "execution_count": 57,
   "id": "04d82729",
   "metadata": {},
   "outputs": [
    {
     "data": {
      "text/plain": [
       "b'Hello world'"
      ]
     },
     "execution_count": 57,
     "metadata": {},
     "output_type": "execute_result"
    }
   ],
   "source": [
    "b = b\"Hello world\"\n",
    "b"
   ]
  },
  {
   "cell_type": "code",
   "execution_count": 62,
   "id": "a80d0cb7",
   "metadata": {},
   "outputs": [
    {
     "data": {
      "text/plain": [
       "'hello'"
      ]
     },
     "execution_count": 62,
     "metadata": {},
     "output_type": "execute_result"
    }
   ],
   "source": [
    "a = \"hello\"\n",
    "t = tuple(a)\n",
    "t\n",
    "\n",
    "a1 = str(t)\n",
    "a1\n",
    "\"\".join(t)"
   ]
  },
  {
   "cell_type": "code",
   "execution_count": 64,
   "id": "a92165dc",
   "metadata": {},
   "outputs": [
    {
     "data": {
      "text/plain": [
       "b'Hello'"
      ]
     },
     "execution_count": 64,
     "metadata": {},
     "output_type": "execute_result"
    }
   ],
   "source": [
    "b = b\"Hello\"\n",
    "\n",
    "t = tuple(b)\n",
    "t\n",
    "\n",
    "b1 = bytes(t)\n",
    "b1"
   ]
  },
  {
   "cell_type": "code",
   "execution_count": 65,
   "id": "fad1ae30",
   "metadata": {},
   "outputs": [
    {
     "data": {
      "text/plain": [
       "b' !\"#$%&\\'()*+,-./0123456789:;<=>?@ABCDEFGHIJKLMNOPQRSTUVWXYZ[\\\\]^_`abcdefghijklmnopqrstuvwxyz{|}~'"
      ]
     },
     "execution_count": 65,
     "metadata": {},
     "output_type": "execute_result"
    }
   ],
   "source": [
    "b = bytes(range(32, 127))\n",
    "b"
   ]
  },
  {
   "cell_type": "code",
   "execution_count": 66,
   "id": "63fbd6b4",
   "metadata": {},
   "outputs": [
    {
     "name": "stdout",
     "output_type": "stream",
     "text": [
      "b'A\\xfa\\xcb\\xa0'\n"
     ]
    }
   ],
   "source": [
    "b = b\"A\\xfa\\xcb\\xa0\"\n",
    "print(b)"
   ]
  },
  {
   "cell_type": "code",
   "execution_count": 72,
   "id": "ed1e7699",
   "metadata": {},
   "outputs": [
    {
     "name": "stdout",
     "output_type": "stream",
     "text": [
      "Aअआइ 4\n",
      "b'A\\xe0\\xa4\\x85\\xe0\\xa4\\x86\\xe0\\xa4\\x87' 10\n",
      "Aअआइ 4\n"
     ]
    }
   ],
   "source": [
    "a = \"A\\u0905\\u0906\\u0907\"\n",
    "print(a, len(a))\n",
    "\n",
    "b = bytes(a, \"utf8\")\n",
    "b = a.encode(\"utf8\")\n",
    "print(b, len(b))\n",
    "\n",
    "c = str(b, \"utf8\")\n",
    "c = b.decode(\"utf8\")\n",
    "print(c, len(c))"
   ]
  },
  {
   "cell_type": "code",
   "execution_count": 73,
   "id": "727855c4",
   "metadata": {},
   "outputs": [
    {
     "data": {
      "text/plain": [
       "<_io.TextIOWrapper name='C:\\\\Users\\\\Deskt\\\\Downloads\\\\Git-2.50.1-64-bit.exe' mode='r' encoding='utf-8'>"
      ]
     },
     "execution_count": 73,
     "metadata": {},
     "output_type": "execute_result"
    }
   ],
   "source": [
    "path = r\"C:\\Users\\Deskt\\Downloads\\Git-2.50.1-64-bit.exe\"\n",
    "\n",
    "infile = open(path)\n",
    "infile"
   ]
  },
  {
   "cell_type": "code",
   "execution_count": 74,
   "id": "d719584e",
   "metadata": {},
   "outputs": [
    {
     "ename": "UnicodeDecodeError",
     "evalue": "'utf-8' codec can't decode byte 0xff in position 12: invalid start byte",
     "output_type": "error",
     "traceback": [
      "\u001b[1;31m---------------------------------------------------------------------------\u001b[0m",
      "\u001b[1;31mUnicodeDecodeError\u001b[0m                        Traceback (most recent call last)",
      "Cell \u001b[1;32mIn[74], line 1\u001b[0m\n\u001b[1;32m----> 1\u001b[0m infile\u001b[38;5;241m.\u001b[39mreadline()\n",
      "File \u001b[1;32m<frozen codecs>:325\u001b[0m, in \u001b[0;36mdecode\u001b[1;34m(self, input, final)\u001b[0m\n",
      "\u001b[1;31mUnicodeDecodeError\u001b[0m: 'utf-8' codec can't decode byte 0xff in position 12: invalid start byte"
     ]
    }
   ],
   "source": [
    "infile.readline()"
   ]
  },
  {
   "cell_type": "code",
   "execution_count": 75,
   "id": "196a3705",
   "metadata": {},
   "outputs": [
    {
     "data": {
      "text/plain": [
       "<_io.TextIOWrapper name='command_dispatch.py' mode='r' encoding='utf-8'>"
      ]
     },
     "execution_count": 75,
     "metadata": {},
     "output_type": "execute_result"
    }
   ],
   "source": [
    "a = open(\"command_dispatch.py\")\n",
    "a"
   ]
  },
  {
   "cell_type": "code",
   "execution_count": 85,
   "id": "e42c9ee8",
   "metadata": {},
   "outputs": [
    {
     "name": "stdout",
     "output_type": "stream",
     "text": [
      "bytearray(b'Aello world')\n",
      "bytearray(b'Hello new world')\n",
      "bytearray(b'Hello world')\n"
     ]
    }
   ],
   "source": [
    "# bytearray\n",
    "b = bytearray(b\"Hello world\")\n",
    "b[0] = 65\n",
    "print(b)\n",
    "b[0] = ord('H')\n",
    "b\n",
    "b[5:5] = b' new'\n",
    "print(b)\n",
    "del b[6:10]\n",
    "print(b)\n"
   ]
  },
  {
   "cell_type": "code",
   "execution_count": null,
   "id": "63e07554",
   "metadata": {},
   "outputs": [],
   "source": [
    "from array import array\n"
   ]
  }
 ],
 "metadata": {
  "kernelspec": {
   "display_name": "base",
   "language": "python",
   "name": "python3"
  },
  "language_info": {
   "codemirror_mode": {
    "name": "ipython",
    "version": 3
   },
   "file_extension": ".py",
   "mimetype": "text/x-python",
   "name": "python",
   "nbconvert_exporter": "python",
   "pygments_lexer": "ipython3",
   "version": "3.13.5"
  }
 },
 "nbformat": 4,
 "nbformat_minor": 5
}
