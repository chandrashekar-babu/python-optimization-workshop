{
 "cells": [
  {
   "cell_type": "code",
   "execution_count": 3,
   "id": "b1ce78e6",
   "metadata": {},
   "outputs": [
    {
     "name": "stdout",
     "output_type": "stream",
     "text": [
      "1962685286784 1962685286784\n"
     ]
    }
   ],
   "source": [
    "class World:\n",
    "    def __new__(cls):\n",
    "        if hasattr(cls, 'instance'):\n",
    "            return cls.instance\n",
    "        else:\n",
    "            cls.instance = super().__new__(cls)\n",
    "            return cls.instance\n",
    "\n",
    "\n",
    "w1 = World()\n",
    "w2 = World()\n",
    "print(id(w1), id(w2))"
   ]
  },
  {
   "cell_type": "code",
   "execution_count": 17,
   "id": "6054ff7d",
   "metadata": {},
   "outputs": [
    {
     "name": "stdout",
     "output_type": "stream",
     "text": [
      "Database object created...\n",
      "<__main__.Singleton object at 0x0000018BCB95D6D0> <__main__.Singleton object at 0x0000018BCB84F620>\n"
     ]
    }
   ],
   "source": [
    "class Singleton:\n",
    "    def __init__(self, target):\n",
    "        self.target = target()\n",
    "\n",
    "    def __call__(self):\n",
    "        return self.target\n",
    "\n",
    "@Singleton\n",
    "class World: # World = Singleton(World)\n",
    "    pass\n",
    "\n",
    "@Singleton\n",
    "class Database:\n",
    "    def __init__(self):\n",
    "        print(\"Database object created...\")\n",
    "\n",
    "\n",
    "print(Database, World)"
   ]
  },
  {
   "cell_type": "markdown",
   "id": "7520603d",
   "metadata": {},
   "source": [
    "#### Decorators in Python"
   ]
  },
  {
   "cell_type": "markdown",
   "id": "95da952c",
   "metadata": {},
   "source": [
    "A syntax feature that aids in AOP patterns in a simpler syntax / structure "
   ]
  },
  {
   "cell_type": "code",
   "execution_count": 12,
   "id": "dc6fd258",
   "metadata": {},
   "outputs": [],
   "source": [
    "def to_upper(fn):\n",
    "    def wrap():\n",
    "        return fn().upper()\n",
    "    return wrap\n",
    "\n",
    "def strong(fn):\n",
    "    def wrap():\n",
    "        return \"<strong>\" + fn() + \"</strong>\"\n",
    "    return wrap\n",
    "\n",
    "\n"
   ]
  },
  {
   "cell_type": "code",
   "execution_count": null,
   "id": "619bcb59",
   "metadata": {},
   "outputs": [
    {
     "data": {
      "text/plain": [
       "'<strong>HELLO, WORLD</strong>'"
      ]
     },
     "execution_count": 16,
     "metadata": {},
     "output_type": "execute_result"
    }
   ],
   "source": [
    "@strong\n",
    "@to_upper\n",
    "def greet():\n",
    "    return \"Hello, world\"\n",
    "\n",
    "#greet = to_upper(greet)\n",
    "greet()"
   ]
  },
  {
   "cell_type": "code",
   "execution_count": 30,
   "id": "3b9d7516",
   "metadata": {},
   "outputs": [
    {
     "name": "stdout",
     "output_type": "stream",
     "text": [
      "decorator invoked\n",
      "start\n",
      "wrap invoked\n",
      "testfn invoked\n"
     ]
    }
   ],
   "source": [
    "def decorator(fn):\n",
    "    print(\"decorator invoked\")\n",
    "    def wrap():\n",
    "        print(\"wrap invoked\")\n",
    "        fn()\n",
    "    return wrap\n",
    "\n",
    "@decorator\n",
    "def testfn():\n",
    "    print(\"testfn invoked\")\n",
    "\n",
    "print(\"start\")\n",
    "testfn()\n"
   ]
  },
  {
   "cell_type": "code",
   "execution_count": null,
   "id": "8cff58af",
   "metadata": {},
   "outputs": [
    {
     "name": "stdout",
     "output_type": "stream",
     "text": [
      "200000000\n",
      "20000000\n"
     ]
    }
   ],
   "source": [
    "def profile(fn):\n",
    "    from time import time, ctime\n",
    "    stats = {}\n",
    "    def wrap(*args, **kwargs):\n",
    "        start = time()\n",
    "\n",
    "        ret = fn(*args, **kwargs)\n",
    "        \n",
    "        duration = time() - start\n",
    "        record = (args, kwargs, ctime(), duration)\n",
    "        stats.setdefault(fn.__qualname__, []).append(record)\n",
    "        \n",
    "        return ret\n",
    "\n",
    "    def report():\n",
    "        for rec in stats.get(fn.__qualname__, []):\n",
    "            args, kwargs, ts, duration = rec\n",
    "            print(f\"{ts}: {fn.__qualname__}{args} took {duration} seconds.\")    \n",
    "\n",
    "    wrap.report = report\n",
    "    return wrap\n",
    "\n",
    "@profile\n",
    "def slow_test(count):\n",
    "    for i in range(count):\n",
    "        pass\n",
    "    return count * 2\n",
    "\n",
    "print(slow_test(100_000_000))\n",
    "print(slow_test(10_000_000))\n",
    "\n",
    "# OUT: Wed Aug 13 10:43:15 2025: slow_test(100_000_000) took 1.23 seconds\n",
    "# OUT  Wed Aug 13 10:43:16 2025: slow_test(10_000_000) took 0.27 seconds\n"
   ]
  },
  {
   "cell_type": "code",
   "execution_count": 54,
   "id": "8c234ada",
   "metadata": {},
   "outputs": [
    {
     "name": "stdout",
     "output_type": "stream",
     "text": [
      "200000000\n",
      "20000000\n"
     ]
    }
   ],
   "source": [
    "class Profile:\n",
    "    def __init__(self, fn):\n",
    "        self.stats = {}\n",
    "        self.fn = fn\n",
    "\n",
    "    def __call__(self, *args, **kwargs):\n",
    "        from time import time, ctime\n",
    "        start = time()\n",
    "\n",
    "        ret = self.fn(*args, **kwargs)\n",
    "        duration = time() - start\n",
    "        \n",
    "        record = (args, kwargs, ctime(), duration)\n",
    "        self.stats.setdefault(self.fn.__qualname__, []).append(record)\n",
    "        \n",
    "        return ret\n",
    "\n",
    "    def report(self):\n",
    "        for rec in self.stats.get(self.fn.__qualname__, []):\n",
    "            args, kwargs, ts, duration = rec\n",
    "            print(f\"{ts}: {self.fn.__qualname__}{args} took {duration} seconds.\")    \n",
    "\n",
    "@Profile\n",
    "def slow_test(count):\n",
    "    for i in range(count):\n",
    "        pass\n",
    "    return count * 2\n",
    "\n",
    "print(slow_test(100_000_000))\n",
    "print(slow_test(10_000_000))\n",
    "\n",
    "# OUT: Wed Aug 13 10:43:15 2025: slow_test(100_000_000) took 1.23 seconds\n",
    "# OUT  Wed Aug 13 10:43:16 2025: slow_test(10_000_000) took 0.27 seconds\n"
   ]
  },
  {
   "cell_type": "code",
   "execution_count": 55,
   "id": "5c9dca2d",
   "metadata": {},
   "outputs": [
    {
     "name": "stdout",
     "output_type": "stream",
     "text": [
      "Wed Aug 13 12:08:43 2025: slow_test(100000000,) took 1.6132164001464844 seconds.\n",
      "Wed Aug 13 12:08:43 2025: slow_test(10000000,) took 0.17212653160095215 seconds.\n"
     ]
    }
   ],
   "source": [
    "slow_test.report()"
   ]
  },
  {
   "cell_type": "code",
   "execution_count": 20,
   "id": "6a3f3e0a",
   "metadata": {},
   "outputs": [
    {
     "data": {
      "text/plain": [
       "'Wed Aug 13 10:43:15 2025'"
      ]
     },
     "execution_count": 20,
     "metadata": {},
     "output_type": "execute_result"
    }
   ],
   "source": [
    "from time import ctime\n",
    "ctime()"
   ]
  },
  {
   "cell_type": "code",
   "execution_count": 28,
   "id": "a05cd293",
   "metadata": {},
   "outputs": [
    {
     "data": {
      "text/plain": [
       "'HELLO, WORLD'"
      ]
     },
     "execution_count": 28,
     "metadata": {},
     "output_type": "execute_result"
    }
   ],
   "source": [
    "def style(s):\n",
    "    def decorate(fn):\n",
    "        if s == \"strong\":\n",
    "            def wrap():\n",
    "                return \"<strong>\" + fn() + \"</strong>\"\n",
    "        elif s == \"upper\":\n",
    "            def wrap():\n",
    "                return fn().upper()\n",
    "        else:\n",
    "            wrap = fn\n",
    "        return wrap\n",
    "    return decorate\n",
    "\n",
    "@style(\"upper\")\n",
    "def greet():\n",
    "    return \"Hello, world\"\n",
    "\n",
    "greet()"
   ]
  },
  {
   "cell_type": "code",
   "execution_count": 40,
   "id": "ffb687d6",
   "metadata": {},
   "outputs": [
    {
     "name": "stdout",
     "output_type": "stream",
     "text": [
      "Driving Maruti Suzuki car\n"
     ]
    }
   ],
   "source": [
    "class Car:\n",
    "    def __init__(self, make):\n",
    "        self.make = make\n",
    "\n",
    "    def __add__(self, other):\n",
    "        return Car(self.make + \" \" + other.make)\n",
    "    \n",
    "    def drive(self):\n",
    "        print(f\"Driving {self.make} car\")\n",
    "    \n",
    "c1 = Car(\"Maruti\")\n",
    "c2 = Car(\"Suzuki\")\n",
    "c3 = c1 + c2 # c1.__add__(c2) -> Car.__add__(c1, c2)\n",
    "c3.drive()      "
   ]
  },
  {
   "cell_type": "code",
   "execution_count": 46,
   "id": "3013af10",
   "metadata": {},
   "outputs": [
    {
     "name": "stdout",
     "output_type": "stream",
     "text": [
      "<@Toupper: <function greet at 0x000001C8F9B422A0>> <class '__main__.ToUpper'>\n"
     ]
    },
    {
     "data": {
      "text/plain": [
       "'Hello, world'"
      ]
     },
     "execution_count": 46,
     "metadata": {},
     "output_type": "execute_result"
    }
   ],
   "source": [
    "class ToUpper:\n",
    "    def __init__(self, target):\n",
    "        self.target = target\n",
    "\n",
    "    def __call__(self):\n",
    "        return self.target()\n",
    "    \n",
    "    def __str__(self):\n",
    "        #return str(self.target)  # Bad practice\n",
    "        return f\"<@Toupper: {str(self.target)}>\"\n",
    "@ToUpper\n",
    "def greet():\n",
    "    return \"Hello, world\"\n",
    "\n",
    "# greet = ToUpper(greet)\n",
    "\n",
    "greet()\n",
    "print(greet, type(greet))\n",
    "greet()"
   ]
  },
  {
   "cell_type": "code",
   "execution_count": 34,
   "id": "0cde45c8",
   "metadata": {},
   "outputs": [
    {
     "data": {
      "text/plain": [
       "(function, 1962693403296)"
      ]
     },
     "execution_count": 34,
     "metadata": {},
     "output_type": "execute_result"
    }
   ],
   "source": [
    "def greet(): \n",
    "    return \"Hello, world\"\n",
    "\n",
    "\n",
    "type(greet), id(greet)"
   ]
  },
  {
   "cell_type": "code",
   "execution_count": null,
   "id": "0f46a791",
   "metadata": {},
   "outputs": [
    {
     "data": {
      "text/plain": [
       "'<STRONG>HELLO, WORLD</STRONG>'"
      ]
     },
     "execution_count": 49,
     "metadata": {},
     "output_type": "execute_result"
    }
   ],
   "source": [
    "class Style:\n",
    "    def __init__(self, s):\n",
    "        self.style = s\n",
    "\n",
    "    def __call__(self, fn):\n",
    "        self.target = fn\n",
    "        if self.style == 'upper':\n",
    "            return self.to_upper\n",
    "        elif self.style == 'strong':\n",
    "            return self.to_strong\n",
    "        \n",
    "    def to_upper(self):\n",
    "        return self.target().upper()\n",
    "    \n",
    "    def to_strong(self):\n",
    "        return \"<strong>\" + self.target() + \"</strong>\"\n",
    "    \n",
    "@Style(\"upper\")\n",
    "@Style(\"strong\")\n",
    "def greet():\n",
    "    return \"Hello, world\"\n",
    "\n",
    "greet()"
   ]
  },
  {
   "cell_type": "code",
   "execution_count": 52,
   "id": "6c786a53",
   "metadata": {},
   "outputs": [
    {
     "data": {
      "text/plain": [
       "'<STRONG><I>HELLO, WORLD</I></STRONG>'"
      ]
     },
     "execution_count": 52,
     "metadata": {},
     "output_type": "execute_result"
    }
   ],
   "source": [
    "class Style:\n",
    "    def __init__(self, s):\n",
    "        self.style = s\n",
    "\n",
    "    def __call__(self, fn):\n",
    "        self.target = fn\n",
    "        wrapper = f'to_{self.style}'\n",
    "        if hasattr(self, wrapper):\n",
    "            return getattr(self, wrapper)\n",
    "        else:\n",
    "            return self.target\n",
    "           \n",
    "    def to_upper(self):\n",
    "        return self.target().upper()\n",
    "    \n",
    "    def to_strong(self):\n",
    "        return \"<strong>\" + self.target() + \"</strong>\"\n",
    "    \n",
    "    def to_italics(self):\n",
    "        return \"<i>\" + self.target() + \"</i>\"\n",
    "    \n",
    "@Style(\"upper\")\n",
    "@Style(\"strong\")\n",
    "@Style(\"italics\")\n",
    "def greet():\n",
    "    return \"Hello, world\"\n",
    "\n",
    "greet()"
   ]
  },
  {
   "cell_type": "code",
   "execution_count": 2,
   "id": "838d2e6f",
   "metadata": {},
   "outputs": [
    {
     "name": "stdout",
     "output_type": "stream",
     "text": [
      "Square of 2 is 4\n",
      "Square of 5 is 25\n",
      "Square of 6 is 36\n",
      "Square of 3 is 9\n",
      "4.002784013748169\n",
      "[4, 25, 4, 36, 9, 25, 4, 25, 4, 25]\n"
     ]
    }
   ],
   "source": [
    "# Memoize Pattern (Memento)\n",
    "\n",
    "class Memoize:\n",
    "    def __init__(self, fn):\n",
    "        self.fn = fn\n",
    "        self.cache = {}\n",
    "\n",
    "    def __call__(self, *args, **kwargs):\n",
    "        key = self.fn.__qualname__ + str(args) + str(kwargs)\n",
    "        if key not in self.cache:\n",
    "            self.cache[key] = self.fn(*args, **kwargs)\n",
    "        return self.cache[key]\n",
    "    \n",
    "\n",
    "from time import time, sleep\n",
    "\n",
    "@Memoize\n",
    "def square(x):\n",
    "    sleep(1)\n",
    "    print(\"Square of\", x, \"is\", x*x)\n",
    "    return x*x\n",
    "\n",
    "nums = [2, 5, 2, 6, 3, 5, 2, 5, 2, 5]\n",
    "result = []\n",
    "\n",
    "start = time()\n",
    "for v in nums:\n",
    "    result.append(square(v))\n",
    "duration = time() - start\n",
    "print(duration)\n",
    "print(result)\n"
   ]
  },
  {
   "cell_type": "code",
   "execution_count": 7,
   "id": "aaee2b10",
   "metadata": {},
   "outputs": [
    {
     "name": "stdout",
     "output_type": "stream",
     "text": [
      "Fetching https://python.org\n",
      "Fetching https://pypi.org\n",
      "Fetching https://fsf.org\n",
      "Fetching https://www.chandrashekar.info\n",
      "[200, 200, 200, 200, 200, 200, 200, 200]\n",
      "3.732240915298462\n"
     ]
    }
   ],
   "source": [
    "from time import time, sleep\n",
    "\n",
    "urls = [\n",
    "    \"https://python.org\",\n",
    "    \"https://pypi.org\",\n",
    "    \"https://fsf.org\",\n",
    "    \"https://python.org\",\n",
    "    \"https://python.org\",\n",
    "    \"https://fsf.org\",\n",
    "    \"https://www.chandrashekar.info\",\n",
    "    \"https://python.org\"\n",
    "]\n",
    "\n",
    "from functools import lru_cache\n",
    "\n",
    "@lru_cache\n",
    "def fetch_url(u):\n",
    "    from urllib.request import urlopen\n",
    "    print(\"Fetching\", u)\n",
    "    res = urlopen(u)\n",
    "    return res.code\n",
    "\n",
    "start = time()\n",
    "result = []\n",
    "for u in urls:\n",
    "    r = fetch_url(u)\n",
    "    result.append(r)\n",
    "duration = time() - start\n",
    "print(result)\n",
    "print(duration)\n"
   ]
  },
  {
   "cell_type": "code",
   "execution_count": 9,
   "id": "c3838d68",
   "metadata": {},
   "outputs": [
    {
     "data": {
      "text/plain": [
       "101"
      ]
     },
     "execution_count": 9,
     "metadata": {},
     "output_type": "execute_result"
    }
   ],
   "source": [
    "a = {\"a\": 100, \"b\": 200}\n",
    "b = {\"a1\": 101, \"b1\": 201}\n",
    "\n",
    "from collections import ChainMap\n",
    "c = ChainMap(a, b)\n",
    "\n",
    "c[\"a1\"]"
   ]
  },
  {
   "cell_type": "code",
   "execution_count": 11,
   "id": "bb4c0766",
   "metadata": {},
   "outputs": [],
   "source": [
    "import shelve\n",
    "s = shelve.open(\"a.dat\")\n",
    "s[\"a\"] = 100\n",
    "s.close()"
   ]
  },
  {
   "cell_type": "code",
   "execution_count": 21,
   "id": "119a42d7",
   "metadata": {},
   "outputs": [
    {
     "name": "stdout",
     "output_type": "stream",
     "text": [
      "10\n",
      "20\n",
      "30\n"
     ]
    }
   ],
   "source": [
    "a = [10, 20, 30]\n",
    "\n",
    "for v in a:\n",
    "    print(v)"
   ]
  },
  {
   "cell_type": "code",
   "execution_count": 22,
   "id": "5c28921a",
   "metadata": {},
   "outputs": [
    {
     "data": {
      "text/plain": [
       "<list_iterator at 0x18bcad43220>"
      ]
     },
     "execution_count": 22,
     "metadata": {},
     "output_type": "execute_result"
    }
   ],
   "source": [
    "iterator = iter(a)\n",
    "iterator"
   ]
  },
  {
   "cell_type": "code",
   "execution_count": 27,
   "id": "0468ef45",
   "metadata": {},
   "outputs": [
    {
     "name": "stdout",
     "output_type": "stream",
     "text": [
      "10\n",
      "20\n",
      "30\n"
     ]
    }
   ],
   "source": [
    "iterator = iter(a)\n",
    "\n",
    "try:\n",
    "    while True:\n",
    "        v = next(iterator)\n",
    "        # for loop body\n",
    "        print(v)\n",
    "except StopIteration:\n",
    "    pass"
   ]
  },
  {
   "cell_type": "markdown",
   "id": "37395b42",
   "metadata": {},
   "source": [
    "#### How to identify collections in Python:\n",
    " 1. Iterability: iter(obj) must return an iterator\n",
    " 2. Searchability: ```item in obj`` must either return True / False\n",
    " 3. Length: ```len(obj)``` must return a valid positive integer\n",
    " "
   ]
  },
  {
   "cell_type": "code",
   "execution_count": 37,
   "id": "5daa8663",
   "metadata": {},
   "outputs": [
    {
     "name": "stdout",
     "output_type": "stream",
     "text": [
      "0, 1, 4, 9, 16, 25, 36, 49, 64, 81, "
     ]
    },
    {
     "data": {
      "text/plain": [
       "True"
      ]
     },
     "execution_count": 37,
     "metadata": {},
     "output_type": "execute_result"
    }
   ],
   "source": [
    "class Scores:\n",
    "    def __getitem__(self, idx):\n",
    "        if 0 <= idx < 10:\n",
    "            return idx * idx\n",
    "        else:\n",
    "            raise IndexError(str(idx))\n",
    "        \n",
    "    def __len__(self):\n",
    "        return 10\n",
    "    \n",
    "\n",
    "s = Scores()\n",
    "len(s)  # s.__len__()\n",
    "for v in s:\n",
    "    print(v, end=\", \")\n",
    "\n",
    "25 in s"
   ]
  },
  {
   "cell_type": "code",
   "execution_count": 40,
   "id": "4953b756",
   "metadata": {},
   "outputs": [
    {
     "data": {
      "text/plain": [
       "<range_iterator at 0x18bcb931e50>"
      ]
     },
     "execution_count": 40,
     "metadata": {},
     "output_type": "execute_result"
    }
   ],
   "source": [
    "r = range(10)\n",
    "len(r)\n",
    "5 in r\n",
    "iter(r)"
   ]
  },
  {
   "cell_type": "code",
   "execution_count": 47,
   "id": "91b68df5",
   "metadata": {},
   "outputs": [
    {
     "data": {
      "text/plain": [
       "<_io.TextIOWrapper name='command_dispatch.py' mode='r' encoding='utf-8'>"
      ]
     },
     "execution_count": 47,
     "metadata": {},
     "output_type": "execute_result"
    }
   ],
   "source": [
    "infile = open(\"command_dispatch.py\")\n",
    "infile"
   ]
  },
  {
   "cell_type": "code",
   "execution_count": 43,
   "id": "374cda4b",
   "metadata": {},
   "outputs": [
    {
     "data": {
      "text/plain": [
       "<_io.TextIOWrapper name='command_dispatch.py' mode='r' encoding='utf-8'>"
      ]
     },
     "execution_count": 43,
     "metadata": {},
     "output_type": "execute_result"
    }
   ],
   "source": [
    "iter(infile)"
   ]
  },
  {
   "cell_type": "code",
   "execution_count": 48,
   "id": "6b67c089",
   "metadata": {},
   "outputs": [
    {
     "name": "stdout",
     "output_type": "stream",
     "text": [
      "--> class CommandDispatch:\n",
      "\n",
      "-->     def __init__(self, config):\n",
      "\n",
      "-->         self.config = config\n",
      "\n",
      "-->         self.dispatch = {}\n",
      "\n",
      "--> \n",
      "\n",
      "-->     def for_command(self, command):\n",
      "\n",
      "-->         def decorate(fn):\n",
      "\n",
      "-->             self.dispatch[command] = fn\n",
      "\n",
      "-->         return decorate\n",
      "\n",
      "--> \n",
      "\n",
      "-->     def invalid(self, fn):\n",
      "\n",
      "-->         self.invalidfn = fn\n",
      "\n",
      "--> \n",
      "\n",
      "-->     def input(self, fn):\n",
      "\n",
      "-->         self.inputfn = fn\n",
      "\n",
      "--> \n",
      "\n",
      "-->     def run(self):\n",
      "\n",
      "-->         while True:\n",
      "\n",
      "-->             args = self.inputfn(self.config)\n",
      "\n",
      "-->             self.dispatch.get(args[0], self.invalidfn)(*args)\n",
      "\n",
      "-->             \n",
      "\n"
     ]
    }
   ],
   "source": [
    "for line in infile:\n",
    "    print(\"-->\", line)"
   ]
  },
  {
   "cell_type": "code",
   "execution_count": 49,
   "id": "1ea35886",
   "metadata": {},
   "outputs": [
    {
     "ename": "TypeError",
     "evalue": "object of type '_io.TextIOWrapper' has no len()",
     "output_type": "error",
     "traceback": [
      "\u001b[1;31m---------------------------------------------------------------------------\u001b[0m",
      "\u001b[1;31mTypeError\u001b[0m                                 Traceback (most recent call last)",
      "Cell \u001b[1;32mIn[49], line 1\u001b[0m\n\u001b[1;32m----> 1\u001b[0m \u001b[38;5;28mlen\u001b[39m(infile)\n",
      "\u001b[1;31mTypeError\u001b[0m: object of type '_io.TextIOWrapper' has no len()"
     ]
    }
   ],
   "source": [
    "len(infile)"
   ]
  },
  {
   "cell_type": "code",
   "execution_count": 46,
   "id": "1365bcb1",
   "metadata": {},
   "outputs": [],
   "source": [
    "infile.close()"
   ]
  },
  {
   "cell_type": "markdown",
   "id": "4e4f1a8f",
   "metadata": {},
   "source": [
    "### Buffer Protocol\n",
    "\n",
    "Representation of collections that store their data in a memory-contiguous manner\n",
    "Examples: str, bytes, bytearray\n",
    "\n",
    "All collections that implement buffer protocol are homogenous collections.\n",
    "\n"
   ]
  },
  {
   "cell_type": "code",
   "execution_count": 51,
   "id": "b698b155",
   "metadata": {},
   "outputs": [
    {
     "name": "stdout",
     "output_type": "stream",
     "text": [
      "Hello world <class 'str'>\n",
      "b'Hello world' <class 'bytes'>\n"
     ]
    }
   ],
   "source": [
    "a = \"Hello world\"\n",
    "print(a, type(a))\n",
    "\n",
    "b = b\"Hello world\"\n",
    "print(b, type(b))"
   ]
  },
  {
   "cell_type": "code",
   "execution_count": 56,
   "id": "bdd49f1e",
   "metadata": {},
   "outputs": [
    {
     "data": {
      "text/plain": [
       "'Aअआइ'"
      ]
     },
     "execution_count": 56,
     "metadata": {},
     "output_type": "execute_result"
    }
   ],
   "source": [
    "a = \"A\\u0905\\u0906\\u0907\"\n",
    "a"
   ]
  },
  {
   "cell_type": "code",
   "execution_count": 57,
   "id": "04d82729",
   "metadata": {},
   "outputs": [
    {
     "data": {
      "text/plain": [
       "b'Hello world'"
      ]
     },
     "execution_count": 57,
     "metadata": {},
     "output_type": "execute_result"
    }
   ],
   "source": [
    "b = b\"Hello world\"\n",
    "b"
   ]
  },
  {
   "cell_type": "code",
   "execution_count": 62,
   "id": "a80d0cb7",
   "metadata": {},
   "outputs": [
    {
     "data": {
      "text/plain": [
       "'hello'"
      ]
     },
     "execution_count": 62,
     "metadata": {},
     "output_type": "execute_result"
    }
   ],
   "source": [
    "a = \"hello\"\n",
    "t = tuple(a)\n",
    "t\n",
    "\n",
    "a1 = str(t)\n",
    "a1\n",
    "\"\".join(t)"
   ]
  },
  {
   "cell_type": "code",
   "execution_count": 64,
   "id": "a92165dc",
   "metadata": {},
   "outputs": [
    {
     "data": {
      "text/plain": [
       "b'Hello'"
      ]
     },
     "execution_count": 64,
     "metadata": {},
     "output_type": "execute_result"
    }
   ],
   "source": [
    "b = b\"Hello\"\n",
    "\n",
    "t = tuple(b)\n",
    "t\n",
    "\n",
    "b1 = bytes(t)\n",
    "b1"
   ]
  },
  {
   "cell_type": "code",
   "execution_count": 65,
   "id": "fad1ae30",
   "metadata": {},
   "outputs": [
    {
     "data": {
      "text/plain": [
       "b' !\"#$%&\\'()*+,-./0123456789:;<=>?@ABCDEFGHIJKLMNOPQRSTUVWXYZ[\\\\]^_`abcdefghijklmnopqrstuvwxyz{|}~'"
      ]
     },
     "execution_count": 65,
     "metadata": {},
     "output_type": "execute_result"
    }
   ],
   "source": [
    "b = bytes(range(32, 127))\n",
    "b"
   ]
  },
  {
   "cell_type": "code",
   "execution_count": 66,
   "id": "63fbd6b4",
   "metadata": {},
   "outputs": [
    {
     "name": "stdout",
     "output_type": "stream",
     "text": [
      "b'A\\xfa\\xcb\\xa0'\n"
     ]
    }
   ],
   "source": [
    "b = b\"A\\xfa\\xcb\\xa0\"\n",
    "print(b)"
   ]
  },
  {
   "cell_type": "code",
   "execution_count": 72,
   "id": "ed1e7699",
   "metadata": {},
   "outputs": [
    {
     "name": "stdout",
     "output_type": "stream",
     "text": [
      "Aअआइ 4\n",
      "b'A\\xe0\\xa4\\x85\\xe0\\xa4\\x86\\xe0\\xa4\\x87' 10\n",
      "Aअआइ 4\n"
     ]
    }
   ],
   "source": [
    "a = \"A\\u0905\\u0906\\u0907\"\n",
    "print(a, len(a))\n",
    "\n",
    "b = bytes(a, \"utf8\")\n",
    "b = a.encode(\"utf8\")\n",
    "print(b, len(b))\n",
    "\n",
    "c = str(b, \"utf8\")\n",
    "c = b.decode(\"utf8\")\n",
    "print(c, len(c))"
   ]
  },
  {
   "cell_type": "code",
   "execution_count": 73,
   "id": "727855c4",
   "metadata": {},
   "outputs": [
    {
     "data": {
      "text/plain": [
       "<_io.TextIOWrapper name='C:\\\\Users\\\\Deskt\\\\Downloads\\\\Git-2.50.1-64-bit.exe' mode='r' encoding='utf-8'>"
      ]
     },
     "execution_count": 73,
     "metadata": {},
     "output_type": "execute_result"
    }
   ],
   "source": [
    "path = r\"C:\\Users\\Deskt\\Downloads\\Git-2.50.1-64-bit.exe\"\n",
    "\n",
    "infile = open(path)\n",
    "infile"
   ]
  },
  {
   "cell_type": "code",
   "execution_count": 74,
   "id": "d719584e",
   "metadata": {},
   "outputs": [
    {
     "ename": "UnicodeDecodeError",
     "evalue": "'utf-8' codec can't decode byte 0xff in position 12: invalid start byte",
     "output_type": "error",
     "traceback": [
      "\u001b[1;31m---------------------------------------------------------------------------\u001b[0m",
      "\u001b[1;31mUnicodeDecodeError\u001b[0m                        Traceback (most recent call last)",
      "Cell \u001b[1;32mIn[74], line 1\u001b[0m\n\u001b[1;32m----> 1\u001b[0m infile\u001b[38;5;241m.\u001b[39mreadline()\n",
      "File \u001b[1;32m<frozen codecs>:325\u001b[0m, in \u001b[0;36mdecode\u001b[1;34m(self, input, final)\u001b[0m\n",
      "\u001b[1;31mUnicodeDecodeError\u001b[0m: 'utf-8' codec can't decode byte 0xff in position 12: invalid start byte"
     ]
    }
   ],
   "source": [
    "infile.readline()"
   ]
  },
  {
   "cell_type": "code",
   "execution_count": 75,
   "id": "196a3705",
   "metadata": {},
   "outputs": [
    {
     "data": {
      "text/plain": [
       "<_io.TextIOWrapper name='command_dispatch.py' mode='r' encoding='utf-8'>"
      ]
     },
     "execution_count": 75,
     "metadata": {},
     "output_type": "execute_result"
    }
   ],
   "source": [
    "a = open(\"command_dispatch.py\")\n",
    "a"
   ]
  },
  {
   "cell_type": "code",
   "execution_count": 85,
   "id": "e42c9ee8",
   "metadata": {},
   "outputs": [
    {
     "name": "stdout",
     "output_type": "stream",
     "text": [
      "bytearray(b'Aello world')\n",
      "bytearray(b'Hello new world')\n",
      "bytearray(b'Hello world')\n"
     ]
    }
   ],
   "source": [
    "# bytearray\n",
    "b = bytearray(b\"Hello world\")\n",
    "b[0] = 65\n",
    "print(b)\n",
    "b[0] = ord('H')\n",
    "b\n",
    "b[5:5] = b' new'\n",
    "print(b)\n",
    "del b[6:10]\n",
    "print(b)\n"
   ]
  },
  {
   "cell_type": "code",
   "execution_count": 94,
   "id": "63e07554",
   "metadata": {},
   "outputs": [
    {
     "data": {
      "text/plain": [
       "array('b', [10, 20, 121, 40, 50])"
      ]
     },
     "execution_count": 94,
     "metadata": {},
     "output_type": "execute_result"
    }
   ],
   "source": [
    "from array import array\n",
    "\n",
    "arr = array('b', [10, 20, 121, 40, 50])\n",
    "arr"
   ]
  },
  {
   "cell_type": "code",
   "execution_count": 92,
   "id": "d974c040",
   "metadata": {},
   "outputs": [
    {
     "data": {
      "text/plain": [
       "array('i', [10, 20, 1214])"
      ]
     },
     "execution_count": 92,
     "metadata": {},
     "output_type": "execute_result"
    }
   ],
   "source": [
    "arr[:3]"
   ]
  },
  {
   "cell_type": "code",
   "execution_count": 95,
   "id": "2f976c98",
   "metadata": {},
   "outputs": [],
   "source": [
    "a = list(range(1_000_000))\n",
    "b = array('i', range(1_000_000))\n"
   ]
  },
  {
   "cell_type": "code",
   "execution_count": 98,
   "id": "ca16ed15",
   "metadata": {},
   "outputs": [
    {
     "name": "stdout",
     "output_type": "stream",
     "text": [
      "42.4 ms ± 1.54 ms per loop (mean ± std. dev. of 7 runs, 10 loops each)\n",
      "52.6 ms ± 824 μs per loop (mean ± std. dev. of 7 runs, 10 loops each)\n"
     ]
    }
   ],
   "source": [
    "%timeit [ x + 1 for x in a ]\n",
    "%timeit [ x + 1 for x in b ]"
   ]
  },
  {
   "cell_type": "code",
   "execution_count": 107,
   "id": "3823b6eb",
   "metadata": {},
   "outputs": [],
   "source": [
    "import numpy as np\n",
    "\n",
    "a = list(range(10, 100000, 5))\n",
    "b = np.array(a)\n",
    "#print(a, b, sep=\"\\n\")"
   ]
  },
  {
   "cell_type": "code",
   "execution_count": 108,
   "id": "083562ff",
   "metadata": {},
   "outputs": [
    {
     "name": "stdout",
     "output_type": "stream",
     "text": [
      "460 μs ± 2.74 μs per loop (mean ± std. dev. of 7 runs, 1,000 loops each)\n",
      "5.96 μs ± 129 ns per loop (mean ± std. dev. of 7 runs, 100,000 loops each)\n"
     ]
    }
   ],
   "source": [
    "%timeit [ x + 1 for x in a ]\n",
    "%timeit b + 1"
   ]
  },
  {
   "cell_type": "code",
   "execution_count": null,
   "id": "55c1acdc",
   "metadata": {},
   "outputs": [
    {
     "data": {
      "text/plain": [
       "array([ 100,  400,  900, 1600, 2500])"
      ]
     },
     "execution_count": 102,
     "metadata": {},
     "output_type": "execute_result"
    }
   ],
   "source": [
    "import numpy as np\n",
    "\n",
    "a = np.array([10, 20, 30, 40, 50])\n"
   ]
  },
  {
   "cell_type": "code",
   "execution_count": 118,
   "id": "df1621e8",
   "metadata": {},
   "outputs": [
    {
     "name": "stdout",
     "output_type": "stream",
     "text": [
      "[10 20 30 40] uint8 (1,)\n"
     ]
    }
   ],
   "source": [
    "a = np.array([10, 20, 30, 40], dtype=np.uint8)\n",
    "print(a, a.dtype, a.strides)"
   ]
  },
  {
   "cell_type": "code",
   "execution_count": 113,
   "id": "478dcaf2",
   "metadata": {},
   "outputs": [
    {
     "data": {
      "text/plain": [
       "((19998,), (8,), dtype('int64'))"
      ]
     },
     "execution_count": 113,
     "metadata": {},
     "output_type": "execute_result"
    }
   ],
   "source": [
    "b.shape, b.strides, b.dtype"
   ]
  },
  {
   "cell_type": "code",
   "execution_count": 119,
   "id": "33449abb",
   "metadata": {},
   "outputs": [
    {
     "name": "stdout",
     "output_type": "stream",
     "text": [
      "[[10 20 30]\n",
      " [40 50 60]] int64 (2, 3) (24, 8)\n"
     ]
    }
   ],
   "source": [
    "a = np.array([[10, 20, 30], [40, 50, 60]])\n",
    "print(a, a.dtype, a.shape, a.strides)"
   ]
  },
  {
   "cell_type": "code",
   "execution_count": 122,
   "id": "e989bb8c",
   "metadata": {},
   "outputs": [
    {
     "name": "stdout",
     "output_type": "stream",
     "text": [
      "[ 0  1  2  3  4  5  6  7  8  9 10 11 12 13 14 15 16 17 18 19 20 21 22 23\n",
      " 24 25 26 27 28 29 30 31 32 33 34 35 36 37 38 39 40 41 42 43 44 45 46 47\n",
      " 48 49 50 51 52 53 54 55 56 57 58 59 60 61 62 63 64 65 66 67 68 69 70 71\n",
      " 72 73 74 75 76 77 78 79 80 81 82 83 84 85 86 87 88 89 90 91 92 93 94 95\n",
      " 96 97 98 99]\n",
      "[[ 0  1  2  3  4  5  6  7  8  9]\n",
      " [10 11 12 13 14 15 16 17 18 19]\n",
      " [20 21 22 23 24 25 26 27 28 29]\n",
      " [30 31 32 33 34 35 36 37 38 39]\n",
      " [40 41 42 43 44 45 46 47 48 49]\n",
      " [50 51 52 53 54 55 56 57 58 59]\n",
      " [60 61 62 63 64 65 66 67 68 69]\n",
      " [70 71 72 73 74 75 76 77 78 79]\n",
      " [80 81 82 83 84 85 86 87 88 89]\n",
      " [90 91 92 93 94 95 96 97 98 99]]\n"
     ]
    }
   ],
   "source": [
    "a = np.arange(0, 100)\n",
    "b = a.reshape((10, 10))\n",
    "print(a)\n",
    "print(b)"
   ]
  },
  {
   "cell_type": "code",
   "execution_count": 124,
   "id": "0dcd1bc5",
   "metadata": {},
   "outputs": [
    {
     "data": {
      "text/plain": [
       "((100,), (10, 10))"
      ]
     },
     "execution_count": 124,
     "metadata": {},
     "output_type": "execute_result"
    }
   ],
   "source": [
    "a.shape, b.shape"
   ]
  },
  {
   "cell_type": "code",
   "execution_count": 127,
   "id": "f4e98681",
   "metadata": {},
   "outputs": [
    {
     "data": {
      "text/plain": [
       "array([123,   1,   2,   3,   4,   5,   6,   7,   8,   9,  10,  11,  12,\n",
       "        13,  14,  15,  16,  17,  18,  19,  20,  21,  22,  23,  24,  25,\n",
       "        26,  27,  28,  29,  30,  31,  32,  33,  34,  35,  36,  37,  38,\n",
       "        39,  40,  41,  42,  43,  44,  45,  46,  47,  48,  49,  50,  51,\n",
       "        52,  53,  54,  55,  56,  57,  58,  59,  60,  61,  62,  63,  64,\n",
       "        65,  66,  67,  68,  69,  70,  71,  72,  73,  74,  75,  76,  77,\n",
       "        78,  79,  80,  81,  82,  83,  84,  85,  86,  87,  88,  89,  90,\n",
       "        91,  92,  93,  94,  95,  96,  97,  98,  99])"
      ]
     },
     "execution_count": 127,
     "metadata": {},
     "output_type": "execute_result"
    }
   ],
   "source": [
    "a[0] = 123\n",
    "a"
   ]
  },
  {
   "cell_type": "code",
   "execution_count": 128,
   "id": "d1babdb0",
   "metadata": {},
   "outputs": [
    {
     "data": {
      "text/plain": [
       "array([[123,   1,   2,   3,   4,   5,   6,   7,   8,   9],\n",
       "       [ 10,  11,  12,  13,  14,  15,  16,  17,  18,  19],\n",
       "       [ 20,  21,  22,  23,  24,  25,  26,  27,  28,  29],\n",
       "       [ 30,  31,  32,  33,  34,  35,  36,  37,  38,  39],\n",
       "       [ 40,  41,  42,  43,  44,  45,  46,  47,  48,  49],\n",
       "       [ 50,  51,  52,  53,  54,  55,  56,  57,  58,  59],\n",
       "       [ 60,  61,  62,  63,  64,  65,  66,  67,  68,  69],\n",
       "       [ 70,  71,  72,  73,  74,  75,  76,  77,  78,  79],\n",
       "       [ 80,  81,  82,  83,  84,  85,  86,  87,  88,  89],\n",
       "       [ 90,  91,  92,  93,  94,  95,  96,  97,  98,  99]])"
      ]
     },
     "execution_count": 128,
     "metadata": {},
     "output_type": "execute_result"
    }
   ],
   "source": [
    "b"
   ]
  },
  {
   "cell_type": "code",
   "execution_count": 125,
   "id": "bc524bc9",
   "metadata": {},
   "outputs": [
    {
     "data": {
      "text/plain": [
       "False"
      ]
     },
     "execution_count": 125,
     "metadata": {},
     "output_type": "execute_result"
    }
   ],
   "source": [
    "a is b"
   ]
  },
  {
   "cell_type": "code",
   "execution_count": null,
   "id": "514b3648",
   "metadata": {},
   "outputs": [],
   "source": [
    "c = b.T"
   ]
  },
  {
   "cell_type": "code",
   "execution_count": 134,
   "id": "9bd6ced3",
   "metadata": {},
   "outputs": [
    {
     "data": {
      "text/plain": [
       "array([[123,  10,  20,  30,  40,  50,  60,  70,  80,  90],\n",
       "       [  1,  11,  21,  31,  41,  51,  61,  71,  81,  91],\n",
       "       [  2,  12,  22,  32,  42,  52,  62,  72,  82,  92],\n",
       "       [  3,  13,  23,  33,  43,  53,  63,  73,  83,  93],\n",
       "       [  4,  14,  24,  34,  44,  54,  64,  74,  84,  94],\n",
       "       [  5,  15,  25,  35,  45,  55,  65,  75,  85,  95],\n",
       "       [  6,  16,  26,  36,  46,  56,  66,  76,  86,  96],\n",
       "       [  7,  17,  27,  37,  47,  57,  67,  77,  87,  97],\n",
       "       [  8,  18,  28,  38,  48,  58,  68,  78,  88,  98],\n",
       "       [  9,  19,  29,  39,  49,  59,  69,  79,  89,  99]])"
      ]
     },
     "execution_count": 134,
     "metadata": {},
     "output_type": "execute_result"
    }
   ],
   "source": [
    "c"
   ]
  },
  {
   "cell_type": "code",
   "execution_count": 135,
   "id": "6517a0c3",
   "metadata": {},
   "outputs": [],
   "source": [
    "d = b.T.copy()"
   ]
  },
  {
   "cell_type": "code",
   "execution_count": 140,
   "id": "4b6a2f14",
   "metadata": {},
   "outputs": [],
   "source": [
    "b[0, 0] = 99"
   ]
  },
  {
   "cell_type": "code",
   "execution_count": 143,
   "id": "aa6e5e39",
   "metadata": {},
   "outputs": [
    {
     "data": {
      "text/plain": [
       "array([[99, 10, 20, 30, 40, 50, 60, 70, 80, 90],\n",
       "       [ 1, 11, 21, 31, 41, 51, 61, 71, 81, 91],\n",
       "       [ 2, 12, 22, 32, 42, 52, 62, 72, 82, 92],\n",
       "       [ 3, 13, 23, 33, 43, 53, 63, 73, 83, 93],\n",
       "       [ 4, 14, 24, 34, 44, 54, 64, 74, 84, 94],\n",
       "       [ 5, 15, 25, 35, 45, 55, 65, 75, 85, 95],\n",
       "       [ 6, 16, 26, 36, 46, 56, 66, 76, 86, 96],\n",
       "       [ 7, 17, 27, 37, 47, 57, 67, 77, 87, 97],\n",
       "       [ 8, 18, 28, 38, 48, 58, 68, 78, 88, 98],\n",
       "       [ 9, 19, 29, 39, 49, 59, 69, 79, 89, 99]])"
      ]
     },
     "execution_count": 143,
     "metadata": {},
     "output_type": "execute_result"
    }
   ],
   "source": [
    "c"
   ]
  },
  {
   "cell_type": "code",
   "execution_count": 145,
   "id": "4ececd72",
   "metadata": {},
   "outputs": [
    {
     "data": {
      "text/plain": [
       "(2, 2, 3)"
      ]
     },
     "execution_count": 145,
     "metadata": {},
     "output_type": "execute_result"
    }
   ],
   "source": [
    "a = np.array([[[10, 20, 30], [40, 50, 60]], [[11, 22, 33], [55, 66, 77]]])\n",
    "a.shape"
   ]
  },
  {
   "cell_type": "code",
   "execution_count": 148,
   "id": "f7318700",
   "metadata": {},
   "outputs": [
    {
     "data": {
      "text/plain": [
       "12"
      ]
     },
     "execution_count": 148,
     "metadata": {},
     "output_type": "execute_result"
    }
   ],
   "source": [
    "a.size"
   ]
  },
  {
   "cell_type": "code",
   "execution_count": 152,
   "id": "cd3f1b55",
   "metadata": {},
   "outputs": [
    {
     "data": {
      "text/plain": [
       "12"
      ]
     },
     "execution_count": 152,
     "metadata": {},
     "output_type": "execute_result"
    }
   ],
   "source": [
    "len(a.ravel())"
   ]
  },
  {
   "cell_type": "code",
   "execution_count": 157,
   "id": "2328e3a7",
   "metadata": {},
   "outputs": [
    {
     "data": {
      "text/plain": [
       "<memory at 0x0000018BCEF8EBC0>"
      ]
     },
     "execution_count": 157,
     "metadata": {},
     "output_type": "execute_result"
    }
   ],
   "source": [
    "view = memoryview(b.ravel())\n",
    "view"
   ]
  },
  {
   "cell_type": "code",
   "execution_count": 158,
   "id": "4a897c4f",
   "metadata": {},
   "outputs": [
    {
     "data": {
      "text/plain": [
       "100"
      ]
     },
     "execution_count": 158,
     "metadata": {},
     "output_type": "execute_result"
    }
   ],
   "source": [
    "len(view)"
   ]
  },
  {
   "cell_type": "code",
   "execution_count": 160,
   "id": "8e11450f",
   "metadata": {},
   "outputs": [],
   "source": [
    "view[0] = 45"
   ]
  },
  {
   "cell_type": "code",
   "execution_count": 162,
   "id": "32fbb759",
   "metadata": {},
   "outputs": [
    {
     "data": {
      "text/plain": [
       "array([42, 88, 12, 32, 56])"
      ]
     },
     "execution_count": 162,
     "metadata": {},
     "output_type": "execute_result"
    }
   ],
   "source": [
    "a = np.array([33, 42, 67, 88, 12, 32, 56])\n",
    "\n",
    "a[a % 2 == 0]"
   ]
  },
  {
   "cell_type": "code",
   "execution_count": 165,
   "id": "02587a82",
   "metadata": {},
   "outputs": [
    {
     "data": {
      "text/html": [
       "<div>\n",
       "<style scoped>\n",
       "    .dataframe tbody tr th:only-of-type {\n",
       "        vertical-align: middle;\n",
       "    }\n",
       "\n",
       "    .dataframe tbody tr th {\n",
       "        vertical-align: top;\n",
       "    }\n",
       "\n",
       "    .dataframe thead th {\n",
       "        text-align: right;\n",
       "    }\n",
       "</style>\n",
       "<table border=\"1\" class=\"dataframe\">\n",
       "  <thead>\n",
       "    <tr style=\"text-align: right;\">\n",
       "      <th></th>\n",
       "      <th>name</th>\n",
       "      <th>score</th>\n",
       "    </tr>\n",
       "  </thead>\n",
       "  <tbody>\n",
       "    <tr>\n",
       "      <th>0</th>\n",
       "      <td>John</td>\n",
       "      <td>50</td>\n",
       "    </tr>\n",
       "    <tr>\n",
       "      <th>1</th>\n",
       "      <td>Sam</td>\n",
       "      <td>45</td>\n",
       "    </tr>\n",
       "    <tr>\n",
       "      <th>2</th>\n",
       "      <td>emily</td>\n",
       "      <td>34</td>\n",
       "    </tr>\n",
       "  </tbody>\n",
       "</table>\n",
       "</div>"
      ],
      "text/plain": [
       "    name  score\n",
       "0   John     50\n",
       "1    Sam     45\n",
       "2  emily     34"
      ]
     },
     "execution_count": 165,
     "metadata": {},
     "output_type": "execute_result"
    }
   ],
   "source": [
    "import pandas as pd\n",
    "\n",
    "df = pd.DataFrame([{\"name\": \"John\", \"score\": 50}, {\"name\": \"Sam\", \"score\": 45}, {\"name\": \"emily\", \"score\": 34}])\n",
    "df\n"
   ]
  },
  {
   "cell_type": "code",
   "execution_count": 168,
   "id": "848a40b7",
   "metadata": {},
   "outputs": [
    {
     "data": {
      "text/html": [
       "<div>\n",
       "<style scoped>\n",
       "    .dataframe tbody tr th:only-of-type {\n",
       "        vertical-align: middle;\n",
       "    }\n",
       "\n",
       "    .dataframe tbody tr th {\n",
       "        vertical-align: top;\n",
       "    }\n",
       "\n",
       "    .dataframe thead th {\n",
       "        text-align: right;\n",
       "    }\n",
       "</style>\n",
       "<table border=\"1\" class=\"dataframe\">\n",
       "  <thead>\n",
       "    <tr style=\"text-align: right;\">\n",
       "      <th></th>\n",
       "      <th>name</th>\n",
       "    </tr>\n",
       "  </thead>\n",
       "  <tbody>\n",
       "    <tr>\n",
       "      <th>0</th>\n",
       "      <td>John</td>\n",
       "    </tr>\n",
       "    <tr>\n",
       "      <th>1</th>\n",
       "      <td>Sam</td>\n",
       "    </tr>\n",
       "    <tr>\n",
       "      <th>2</th>\n",
       "      <td>emily</td>\n",
       "    </tr>\n",
       "  </tbody>\n",
       "</table>\n",
       "</div>"
      ],
      "text/plain": [
       "    name\n",
       "0   John\n",
       "1    Sam\n",
       "2  emily"
      ]
     },
     "execution_count": 168,
     "metadata": {},
     "output_type": "execute_result"
    }
   ],
   "source": [
    "df[[\"name\"]]"
   ]
  },
  {
   "cell_type": "code",
   "execution_count": 170,
   "id": "c74c9fed",
   "metadata": {},
   "outputs": [
    {
     "data": {
      "text/plain": [
       "name     John\n",
       "score      50\n",
       "Name: 0, dtype: object"
      ]
     },
     "execution_count": 170,
     "metadata": {},
     "output_type": "execute_result"
    }
   ],
   "source": [
    "df.loc[0]"
   ]
  },
  {
   "cell_type": "code",
   "execution_count": 172,
   "id": "7925867c",
   "metadata": {},
   "outputs": [
    {
     "data": {
      "text/plain": [
       "Index(['name', 'score'], dtype='object')"
      ]
     },
     "execution_count": 172,
     "metadata": {},
     "output_type": "execute_result"
    }
   ],
   "source": [
    "s = df.loc[0]\n",
    "s.index"
   ]
  },
  {
   "cell_type": "code",
   "execution_count": 174,
   "id": "713a2165",
   "metadata": {},
   "outputs": [],
   "source": [
    "# Dask -> distributed dataframe compatible with Pandas\n",
    "import dask"
   ]
  },
  {
   "cell_type": "code",
   "execution_count": null,
   "id": "372fa004",
   "metadata": {},
   "outputs": [
    {
     "data": {
      "text/html": [
       "<div>\n",
       "    <div style=\"width: 24px; height: 24px; background-color: #e1e1e1; border: 3px solid #9D9D9D; border-radius: 5px; position: absolute;\"> </div>\n",
       "    <div style=\"margin-left: 48px;\">\n",
       "        <h3 style=\"margin-bottom: 0px;\">Client</h3>\n",
       "        <p style=\"color: #9D9D9D; margin-bottom: 0px;\">Client-b8995b52-783d-11f0-be54-c4474e838960</p>\n",
       "        <table style=\"width: 100%; text-align: left;\">\n",
       "\n",
       "        <tr>\n",
       "        \n",
       "            <td style=\"text-align: left;\"><strong>Connection method:</strong> Cluster object</td>\n",
       "            <td style=\"text-align: left;\"><strong>Cluster type:</strong> distributed.LocalCluster</td>\n",
       "        \n",
       "        </tr>\n",
       "\n",
       "        \n",
       "            <tr>\n",
       "                <td style=\"text-align: left;\">\n",
       "                    <strong>Dashboard: </strong> <a href=\"http://127.0.0.1:8787/status\" target=\"_blank\">http://127.0.0.1:8787/status</a>\n",
       "                </td>\n",
       "                <td style=\"text-align: left;\"></td>\n",
       "            </tr>\n",
       "        \n",
       "\n",
       "        </table>\n",
       "\n",
       "        \n",
       "\n",
       "        \n",
       "            <details>\n",
       "            <summary style=\"margin-bottom: 20px;\"><h3 style=\"display: inline;\">Cluster Info</h3></summary>\n",
       "            <div class=\"jp-RenderedHTMLCommon jp-RenderedHTML jp-mod-trusted jp-OutputArea-output\">\n",
       "    <div style=\"width: 24px; height: 24px; background-color: #e1e1e1; border: 3px solid #9D9D9D; border-radius: 5px; position: absolute;\">\n",
       "    </div>\n",
       "    <div style=\"margin-left: 48px;\">\n",
       "        <h3 style=\"margin-bottom: 0px; margin-top: 0px;\">LocalCluster</h3>\n",
       "        <p style=\"color: #9D9D9D; margin-bottom: 0px;\">becdf7af</p>\n",
       "        <table style=\"width: 100%; text-align: left;\">\n",
       "            <tr>\n",
       "                <td style=\"text-align: left;\">\n",
       "                    <strong>Dashboard:</strong> <a href=\"http://127.0.0.1:8787/status\" target=\"_blank\">http://127.0.0.1:8787/status</a>\n",
       "                </td>\n",
       "                <td style=\"text-align: left;\">\n",
       "                    <strong>Workers:</strong> 1\n",
       "                </td>\n",
       "            </tr>\n",
       "            <tr>\n",
       "                <td style=\"text-align: left;\">\n",
       "                    <strong>Total threads:</strong> 4\n",
       "                </td>\n",
       "                <td style=\"text-align: left;\">\n",
       "                    <strong>Total memory:</strong> 1.86 GiB\n",
       "                </td>\n",
       "            </tr>\n",
       "            \n",
       "            <tr>\n",
       "    <td style=\"text-align: left;\"><strong>Status:</strong> running</td>\n",
       "    <td style=\"text-align: left;\"><strong>Using processes:</strong> True</td>\n",
       "</tr>\n",
       "\n",
       "            \n",
       "        </table>\n",
       "\n",
       "        <details>\n",
       "            <summary style=\"margin-bottom: 20px;\">\n",
       "                <h3 style=\"display: inline;\">Scheduler Info</h3>\n",
       "            </summary>\n",
       "\n",
       "            <div style=\"\">\n",
       "    <div>\n",
       "        <div style=\"width: 24px; height: 24px; background-color: #FFF7E5; border: 3px solid #FF6132; border-radius: 5px; position: absolute;\"> </div>\n",
       "        <div style=\"margin-left: 48px;\">\n",
       "            <h3 style=\"margin-bottom: 0px;\">Scheduler</h3>\n",
       "            <p style=\"color: #9D9D9D; margin-bottom: 0px;\">Scheduler-b22ec620-60ec-40db-9f71-67702453a4cf</p>\n",
       "            <table style=\"width: 100%; text-align: left;\">\n",
       "                <tr>\n",
       "                    <td style=\"text-align: left;\">\n",
       "                        <strong>Comm:</strong> tcp://127.0.0.1:57191\n",
       "                    </td>\n",
       "                    <td style=\"text-align: left;\">\n",
       "                        <strong>Workers:</strong> 1\n",
       "                    </td>\n",
       "                </tr>\n",
       "                <tr>\n",
       "                    <td style=\"text-align: left;\">\n",
       "                        <strong>Dashboard:</strong> <a href=\"http://127.0.0.1:8787/status\" target=\"_blank\">http://127.0.0.1:8787/status</a>\n",
       "                    </td>\n",
       "                    <td style=\"text-align: left;\">\n",
       "                        <strong>Total threads:</strong> 4\n",
       "                    </td>\n",
       "                </tr>\n",
       "                <tr>\n",
       "                    <td style=\"text-align: left;\">\n",
       "                        <strong>Started:</strong> Just now\n",
       "                    </td>\n",
       "                    <td style=\"text-align: left;\">\n",
       "                        <strong>Total memory:</strong> 1.86 GiB\n",
       "                    </td>\n",
       "                </tr>\n",
       "            </table>\n",
       "        </div>\n",
       "    </div>\n",
       "\n",
       "    <details style=\"margin-left: 48px;\">\n",
       "        <summary style=\"margin-bottom: 20px;\">\n",
       "            <h3 style=\"display: inline;\">Workers</h3>\n",
       "        </summary>\n",
       "\n",
       "        \n",
       "        <div style=\"margin-bottom: 20px;\">\n",
       "            <div style=\"width: 24px; height: 24px; background-color: #DBF5FF; border: 3px solid #4CC9FF; border-radius: 5px; position: absolute;\"> </div>\n",
       "            <div style=\"margin-left: 48px;\">\n",
       "            <details>\n",
       "                <summary>\n",
       "                    <h4 style=\"margin-bottom: 0px; display: inline;\">Worker: 0</h4>\n",
       "                </summary>\n",
       "                <table style=\"width: 100%; text-align: left;\">\n",
       "                    <tr>\n",
       "                        <td style=\"text-align: left;\">\n",
       "                            <strong>Comm: </strong> tcp://127.0.0.1:57198\n",
       "                        </td>\n",
       "                        <td style=\"text-align: left;\">\n",
       "                            <strong>Total threads: </strong> 4\n",
       "                        </td>\n",
       "                    </tr>\n",
       "                    <tr>\n",
       "                        <td style=\"text-align: left;\">\n",
       "                            <strong>Dashboard: </strong> <a href=\"http://127.0.0.1:57199/status\" target=\"_blank\">http://127.0.0.1:57199/status</a>\n",
       "                        </td>\n",
       "                        <td style=\"text-align: left;\">\n",
       "                            <strong>Memory: </strong> 1.86 GiB\n",
       "                        </td>\n",
       "                    </tr>\n",
       "                    <tr>\n",
       "                        <td style=\"text-align: left;\">\n",
       "                            <strong>Nanny: </strong> tcp://127.0.0.1:57194\n",
       "                        </td>\n",
       "                        <td style=\"text-align: left;\"></td>\n",
       "                    </tr>\n",
       "                    <tr>\n",
       "                        <td colspan=\"2\" style=\"text-align: left;\">\n",
       "                            <strong>Local directory: </strong> C:\\Users\\Deskt\\AppData\\Local\\Temp\\dask-scratch-space\\worker-aoktsgdd\n",
       "                        </td>\n",
       "                    </tr>\n",
       "\n",
       "                    \n",
       "\n",
       "                    \n",
       "\n",
       "                </table>\n",
       "            </details>\n",
       "            </div>\n",
       "        </div>\n",
       "        \n",
       "\n",
       "    </details>\n",
       "</div>\n",
       "\n",
       "        </details>\n",
       "    </div>\n",
       "</div>\n",
       "            </details>\n",
       "        \n",
       "\n",
       "    </div>\n",
       "</div>"
      ],
      "text/plain": [
       "<Client: 'tcp://127.0.0.1:57191' processes=1 threads=4, memory=1.86 GiB>"
      ]
     },
     "execution_count": 175,
     "metadata": {},
     "output_type": "execute_result"
    },
    {
     "name": "stderr",
     "output_type": "stream",
     "text": [
      "2025-08-13 17:40:08,007 - distributed.protocol.core - CRITICAL - Failed to deserialize\n",
      "Traceback (most recent call last):\n",
      "  File \"c:\\Users\\Deskt\\anaconda3\\Lib\\site-packages\\distributed\\protocol\\core.py\", line 175, in loads\n",
      "    return msgpack.loads(\n",
      "           ~~~~~~~~~~~~~^\n",
      "        frames[0], object_hook=_decode_default, use_list=False, **msgpack_opts\n",
      "        ^^^^^^^^^^^^^^^^^^^^^^^^^^^^^^^^^^^^^^^^^^^^^^^^^^^^^^^^^^^^^^^^^^^^^^\n",
      "    )\n",
      "    ^\n",
      "  File \"c:\\Users\\Deskt\\anaconda3\\Lib\\site-packages\\msgpack\\fallback.py\", line 136, in unpackb\n",
      "    raise ExtraData(ret, unpacker._get_extradata())\n",
      "msgpack.exceptions.ExtraData: unpack(b) received extra data.\n",
      "2025-08-13 17:40:08,026 - distributed.core - ERROR - Exception while handling op register-client\n",
      "Traceback (most recent call last):\n",
      "  File \"c:\\Users\\Deskt\\anaconda3\\Lib\\site-packages\\distributed\\core.py\", line 834, in _handle_comm\n",
      "    result = await result\n",
      "             ^^^^^^^^^^^^\n",
      "  File \"c:\\Users\\Deskt\\anaconda3\\Lib\\site-packages\\distributed\\scheduler.py\", line 5923, in add_client\n",
      "    await self.handle_stream(comm=comm, extra={\"client\": client})\n",
      "  File \"c:\\Users\\Deskt\\anaconda3\\Lib\\site-packages\\distributed\\core.py\", line 889, in handle_stream\n",
      "    msgs = await comm.read()\n",
      "           ^^^^^^^^^^^^^^^^^\n",
      "  File \"c:\\Users\\Deskt\\anaconda3\\Lib\\site-packages\\distributed\\comm\\tcp.py\", line 248, in read\n",
      "    msg = await from_frames(\n",
      "          ^^^^^^^^^^^^^^^^^^\n",
      "    ...<4 lines>...\n",
      "    )\n",
      "    ^\n",
      "  File \"c:\\Users\\Deskt\\anaconda3\\Lib\\site-packages\\distributed\\comm\\utils.py\", line 78, in from_frames\n",
      "    res = _from_frames()\n",
      "  File \"c:\\Users\\Deskt\\anaconda3\\Lib\\site-packages\\distributed\\comm\\utils.py\", line 61, in _from_frames\n",
      "    return protocol.loads(\n",
      "           ~~~~~~~~~~~~~~^\n",
      "        frames, deserialize=deserialize, deserializers=deserializers\n",
      "        ^^^^^^^^^^^^^^^^^^^^^^^^^^^^^^^^^^^^^^^^^^^^^^^^^^^^^^^^^^^^\n",
      "    )\n",
      "    ^\n",
      "  File \"c:\\Users\\Deskt\\anaconda3\\Lib\\site-packages\\distributed\\protocol\\core.py\", line 175, in loads\n",
      "    return msgpack.loads(\n",
      "           ~~~~~~~~~~~~~^\n",
      "        frames[0], object_hook=_decode_default, use_list=False, **msgpack_opts\n",
      "        ^^^^^^^^^^^^^^^^^^^^^^^^^^^^^^^^^^^^^^^^^^^^^^^^^^^^^^^^^^^^^^^^^^^^^^\n",
      "    )\n",
      "    ^\n",
      "  File \"c:\\Users\\Deskt\\anaconda3\\Lib\\site-packages\\msgpack\\fallback.py\", line 136, in unpackb\n",
      "    raise ExtraData(ret, unpacker._get_extradata())\n",
      "msgpack.exceptions.ExtraData: unpack(b) received extra data.\n",
      "Task exception was never retrieved\n",
      "future: <Task finished name='Task-151' coro=<Server._handle_comm() done, defined at c:\\Users\\Deskt\\anaconda3\\Lib\\site-packages\\distributed\\core.py:740> exception=ExtraData(({'op': 'update-graph', 'graph_header': {'serializer': 'pickle', 'writeable': (True,)}, 'graph_frames': (b\"\\x80\\x05\\x95\\xfd\\t\\x00\\x00\\x00\\x00\\x00\\x00\\x8c\\x1edistributed.protocol.serialize\\x94\\x8c\\x08ToPickle\\x94\\x93\\x94)\\x81\\x94}\\x94\\x8c\\x04data\\x94\\x8c\\x13dask.highlevelgraph\\x94\\x8c\\x0eHighLevelGraph\\x94\\x93\\x94)\\x81\\x94}\\x94(\\x8c\\x0cdependencies\\x94}\\x94\\x8a\\x06\\x801O\\xd1\\x8b\\x01\\x8f\\x94s\\x8c\\x10key_dependencies\\x94}\\x94\\x8c\\x06layers\\x94}\\x94\\x8a\\x06\\x801O\\xd1\\x8b\\x01h\\x06\\x8c\\x11MaterializedLayer\\x94\\x93\\x94)\\x81\\x94}\\x94(\\x8c\\x0bannotations\\x94N\\x8c\\x16collection_annotations\\x94N\\x8c\\x07mapping\\x94}\\x94\\x8cDread-blockwisehead-_to_string_dtype-cc7a369f530094491797314948e746df\\x94K\\x00\\x86\\x94\\x8c\\x0fdask._task_spec\\x94\\x8c\\x04Task\\x94\\x93\\x94)\\x81\\x94N}\\x94(\\x8c\\x04func\\x94h\\x1c\\x8c\\x11_execute_subgraph\\x94\\x93\\x94\\x8c\\x04args\\x94}\\x94(\\x8c1_to_string_dtype-ee0ec5f71f2d20c3a0f781badec191b0\\x94K\\x00\\x86\\x94h\\x1e)\\x81\\x94N}\\x94(h!\\x8c\\tfunctools\\x94\\x8c\\x07partial\\x94\\x93\\x94\\x8c\\x17dask.dataframe._pyarrow\\x94\\x8c\\x10_to_string_dtype\\x94\\x93\\x94\\x85\\x94R\\x94(h/)}\\x94(\\x8c\\x0bdtype_check\\x94h-\\x8c\\x16is_object_string_dtype\\x94\\x93\\x94\\x8c\\x0bindex_check\\x94h-\\x8c\\x16is_object_string_index\\x94\\x93\\x94\\x8c\\x0cstring_dtype\\x94\\x8c\\x07pyarrow\\x94uNt\\x94bh$h\\x1c\\x8c\\x05Alias\\x94\\x93\\x94)\\x81\\x94N}\\x94(\\x8c\\x06target\\x94\\x8c.blockwisehead-383b4e9c23d665958a85517f1d7e09c8\\x94K\\x00\\x86\\x94\\x8c\\x03key\\x94hB\\x8c\\r_dependencies\\x94(hB\\x91\\x94u\\x86\\x94b\\x85\\x94\\x8c\\x06kwargs\\x94}\\x94\\x8c\\x0e_data_producer\\x94\\x89\\x8c\\x06_token\\x94N\\x8c\\x08_is_coro\\x94N\\x8c\\x05_repr\\x94NhCh'hD(hB\\x91\\x94u\\x86\\x94bhAK\\x00\\x86\\x94h\\x1e)\\x81\\x94N}\\x94(h!\\x8c\\ndask.utils\\x94\\x8c\\x0cmethodcaller\\x94\\x93\\x94\\x8c\\x04head\\x94\\x85\\x94R\\x94h$h=)\\x81\\x94N}\\x94(h@\\x8c)read-csv-4642d95bcef5f14c8ec25feb7b0b68d1\\x94K\\x00\\x86\\x94hCh\\\\hD(h\\\\\\x91\\x94u\\x86\\x94bK\\x05\\x86\\x94hH}\\x94hJ\\x89hKNhLNhMNhChPhD(h\\\\\\x91\\x94u\\x86\\x94bh[K\\x00\\x86\\x94h\\x1e)\\x81\\x94N}\\x94(h!h,\\x8c\\x15dask.dataframe.io.csv\\x94\\x8c\\t_read_csv\\x94\\x93\\x94\\x85\\x94R\\x94(hh)}\\x94(\\x8c\\x0cfull_columns\\x94]\\x94(\\x8c\\x06player\\x94\\x8c\\x07series1\\x94\\x8c\\x07series2\\x94\\x8c\\x07series3\\x94e\\x8c\\x07colname\\x94NhV\\x8c\\x11pandas.core.frame\\x94\\x8c\\tDataFrame\\x94\\x93\\x94)\\x81\\x94}\\x94(\\x8c\\x04_mgr\\x94\\x8c\\x1epandas.core.internals.managers\\x94\\x8c\\x0cBlockManager\\x94\\x93\\x94\\x8c\\x16pandas._libs.internals\\x94\\x8c\\x0f_unpickle_block\\x94\\x93\\x94\\x8c\\x16numpy._core.multiarray\\x94\\x8c\\x0c_reconstruct\\x94\\x93\\x94\\x8c\\x05numpy\\x94\\x8c\\x07ndarray\\x94\\x93\\x94K\\x00\\x85\\x94C\\x01b\\x94\\x87\\x94R\\x94(K\\x01K\\x01K\\x03\\x86\\x94h\\x82\\x8c\\x05dtype\\x94\\x93\\x94\\x8c\\x02O8\\x94\\x89\\x88\\x87\\x94R\\x94(K\\x03\\x8c\\x01|\\x94NNNJ\\xff\\xff\\xff\\xffJ\\xff\\xff\\xff\\xffK?t\\x94b\\x89]\\x94(\\x8c\\x04john\\x94\\x8c\\x03sam\\x94\\x8c\\x05smith\\x94et\\x94b\\x8c\\x08builtins\\x94\\x8c\\x05slice\\x94\\x93\\x94K\\x00K\\x01K\\x01\\x87\\x94R\\x94K\\x02\\x87\\x94R\\x94h~\\x8c\\x13numpy._core.numeric\\x94\\x8c\\x0b_frombuffer\\x94\\x93\\x94(\\x97h\\x8b\\x8c\\x02i8\\x94\\x89\\x88\\x87\\x94R\\x94(K\\x03\\x8c\\x01<\\x94NNNJ\\xff\\xff\\xff\\xffJ\\xff\\xff\\xff\\xffK\\x00t\\x94bK\\x03K\\x03\\x86\\x94\\x8c\\x01C\\x94t\\x94R\\x94h\\x98K\\x01K\\x04K\\x01\\x87\\x94R\\x94K\\x02\\x87\\x94R\\x94\\x86\\x94]\\x94(\\x8c\\x18pandas.core.indexes.base\\x94\\x8c\\n_new_Index\\x94\\x93\\x94h\\xaf\\x8c\\x05Index\\x94\\x93\\x94}\\x94(h\\x05h\\x81h\\x84K\\x00\\x85\\x94h\\x86\\x87\\x94R\\x94(K\\x01K\\x04\\x85\\x94h\\x8e\\x89]\\x94(hnhohphqet\\x94b\\x8c\\x04name\\x94Nu\\x86\\x94R\\x94h\\xb1\\x8c\\x19pandas.core.indexes.range\\x94\\x8c\\nRangeIndex\\x94\\x93\\x94}\\x94(h\\xbbN\\x8c\\x05start\\x94K\\x00\\x8c\\x04stop\\x94K\\x03\\x8c\\x04step\\x94K\\x01u\\x86\\x94R\\x94e\\x86\\x94R\\x94\\x8c\\x04_typ\\x94\\x8c\\tdataframe\\x94\\x8c\\t_metadata\\x94]\\x94\\x8c\\x05attrs\\x94}\\x94\\x8c\\x06_flags\\x94}\\x94\\x8c\\x17allows_duplicate_labels\\x94\\x88sub\\x8c\\x06header\\x94C player,series1,series2,series3\\r\\n\\x94\\x8c\\x06reader\\x94\\x8c\\x19pandas.io.parsers.readers\\x94\\x8c\\x08read_csv\\x94\\x93\\x94\\x8c\\x06dtypes\\x94}\\x94(hnh\\x8ehoh\\xa2hph\\xa2hqh\\xa2u\\x8c\\x07enforce\\x94\\x89hH}\\x94h\\xd2\\x8c\\x05infer\\x94s\\x8c\\tblocksize\\x94J\\x00\\x90\\xd0\\x03uNt\\x94bh$h\\x1e)\\x81\\x94N}\\x94(h!\\x8c\\x0fdask.bytes.core\\x94\\x8c\\x14read_block_from_file\\x94\\x93\\x94h$(\\x8c\\x0bfsspec.core\\x94\\x8c\\x08OpenFile\\x94\\x93\\x94(\\x8c\\x0bfsspec.spec\\x94\\x8c\\rmake_instance\\x94\\x93\\x94\\x8c\\x1cfsspec.implementations.local\\x94\\x8c\\x0fLocalFileSystem\\x94\\x93\\x94)}\\x94\\x87\\x94R\\x94\\x8c7c:/Users/Deskt/python-optimization-workshop/players.csv\\x94\\x8c\\x02rb\\x94NNNNt\\x94R\\x94K\\x00KKC\\x01\\n\\x94t\\x94hH}\\x94hJ\\x89hK\\x8c 0b9af1fe26641744ac5f92c6625c892a\\x94hLNhMNhC\\x8c-read-block-0-7da422dd92672ca13496ef80f1612ea9\\x94hD(\\x91\\x94u\\x86\\x94b]\\x94(N\\x88\\x88e\\x86\\x94hH}\\x94\\x8c\\x07columns\\x94]\\x94(hnhohphqeshJ\\x88hKNhLNhMNhChchDh\\xf9u\\x86\\x94buh')\\x87\\x94hH}\\x94hJ\\x88hKNhLNhMNhCh\\x1aK\\x00\\x86\\x94hDh\\xf9u\\x86\\x94bsubsubsb.\", b'\"\\x00\\x00\\x00\\x00\\x00\\x00\\x007\\x00\\x00\\x00\\x00\\x00\\x00\\x00\\x15\\x00\\x00\\x00\\x00\\x00\\x00\\x00'), 56: 0, 0: 0, 66: 0},), bytearray(b',\\x00\\x00\\x00\\x00\\x00\\x00\\x00M\\x00\\x00\\x00\\x00\\x00\\x00\\x00M\\x00\\x00\\x00\\x00\\x00\\x00\\x007\\x00\\x00\\x00\\x00\\x00\\x00\\x00\\xa4keys\\x82\\xa7__Set__\\xc3\\xa7as-list\\x91\\x92\\xd9Dread-blockwisehead-_to_string_dtype-cc7a369f530094491797314948e746df\\x00\\xb1internal_priority\\xc0\\xafsubmitting_task\\xc0\\xacfifo_timeout\\xa360s\\xa6actors\\xc0\\xa4code\\x81\\xab__Pickled__\\x01\\xabannotations\\x81\\xab__Pickled__\\x02\\xadspan_metadata\\x81\\xab__Pickled__\\x03'))>\n",
      "Traceback (most recent call last):\n",
      "  File \"c:\\Users\\Deskt\\anaconda3\\Lib\\site-packages\\distributed\\core.py\", line 834, in _handle_comm\n",
      "    result = await result\n",
      "             ^^^^^^^^^^^^\n",
      "  File \"c:\\Users\\Deskt\\anaconda3\\Lib\\site-packages\\distributed\\scheduler.py\", line 5923, in add_client\n",
      "    await self.handle_stream(comm=comm, extra={\"client\": client})\n",
      "  File \"c:\\Users\\Deskt\\anaconda3\\Lib\\site-packages\\distributed\\core.py\", line 889, in handle_stream\n",
      "    msgs = await comm.read()\n",
      "           ^^^^^^^^^^^^^^^^^\n",
      "  File \"c:\\Users\\Deskt\\anaconda3\\Lib\\site-packages\\distributed\\comm\\tcp.py\", line 248, in read\n",
      "    msg = await from_frames(\n",
      "          ^^^^^^^^^^^^^^^^^^\n",
      "    ...<4 lines>...\n",
      "    )\n",
      "    ^\n",
      "  File \"c:\\Users\\Deskt\\anaconda3\\Lib\\site-packages\\distributed\\comm\\utils.py\", line 78, in from_frames\n",
      "    res = _from_frames()\n",
      "  File \"c:\\Users\\Deskt\\anaconda3\\Lib\\site-packages\\distributed\\comm\\utils.py\", line 61, in _from_frames\n",
      "    return protocol.loads(\n",
      "           ~~~~~~~~~~~~~~^\n",
      "        frames, deserialize=deserialize, deserializers=deserializers\n",
      "        ^^^^^^^^^^^^^^^^^^^^^^^^^^^^^^^^^^^^^^^^^^^^^^^^^^^^^^^^^^^^\n",
      "    )\n",
      "    ^\n",
      "  File \"c:\\Users\\Deskt\\anaconda3\\Lib\\site-packages\\distributed\\protocol\\core.py\", line 175, in loads\n",
      "    return msgpack.loads(\n",
      "           ~~~~~~~~~~~~~^\n",
      "        frames[0], object_hook=_decode_default, use_list=False, **msgpack_opts\n",
      "        ^^^^^^^^^^^^^^^^^^^^^^^^^^^^^^^^^^^^^^^^^^^^^^^^^^^^^^^^^^^^^^^^^^^^^^\n",
      "    )\n",
      "    ^\n",
      "  File \"c:\\Users\\Deskt\\anaconda3\\Lib\\site-packages\\msgpack\\fallback.py\", line 136, in unpackb\n",
      "    raise ExtraData(ret, unpacker._get_extradata())\n",
      "msgpack.exceptions.ExtraData: unpack(b) received extra data.\n"
     ]
    }
   ],
   "source": [
    "from dask.distributed import Client\n",
    "client = Client(n_workers=1, threads_per_worker=4, processes=True, memory_limit='2GB')\n",
    "client"
   ]
  },
  {
   "cell_type": "code",
   "execution_count": 184,
   "id": "4c43b289",
   "metadata": {},
   "outputs": [],
   "source": [
    "from dask import dataframe"
   ]
  },
  {
   "cell_type": "code",
   "execution_count": 191,
   "id": "958e2f7c",
   "metadata": {},
   "outputs": [
    {
     "ename": "KeyError",
     "evalue": "0",
     "output_type": "error",
     "traceback": [
      "\u001b[1;31m---------------------------------------------------------------------------\u001b[0m",
      "\u001b[1;31mKeyError\u001b[0m                                  Traceback (most recent call last)",
      "File \u001b[1;32mc:\\Users\\Deskt\\anaconda3\\Lib\\site-packages\\pandas\\core\\indexes\\base.py:3805\u001b[0m, in \u001b[0;36mIndex.get_loc\u001b[1;34m(self, key)\u001b[0m\n\u001b[0;32m   3804\u001b[0m \u001b[38;5;28;01mtry\u001b[39;00m:\n\u001b[1;32m-> 3805\u001b[0m     \u001b[38;5;28;01mreturn\u001b[39;00m \u001b[38;5;28mself\u001b[39m\u001b[38;5;241m.\u001b[39m_engine\u001b[38;5;241m.\u001b[39mget_loc(casted_key)\n\u001b[0;32m   3806\u001b[0m \u001b[38;5;28;01mexcept\u001b[39;00m \u001b[38;5;167;01mKeyError\u001b[39;00m \u001b[38;5;28;01mas\u001b[39;00m err:\n",
      "File \u001b[1;32mindex.pyx:167\u001b[0m, in \u001b[0;36mpandas._libs.index.IndexEngine.get_loc\u001b[1;34m()\u001b[0m\n",
      "File \u001b[1;32mindex.pyx:196\u001b[0m, in \u001b[0;36mpandas._libs.index.IndexEngine.get_loc\u001b[1;34m()\u001b[0m\n",
      "File \u001b[1;32mpandas\\\\_libs\\\\hashtable_class_helper.pxi:7081\u001b[0m, in \u001b[0;36mpandas._libs.hashtable.PyObjectHashTable.get_item\u001b[1;34m()\u001b[0m\n",
      "File \u001b[1;32mpandas\\\\_libs\\\\hashtable_class_helper.pxi:7089\u001b[0m, in \u001b[0;36mpandas._libs.hashtable.PyObjectHashTable.get_item\u001b[1;34m()\u001b[0m\n",
      "\u001b[1;31mKeyError\u001b[0m: 0",
      "\nThe above exception was the direct cause of the following exception:\n",
      "\u001b[1;31mKeyError\u001b[0m                                  Traceback (most recent call last)",
      "Cell \u001b[1;32mIn[191], line 2\u001b[0m\n\u001b[0;32m      1\u001b[0m df \u001b[38;5;241m=\u001b[39m dataframe\u001b[38;5;241m.\u001b[39mread_csv(\u001b[38;5;124m\"\u001b[39m\u001b[38;5;124mplayers.csv\u001b[39m\u001b[38;5;124m\"\u001b[39m)\n\u001b[1;32m----> 2\u001b[0m df[\u001b[38;5;241m0\u001b[39m]\n",
      "File \u001b[1;32mc:\\Users\\Deskt\\anaconda3\\Lib\\site-packages\\dask\\dataframe\\dask_expr\\_collection.py:421\u001b[0m, in \u001b[0;36mFrameBase.__getitem__\u001b[1;34m(self, other)\u001b[0m\n\u001b[0;32m    419\u001b[0m \u001b[38;5;28;01melif\u001b[39;00m \u001b[38;5;28misinstance\u001b[39m(other, np\u001b[38;5;241m.\u001b[39mgeneric):\n\u001b[0;32m    420\u001b[0m     other \u001b[38;5;241m=\u001b[39m other\u001b[38;5;241m.\u001b[39mitem()\n\u001b[1;32m--> 421\u001b[0m \u001b[38;5;28;01mreturn\u001b[39;00m new_collection(\u001b[38;5;28mself\u001b[39m\u001b[38;5;241m.\u001b[39mexpr\u001b[38;5;241m.\u001b[39m\u001b[38;5;21m__getitem__\u001b[39m(other))\n",
      "File \u001b[1;32mc:\\Users\\Deskt\\anaconda3\\Lib\\site-packages\\dask\\_collections.py:8\u001b[0m, in \u001b[0;36mnew_collection\u001b[1;34m(expr)\u001b[0m\n\u001b[0;32m      6\u001b[0m \u001b[38;5;28;01mdef\u001b[39;00m\u001b[38;5;250m \u001b[39m\u001b[38;5;21mnew_collection\u001b[39m(expr):\n\u001b[0;32m      7\u001b[0m \u001b[38;5;250m    \u001b[39m\u001b[38;5;124;03m\"\"\"Create new collection from an expr\"\"\"\u001b[39;00m\n\u001b[1;32m----> 8\u001b[0m     meta \u001b[38;5;241m=\u001b[39m expr\u001b[38;5;241m.\u001b[39m_meta\n\u001b[0;32m      9\u001b[0m     expr\u001b[38;5;241m.\u001b[39m_name  \u001b[38;5;66;03m# Ensure backend is imported\u001b[39;00m\n\u001b[0;32m     10\u001b[0m     \u001b[38;5;28;01mreturn\u001b[39;00m get_collection_type(meta)(expr)\n",
      "File \u001b[1;32mc:\\Users\\Deskt\\anaconda3\\Lib\\functools.py:1026\u001b[0m, in \u001b[0;36mcached_property.__get__\u001b[1;34m(self, instance, owner)\u001b[0m\n\u001b[0;32m   1024\u001b[0m val \u001b[38;5;241m=\u001b[39m cache\u001b[38;5;241m.\u001b[39mget(\u001b[38;5;28mself\u001b[39m\u001b[38;5;241m.\u001b[39mattrname, _NOT_FOUND)\n\u001b[0;32m   1025\u001b[0m \u001b[38;5;28;01mif\u001b[39;00m val \u001b[38;5;129;01mis\u001b[39;00m _NOT_FOUND:\n\u001b[1;32m-> 1026\u001b[0m     val \u001b[38;5;241m=\u001b[39m \u001b[38;5;28mself\u001b[39m\u001b[38;5;241m.\u001b[39mfunc(instance)\n\u001b[0;32m   1027\u001b[0m     \u001b[38;5;28;01mtry\u001b[39;00m:\n\u001b[0;32m   1028\u001b[0m         cache[\u001b[38;5;28mself\u001b[39m\u001b[38;5;241m.\u001b[39mattrname] \u001b[38;5;241m=\u001b[39m val\n",
      "File \u001b[1;32mc:\\Users\\Deskt\\anaconda3\\Lib\\site-packages\\dask\\dataframe\\dask_expr\\_expr.py:2131\u001b[0m, in \u001b[0;36mProjection._meta\u001b[1;34m(self)\u001b[0m\n\u001b[0;32m   2128\u001b[0m \u001b[38;5;129m@functools\u001b[39m\u001b[38;5;241m.\u001b[39mcached_property\n\u001b[0;32m   2129\u001b[0m \u001b[38;5;28;01mdef\u001b[39;00m\u001b[38;5;250m \u001b[39m\u001b[38;5;21m_meta\u001b[39m(\u001b[38;5;28mself\u001b[39m):\n\u001b[0;32m   2130\u001b[0m     \u001b[38;5;28;01mif\u001b[39;00m is_dataframe_like(\u001b[38;5;28mself\u001b[39m\u001b[38;5;241m.\u001b[39mframe\u001b[38;5;241m.\u001b[39m_meta):\n\u001b[1;32m-> 2131\u001b[0m         \u001b[38;5;28;01mreturn\u001b[39;00m \u001b[38;5;28msuper\u001b[39m()\u001b[38;5;241m.\u001b[39m_meta\n\u001b[0;32m   2132\u001b[0m     \u001b[38;5;66;03m# if we are not a DataFrame and have a scalar, we reduce to a scalar\u001b[39;00m\n\u001b[0;32m   2133\u001b[0m     \u001b[38;5;28;01mif\u001b[39;00m \u001b[38;5;129;01mnot\u001b[39;00m \u001b[38;5;28misinstance\u001b[39m(\u001b[38;5;28mself\u001b[39m\u001b[38;5;241m.\u001b[39moperand(\u001b[38;5;124m\"\u001b[39m\u001b[38;5;124mcolumns\u001b[39m\u001b[38;5;124m\"\u001b[39m), (\u001b[38;5;28mlist\u001b[39m, \u001b[38;5;28mslice\u001b[39m)) \u001b[38;5;129;01mand\u001b[39;00m \u001b[38;5;129;01mnot\u001b[39;00m \u001b[38;5;28mhasattr\u001b[39m(\n\u001b[0;32m   2134\u001b[0m         \u001b[38;5;28mself\u001b[39m\u001b[38;5;241m.\u001b[39moperand(\u001b[38;5;124m\"\u001b[39m\u001b[38;5;124mcolumns\u001b[39m\u001b[38;5;124m\"\u001b[39m), \u001b[38;5;124m\"\u001b[39m\u001b[38;5;124mdtype\u001b[39m\u001b[38;5;124m\"\u001b[39m\n\u001b[0;32m   2135\u001b[0m     ):\n",
      "File \u001b[1;32mc:\\Users\\Deskt\\anaconda3\\Lib\\functools.py:1026\u001b[0m, in \u001b[0;36mcached_property.__get__\u001b[1;34m(self, instance, owner)\u001b[0m\n\u001b[0;32m   1024\u001b[0m val \u001b[38;5;241m=\u001b[39m cache\u001b[38;5;241m.\u001b[39mget(\u001b[38;5;28mself\u001b[39m\u001b[38;5;241m.\u001b[39mattrname, _NOT_FOUND)\n\u001b[0;32m   1025\u001b[0m \u001b[38;5;28;01mif\u001b[39;00m val \u001b[38;5;129;01mis\u001b[39;00m _NOT_FOUND:\n\u001b[1;32m-> 1026\u001b[0m     val \u001b[38;5;241m=\u001b[39m \u001b[38;5;28mself\u001b[39m\u001b[38;5;241m.\u001b[39mfunc(instance)\n\u001b[0;32m   1027\u001b[0m     \u001b[38;5;28;01mtry\u001b[39;00m:\n\u001b[0;32m   1028\u001b[0m         cache[\u001b[38;5;28mself\u001b[39m\u001b[38;5;241m.\u001b[39mattrname] \u001b[38;5;241m=\u001b[39m val\n",
      "File \u001b[1;32mc:\\Users\\Deskt\\anaconda3\\Lib\\site-packages\\dask\\dataframe\\dask_expr\\_expr.py:567\u001b[0m, in \u001b[0;36mBlockwise._meta\u001b[1;34m(self)\u001b[0m\n\u001b[0;32m    564\u001b[0m \u001b[38;5;129m@functools\u001b[39m\u001b[38;5;241m.\u001b[39mcached_property\n\u001b[0;32m    565\u001b[0m \u001b[38;5;28;01mdef\u001b[39;00m\u001b[38;5;250m \u001b[39m\u001b[38;5;21m_meta\u001b[39m(\u001b[38;5;28mself\u001b[39m):\n\u001b[0;32m    566\u001b[0m     args \u001b[38;5;241m=\u001b[39m [op\u001b[38;5;241m.\u001b[39m_meta \u001b[38;5;28;01mif\u001b[39;00m \u001b[38;5;28misinstance\u001b[39m(op, Expr) \u001b[38;5;28;01melse\u001b[39;00m op \u001b[38;5;28;01mfor\u001b[39;00m op \u001b[38;5;129;01min\u001b[39;00m \u001b[38;5;28mself\u001b[39m\u001b[38;5;241m.\u001b[39m_args]\n\u001b[1;32m--> 567\u001b[0m     \u001b[38;5;28;01mreturn\u001b[39;00m \u001b[38;5;28mself\u001b[39m\u001b[38;5;241m.\u001b[39moperation(\u001b[38;5;241m*\u001b[39margs, \u001b[38;5;241m*\u001b[39m\u001b[38;5;241m*\u001b[39m\u001b[38;5;28mself\u001b[39m\u001b[38;5;241m.\u001b[39m_kwargs)\n",
      "File \u001b[1;32mc:\\Users\\Deskt\\anaconda3\\Lib\\site-packages\\pandas\\core\\frame.py:4102\u001b[0m, in \u001b[0;36mDataFrame.__getitem__\u001b[1;34m(self, key)\u001b[0m\n\u001b[0;32m   4100\u001b[0m \u001b[38;5;28;01mif\u001b[39;00m \u001b[38;5;28mself\u001b[39m\u001b[38;5;241m.\u001b[39mcolumns\u001b[38;5;241m.\u001b[39mnlevels \u001b[38;5;241m>\u001b[39m \u001b[38;5;241m1\u001b[39m:\n\u001b[0;32m   4101\u001b[0m     \u001b[38;5;28;01mreturn\u001b[39;00m \u001b[38;5;28mself\u001b[39m\u001b[38;5;241m.\u001b[39m_getitem_multilevel(key)\n\u001b[1;32m-> 4102\u001b[0m indexer \u001b[38;5;241m=\u001b[39m \u001b[38;5;28mself\u001b[39m\u001b[38;5;241m.\u001b[39mcolumns\u001b[38;5;241m.\u001b[39mget_loc(key)\n\u001b[0;32m   4103\u001b[0m \u001b[38;5;28;01mif\u001b[39;00m is_integer(indexer):\n\u001b[0;32m   4104\u001b[0m     indexer \u001b[38;5;241m=\u001b[39m [indexer]\n",
      "File \u001b[1;32mc:\\Users\\Deskt\\anaconda3\\Lib\\site-packages\\pandas\\core\\indexes\\base.py:3812\u001b[0m, in \u001b[0;36mIndex.get_loc\u001b[1;34m(self, key)\u001b[0m\n\u001b[0;32m   3807\u001b[0m     \u001b[38;5;28;01mif\u001b[39;00m \u001b[38;5;28misinstance\u001b[39m(casted_key, \u001b[38;5;28mslice\u001b[39m) \u001b[38;5;129;01mor\u001b[39;00m (\n\u001b[0;32m   3808\u001b[0m         \u001b[38;5;28misinstance\u001b[39m(casted_key, abc\u001b[38;5;241m.\u001b[39mIterable)\n\u001b[0;32m   3809\u001b[0m         \u001b[38;5;129;01mand\u001b[39;00m \u001b[38;5;28many\u001b[39m(\u001b[38;5;28misinstance\u001b[39m(x, \u001b[38;5;28mslice\u001b[39m) \u001b[38;5;28;01mfor\u001b[39;00m x \u001b[38;5;129;01min\u001b[39;00m casted_key)\n\u001b[0;32m   3810\u001b[0m     ):\n\u001b[0;32m   3811\u001b[0m         \u001b[38;5;28;01mraise\u001b[39;00m InvalidIndexError(key)\n\u001b[1;32m-> 3812\u001b[0m     \u001b[38;5;28;01mraise\u001b[39;00m \u001b[38;5;167;01mKeyError\u001b[39;00m(key) \u001b[38;5;28;01mfrom\u001b[39;00m\u001b[38;5;250m \u001b[39m\u001b[38;5;21;01merr\u001b[39;00m\n\u001b[0;32m   3813\u001b[0m \u001b[38;5;28;01mexcept\u001b[39;00m \u001b[38;5;167;01mTypeError\u001b[39;00m:\n\u001b[0;32m   3814\u001b[0m     \u001b[38;5;66;03m# If we have a listlike key, _check_indexing_error will raise\u001b[39;00m\n\u001b[0;32m   3815\u001b[0m     \u001b[38;5;66;03m#  InvalidIndexError. Otherwise we fall through and re-raise\u001b[39;00m\n\u001b[0;32m   3816\u001b[0m     \u001b[38;5;66;03m#  the TypeError.\u001b[39;00m\n\u001b[0;32m   3817\u001b[0m     \u001b[38;5;28mself\u001b[39m\u001b[38;5;241m.\u001b[39m_check_indexing_error(key)\n",
      "\u001b[1;31mKeyError\u001b[0m: 0"
     ]
    }
   ],
   "source": [
    "df = dataframe.read_csv(\"players.csv\")\n",
    "df[0]"
   ]
  },
  {
   "cell_type": "code",
   "execution_count": 188,
   "id": "5e999915",
   "metadata": {},
   "outputs": [
    {
     "ename": "FutureCancelledError",
     "evalue": "('read-blockwisehead-_to_string_dtype-cc7a369f530094491797314948e746df', 0) cancelled for reason: scheduler-connection-lost.\nClient lost the connection to the scheduler. Please check your connection and re-run your work.",
     "output_type": "error",
     "traceback": [
      "\u001b[1;31m---------------------------------------------------------------------------\u001b[0m",
      "\u001b[1;31mFutureCancelledError\u001b[0m                      Traceback (most recent call last)",
      "Cell \u001b[1;32mIn[188], line 1\u001b[0m\n\u001b[1;32m----> 1\u001b[0m df\u001b[38;5;241m.\u001b[39mhead()\n",
      "File \u001b[1;32mc:\\Users\\Deskt\\anaconda3\\Lib\\site-packages\\dask\\dataframe\\dask_expr\\_collection.py:711\u001b[0m, in \u001b[0;36mFrameBase.head\u001b[1;34m(self, n, npartitions, compute)\u001b[0m\n\u001b[0;32m    709\u001b[0m out \u001b[38;5;241m=\u001b[39m new_collection(expr\u001b[38;5;241m.\u001b[39mHead(\u001b[38;5;28mself\u001b[39m, n\u001b[38;5;241m=\u001b[39mn, npartitions\u001b[38;5;241m=\u001b[39mnpartitions))\n\u001b[0;32m    710\u001b[0m \u001b[38;5;28;01mif\u001b[39;00m compute:\n\u001b[1;32m--> 711\u001b[0m     out \u001b[38;5;241m=\u001b[39m out\u001b[38;5;241m.\u001b[39mcompute()\n\u001b[0;32m    712\u001b[0m \u001b[38;5;28;01mreturn\u001b[39;00m out\n",
      "File \u001b[1;32mc:\\Users\\Deskt\\anaconda3\\Lib\\site-packages\\dask\\dataframe\\dask_expr\\_collection.py:489\u001b[0m, in \u001b[0;36mFrameBase.compute\u001b[1;34m(self, fuse, concatenate, **kwargs)\u001b[0m\n\u001b[0;32m    487\u001b[0m     out \u001b[38;5;241m=\u001b[39m out\u001b[38;5;241m.\u001b[39mrepartition(npartitions\u001b[38;5;241m=\u001b[39m\u001b[38;5;241m1\u001b[39m)\n\u001b[0;32m    488\u001b[0m out \u001b[38;5;241m=\u001b[39m out\u001b[38;5;241m.\u001b[39moptimize(fuse\u001b[38;5;241m=\u001b[39mfuse)\n\u001b[1;32m--> 489\u001b[0m \u001b[38;5;28;01mreturn\u001b[39;00m DaskMethodsMixin\u001b[38;5;241m.\u001b[39mcompute(out, \u001b[38;5;241m*\u001b[39m\u001b[38;5;241m*\u001b[39mkwargs)\n",
      "File \u001b[1;32mc:\\Users\\Deskt\\anaconda3\\Lib\\site-packages\\dask\\base.py:374\u001b[0m, in \u001b[0;36mDaskMethodsMixin.compute\u001b[1;34m(self, **kwargs)\u001b[0m\n\u001b[0;32m    350\u001b[0m \u001b[38;5;28;01mdef\u001b[39;00m\u001b[38;5;250m \u001b[39m\u001b[38;5;21mcompute\u001b[39m(\u001b[38;5;28mself\u001b[39m, \u001b[38;5;241m*\u001b[39m\u001b[38;5;241m*\u001b[39mkwargs):\n\u001b[0;32m    351\u001b[0m \u001b[38;5;250m    \u001b[39m\u001b[38;5;124;03m\"\"\"Compute this dask collection\u001b[39;00m\n\u001b[0;32m    352\u001b[0m \n\u001b[0;32m    353\u001b[0m \u001b[38;5;124;03m    This turns a lazy Dask collection into its in-memory equivalent.\u001b[39;00m\n\u001b[1;32m   (...)\u001b[0m\n\u001b[0;32m    372\u001b[0m \u001b[38;5;124;03m    dask.compute\u001b[39;00m\n\u001b[0;32m    373\u001b[0m \u001b[38;5;124;03m    \"\"\"\u001b[39;00m\n\u001b[1;32m--> 374\u001b[0m     (result,) \u001b[38;5;241m=\u001b[39m compute(\u001b[38;5;28mself\u001b[39m, traverse\u001b[38;5;241m=\u001b[39m\u001b[38;5;28;01mFalse\u001b[39;00m, \u001b[38;5;241m*\u001b[39m\u001b[38;5;241m*\u001b[39mkwargs)\n\u001b[0;32m    375\u001b[0m     \u001b[38;5;28;01mreturn\u001b[39;00m result\n",
      "File \u001b[1;32mc:\\Users\\Deskt\\anaconda3\\Lib\\site-packages\\dask\\base.py:662\u001b[0m, in \u001b[0;36mcompute\u001b[1;34m(traverse, optimize_graph, scheduler, get, *args, **kwargs)\u001b[0m\n\u001b[0;32m    659\u001b[0m     postcomputes\u001b[38;5;241m.\u001b[39mappend(x\u001b[38;5;241m.\u001b[39m__dask_postcompute__())\n\u001b[0;32m    661\u001b[0m \u001b[38;5;28;01mwith\u001b[39;00m shorten_traceback():\n\u001b[1;32m--> 662\u001b[0m     results \u001b[38;5;241m=\u001b[39m schedule(dsk, keys, \u001b[38;5;241m*\u001b[39m\u001b[38;5;241m*\u001b[39mkwargs)\n\u001b[0;32m    664\u001b[0m \u001b[38;5;28;01mreturn\u001b[39;00m repack([f(r, \u001b[38;5;241m*\u001b[39ma) \u001b[38;5;28;01mfor\u001b[39;00m r, (f, a) \u001b[38;5;129;01min\u001b[39;00m \u001b[38;5;28mzip\u001b[39m(results, postcomputes)])\n",
      "File \u001b[1;32mc:\\Users\\Deskt\\anaconda3\\Lib\\site-packages\\distributed\\client.py:2426\u001b[0m, in \u001b[0;36mClient._gather\u001b[1;34m(self, futures, errors, direct, local_worker)\u001b[0m\n\u001b[0;32m   2424\u001b[0m     exception \u001b[38;5;241m=\u001b[39m st\u001b[38;5;241m.\u001b[39mexception\n\u001b[0;32m   2425\u001b[0m     traceback \u001b[38;5;241m=\u001b[39m st\u001b[38;5;241m.\u001b[39mtraceback\n\u001b[1;32m-> 2426\u001b[0m     \u001b[38;5;28;01mraise\u001b[39;00m exception\u001b[38;5;241m.\u001b[39mwith_traceback(traceback)\n\u001b[0;32m   2427\u001b[0m \u001b[38;5;28;01mif\u001b[39;00m errors \u001b[38;5;241m==\u001b[39m \u001b[38;5;124m\"\u001b[39m\u001b[38;5;124mskip\u001b[39m\u001b[38;5;124m\"\u001b[39m:\n\u001b[0;32m   2428\u001b[0m     bad_keys\u001b[38;5;241m.\u001b[39madd(key)\n",
      "\u001b[1;31mFutureCancelledError\u001b[0m: ('read-blockwisehead-_to_string_dtype-cc7a369f530094491797314948e746df', 0) cancelled for reason: scheduler-connection-lost.\nClient lost the connection to the scheduler. Please check your connection and re-run your work."
     ]
    }
   ],
   "source": [
    "df.head()"
   ]
  }
 ],
 "metadata": {
  "kernelspec": {
   "display_name": "base",
   "language": "python",
   "name": "python3"
  },
  "language_info": {
   "codemirror_mode": {
    "name": "ipython",
    "version": 3
   },
   "file_extension": ".py",
   "mimetype": "text/x-python",
   "name": "python",
   "nbconvert_exporter": "python",
   "pygments_lexer": "ipython3",
   "version": "3.13.5"
  }
 },
 "nbformat": 4,
 "nbformat_minor": 5
}
