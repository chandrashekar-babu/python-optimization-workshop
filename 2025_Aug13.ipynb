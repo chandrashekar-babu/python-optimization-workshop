{
 "cells": [
  {
   "cell_type": "code",
   "execution_count": 3,
   "id": "b1ce78e6",
   "metadata": {},
   "outputs": [
    {
     "name": "stdout",
     "output_type": "stream",
     "text": [
      "1962685286784 1962685286784\n"
     ]
    }
   ],
   "source": [
    "class World:\n",
    "    def __new__(cls):\n",
    "        if hasattr(cls, 'instance'):\n",
    "            return cls.instance\n",
    "        else:\n",
    "            cls.instance = super().__new__(cls)\n",
    "            return cls.instance\n",
    "\n",
    "\n",
    "w1 = World()\n",
    "w2 = World()\n",
    "print(id(w1), id(w2))"
   ]
  },
  {
   "cell_type": "markdown",
   "id": "7520603d",
   "metadata": {},
   "source": [
    "#### Decorators in Python"
   ]
  },
  {
   "cell_type": "markdown",
   "id": "95da952c",
   "metadata": {},
   "source": [
    "A syntax feature that aids in AOP patterns in a simpler syntax / structure "
   ]
  },
  {
   "cell_type": "code",
   "execution_count": 12,
   "id": "dc6fd258",
   "metadata": {},
   "outputs": [],
   "source": [
    "def to_upper(fn):\n",
    "    def wrap():\n",
    "        return fn().upper()\n",
    "    return wrap\n",
    "\n",
    "def strong(fn):\n",
    "    def wrap():\n",
    "        return \"<strong>\" + fn() + \"</strong>\"\n",
    "    return wrap\n",
    "\n",
    "\n"
   ]
  },
  {
   "cell_type": "code",
   "execution_count": null,
   "id": "619bcb59",
   "metadata": {},
   "outputs": [
    {
     "data": {
      "text/plain": [
       "'<strong>HELLO, WORLD</strong>'"
      ]
     },
     "execution_count": 16,
     "metadata": {},
     "output_type": "execute_result"
    }
   ],
   "source": [
    "@strong\n",
    "@to_upper\n",
    "def greet():\n",
    "    return \"Hello, world\"\n",
    "\n",
    "#greet = to_upper(greet)\n",
    "greet()"
   ]
  },
  {
   "cell_type": "code",
   "execution_count": 30,
   "id": "3b9d7516",
   "metadata": {},
   "outputs": [
    {
     "name": "stdout",
     "output_type": "stream",
     "text": [
      "decorator invoked\n",
      "start\n",
      "wrap invoked\n",
      "testfn invoked\n"
     ]
    }
   ],
   "source": [
    "def decorator(fn):\n",
    "    print(\"decorator invoked\")\n",
    "    def wrap():\n",
    "        print(\"wrap invoked\")\n",
    "        fn()\n",
    "    return wrap\n",
    "\n",
    "@decorator\n",
    "def testfn():\n",
    "    print(\"testfn invoked\")\n",
    "\n",
    "print(\"start\")\n",
    "testfn()\n"
   ]
  },
  {
   "cell_type": "code",
   "execution_count": null,
   "id": "8cff58af",
   "metadata": {},
   "outputs": [
    {
     "name": "stdout",
     "output_type": "stream",
     "text": [
      "200000000\n",
      "20000000\n"
     ]
    }
   ],
   "source": [
    "def profile(fn):\n",
    "    from time import time, ctime\n",
    "    stats = {}\n",
    "    def wrap(*args, **kwargs):\n",
    "        start = time()\n",
    "\n",
    "        ret = fn(*args, **kwargs)\n",
    "        \n",
    "        duration = time() - start\n",
    "        record = (args, kwargs, ctime(), duration)\n",
    "        stats.setdefault(fn.__qualname__, []).append(record)\n",
    "        \n",
    "        return ret\n",
    "\n",
    "    def report():\n",
    "        for rec in stats.get(fn.__qualname__, []):\n",
    "            args, kwargs, ts, duration = rec\n",
    "            print(f\"{ts}: {fn.__qualname__}{args} took {duration} seconds.\")    \n",
    "\n",
    "    wrap.report = report\n",
    "    return wrap\n",
    "\n",
    "@profile\n",
    "def slow_test(count):\n",
    "    for i in range(count):\n",
    "        pass\n",
    "    return count * 2\n",
    "\n",
    "print(slow_test(100_000_000))\n",
    "print(slow_test(10_000_000))\n",
    "\n",
    "# OUT: Wed Aug 13 10:43:15 2025: slow_test(100_000_000) took 1.23 seconds\n",
    "# OUT  Wed Aug 13 10:43:16 2025: slow_test(10_000_000) took 0.27 seconds\n"
   ]
  },
  {
   "cell_type": "code",
   "execution_count": 24,
   "id": "5c9dca2d",
   "metadata": {},
   "outputs": [
    {
     "name": "stdout",
     "output_type": "stream",
     "text": [
      "Wed Aug 13 11:04:16 2025: slow_test(100000000,) took 1.5959205627441406 seconds.\n",
      "Wed Aug 13 11:04:16 2025: slow_test(10000000,) took 0.15876531600952148 seconds.\n"
     ]
    }
   ],
   "source": [
    "slow_test.report()"
   ]
  },
  {
   "cell_type": "code",
   "execution_count": 20,
   "id": "6a3f3e0a",
   "metadata": {},
   "outputs": [
    {
     "data": {
      "text/plain": [
       "'Wed Aug 13 10:43:15 2025'"
      ]
     },
     "execution_count": 20,
     "metadata": {},
     "output_type": "execute_result"
    }
   ],
   "source": [
    "from time import ctime\n",
    "ctime()"
   ]
  },
  {
   "cell_type": "code",
   "execution_count": 28,
   "id": "a05cd293",
   "metadata": {},
   "outputs": [
    {
     "data": {
      "text/plain": [
       "'HELLO, WORLD'"
      ]
     },
     "execution_count": 28,
     "metadata": {},
     "output_type": "execute_result"
    }
   ],
   "source": [
    "def style(s):\n",
    "    def decorate(fn):\n",
    "        if s == \"strong\":\n",
    "            def wrap():\n",
    "                return \"<strong>\" + fn() + \"</strong>\"\n",
    "        elif s == \"upper\":\n",
    "            def wrap():\n",
    "                return fn().upper()\n",
    "        else:\n",
    "            wrap = fn\n",
    "        return wrap\n",
    "    return decorate\n",
    "\n",
    "@style(\"upper\")\n",
    "def greet():\n",
    "    return \"Hello, world\"\n",
    "\n",
    "greet()"
   ]
  },
  {
   "cell_type": "code",
   "execution_count": 40,
   "id": "ffb687d6",
   "metadata": {},
   "outputs": [
    {
     "name": "stdout",
     "output_type": "stream",
     "text": [
      "Driving Maruti Suzuki car\n"
     ]
    }
   ],
   "source": [
    "class Car:\n",
    "    def __init__(self, make):\n",
    "        self.make = make\n",
    "\n",
    "    def __add__(self, other):\n",
    "        return Car(self.make + \" \" + other.make)\n",
    "    \n",
    "    def drive(self):\n",
    "        print(f\"Driving {self.make} car\")\n",
    "    \n",
    "c1 = Car(\"Maruti\")\n",
    "c2 = Car(\"Suzuki\")\n",
    "c3 = c1 + c2 # c1.__add__(c2) -> Car.__add__(c1, c2)\n",
    "c3.drive()      "
   ]
  },
  {
   "cell_type": "code",
   "execution_count": 46,
   "id": "3013af10",
   "metadata": {},
   "outputs": [
    {
     "name": "stdout",
     "output_type": "stream",
     "text": [
      "<@Toupper: <function greet at 0x000001C8F9B422A0>> <class '__main__.ToUpper'>\n"
     ]
    },
    {
     "data": {
      "text/plain": [
       "'Hello, world'"
      ]
     },
     "execution_count": 46,
     "metadata": {},
     "output_type": "execute_result"
    }
   ],
   "source": [
    "class ToUpper:\n",
    "    def __init__(self, target):\n",
    "        self.target = target\n",
    "\n",
    "    def __call__(self):\n",
    "        return self.target()\n",
    "    \n",
    "    def __str__(self):\n",
    "        #return str(self.target)  # Bad practice\n",
    "        return f\"<@Toupper: {str(self.target)}>\"\n",
    "@ToUpper\n",
    "def greet():\n",
    "    return \"Hello, world\"\n",
    "\n",
    "# greet = ToUpper(greet)\n",
    "\n",
    "greet()\n",
    "print(greet, type(greet))\n",
    "greet()"
   ]
  },
  {
   "cell_type": "code",
   "execution_count": 34,
   "id": "0cde45c8",
   "metadata": {},
   "outputs": [
    {
     "data": {
      "text/plain": [
       "(function, 1962693403296)"
      ]
     },
     "execution_count": 34,
     "metadata": {},
     "output_type": "execute_result"
    }
   ],
   "source": [
    "def greet(): \n",
    "    return \"Hello, world\"\n",
    "\n",
    "\n",
    "type(greet), id(greet)"
   ]
  }
 ],
 "metadata": {
  "kernelspec": {
   "display_name": "base",
   "language": "python",
   "name": "python3"
  },
  "language_info": {
   "codemirror_mode": {
    "name": "ipython",
    "version": 3
   },
   "file_extension": ".py",
   "mimetype": "text/x-python",
   "name": "python",
   "nbconvert_exporter": "python",
   "pygments_lexer": "ipython3",
   "version": "3.13.5"
  }
 },
 "nbformat": 4,
 "nbformat_minor": 5
}
