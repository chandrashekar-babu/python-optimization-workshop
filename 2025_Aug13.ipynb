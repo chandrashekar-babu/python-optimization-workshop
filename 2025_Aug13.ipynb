{
 "cells": [
  {
   "cell_type": "code",
   "execution_count": 3,
   "id": "b1ce78e6",
   "metadata": {},
   "outputs": [
    {
     "name": "stdout",
     "output_type": "stream",
     "text": [
      "1962685286784 1962685286784\n"
     ]
    }
   ],
   "source": [
    "class World:\n",
    "    def __new__(cls):\n",
    "        if hasattr(cls, 'instance'):\n",
    "            return cls.instance\n",
    "        else:\n",
    "            cls.instance = super().__new__(cls)\n",
    "            return cls.instance\n",
    "\n",
    "\n",
    "w1 = World()\n",
    "w2 = World()\n",
    "print(id(w1), id(w2))"
   ]
  },
  {
   "cell_type": "markdown",
   "id": "7520603d",
   "metadata": {},
   "source": [
    "#### Decorators in Python"
   ]
  },
  {
   "cell_type": "markdown",
   "id": "95da952c",
   "metadata": {},
   "source": [
    "A syntax feature that aids in AOP patterns in a simpler syntax / structure "
   ]
  },
  {
   "cell_type": "code",
   "execution_count": 12,
   "id": "dc6fd258",
   "metadata": {},
   "outputs": [],
   "source": [
    "def to_upper(fn):\n",
    "    def wrap():\n",
    "        return fn().upper()\n",
    "    return wrap\n",
    "\n",
    "def strong(fn):\n",
    "    def wrap():\n",
    "        return \"<strong>\" + fn() + \"</strong>\"\n",
    "    return wrap\n",
    "\n",
    "\n"
   ]
  },
  {
   "cell_type": "code",
   "execution_count": null,
   "id": "619bcb59",
   "metadata": {},
   "outputs": [
    {
     "data": {
      "text/plain": [
       "'<strong>HELLO, WORLD</strong>'"
      ]
     },
     "execution_count": 16,
     "metadata": {},
     "output_type": "execute_result"
    }
   ],
   "source": [
    "@strong\n",
    "@to_upper\n",
    "def greet():\n",
    "    return \"Hello, world\"\n",
    "\n",
    "#greet = to_upper(greet)\n",
    "greet()"
   ]
  },
  {
   "cell_type": "code",
   "execution_count": 30,
   "id": "3b9d7516",
   "metadata": {},
   "outputs": [
    {
     "name": "stdout",
     "output_type": "stream",
     "text": [
      "decorator invoked\n",
      "start\n",
      "wrap invoked\n",
      "testfn invoked\n"
     ]
    }
   ],
   "source": [
    "def decorator(fn):\n",
    "    print(\"decorator invoked\")\n",
    "    def wrap():\n",
    "        print(\"wrap invoked\")\n",
    "        fn()\n",
    "    return wrap\n",
    "\n",
    "@decorator\n",
    "def testfn():\n",
    "    print(\"testfn invoked\")\n",
    "\n",
    "print(\"start\")\n",
    "testfn()\n"
   ]
  },
  {
   "cell_type": "code",
   "execution_count": null,
   "id": "8cff58af",
   "metadata": {},
   "outputs": [
    {
     "name": "stdout",
     "output_type": "stream",
     "text": [
      "200000000\n",
      "20000000\n"
     ]
    }
   ],
   "source": [
    "def profile(fn):\n",
    "    from time import time, ctime\n",
    "    stats = {}\n",
    "    def wrap(*args, **kwargs):\n",
    "        start = time()\n",
    "\n",
    "        ret = fn(*args, **kwargs)\n",
    "        \n",
    "        duration = time() - start\n",
    "        record = (args, kwargs, ctime(), duration)\n",
    "        stats.setdefault(fn.__qualname__, []).append(record)\n",
    "        \n",
    "        return ret\n",
    "\n",
    "    def report():\n",
    "        for rec in stats.get(fn.__qualname__, []):\n",
    "            args, kwargs, ts, duration = rec\n",
    "            print(f\"{ts}: {fn.__qualname__}{args} took {duration} seconds.\")    \n",
    "\n",
    "    wrap.report = report\n",
    "    return wrap\n",
    "\n",
    "@profile\n",
    "def slow_test(count):\n",
    "    for i in range(count):\n",
    "        pass\n",
    "    return count * 2\n",
    "\n",
    "print(slow_test(100_000_000))\n",
    "print(slow_test(10_000_000))\n",
    "\n",
    "# OUT: Wed Aug 13 10:43:15 2025: slow_test(100_000_000) took 1.23 seconds\n",
    "# OUT  Wed Aug 13 10:43:16 2025: slow_test(10_000_000) took 0.27 seconds\n"
   ]
  },
  {
   "cell_type": "code",
   "execution_count": 54,
   "id": "8c234ada",
   "metadata": {},
   "outputs": [
    {
     "name": "stdout",
     "output_type": "stream",
     "text": [
      "200000000\n",
      "20000000\n"
     ]
    }
   ],
   "source": [
    "class Profile:\n",
    "    def __init__(self, fn):\n",
    "        self.stats = {}\n",
    "        self.fn = fn\n",
    "\n",
    "    def __call__(self, *args, **kwargs):\n",
    "        from time import time, ctime\n",
    "        start = time()\n",
    "\n",
    "        ret = self.fn(*args, **kwargs)\n",
    "        duration = time() - start\n",
    "        \n",
    "        record = (args, kwargs, ctime(), duration)\n",
    "        self.stats.setdefault(self.fn.__qualname__, []).append(record)\n",
    "        \n",
    "        return ret\n",
    "\n",
    "    def report(self):\n",
    "        for rec in self.stats.get(self.fn.__qualname__, []):\n",
    "            args, kwargs, ts, duration = rec\n",
    "            print(f\"{ts}: {self.fn.__qualname__}{args} took {duration} seconds.\")    \n",
    "\n",
    "@Profile\n",
    "def slow_test(count):\n",
    "    for i in range(count):\n",
    "        pass\n",
    "    return count * 2\n",
    "\n",
    "print(slow_test(100_000_000))\n",
    "print(slow_test(10_000_000))\n",
    "\n",
    "# OUT: Wed Aug 13 10:43:15 2025: slow_test(100_000_000) took 1.23 seconds\n",
    "# OUT  Wed Aug 13 10:43:16 2025: slow_test(10_000_000) took 0.27 seconds\n"
   ]
  },
  {
   "cell_type": "code",
   "execution_count": 55,
   "id": "5c9dca2d",
   "metadata": {},
   "outputs": [
    {
     "name": "stdout",
     "output_type": "stream",
     "text": [
      "Wed Aug 13 12:08:43 2025: slow_test(100000000,) took 1.6132164001464844 seconds.\n",
      "Wed Aug 13 12:08:43 2025: slow_test(10000000,) took 0.17212653160095215 seconds.\n"
     ]
    }
   ],
   "source": [
    "slow_test.report()"
   ]
  },
  {
   "cell_type": "code",
   "execution_count": 20,
   "id": "6a3f3e0a",
   "metadata": {},
   "outputs": [
    {
     "data": {
      "text/plain": [
       "'Wed Aug 13 10:43:15 2025'"
      ]
     },
     "execution_count": 20,
     "metadata": {},
     "output_type": "execute_result"
    }
   ],
   "source": [
    "from time import ctime\n",
    "ctime()"
   ]
  },
  {
   "cell_type": "code",
   "execution_count": 28,
   "id": "a05cd293",
   "metadata": {},
   "outputs": [
    {
     "data": {
      "text/plain": [
       "'HELLO, WORLD'"
      ]
     },
     "execution_count": 28,
     "metadata": {},
     "output_type": "execute_result"
    }
   ],
   "source": [
    "def style(s):\n",
    "    def decorate(fn):\n",
    "        if s == \"strong\":\n",
    "            def wrap():\n",
    "                return \"<strong>\" + fn() + \"</strong>\"\n",
    "        elif s == \"upper\":\n",
    "            def wrap():\n",
    "                return fn().upper()\n",
    "        else:\n",
    "            wrap = fn\n",
    "        return wrap\n",
    "    return decorate\n",
    "\n",
    "@style(\"upper\")\n",
    "def greet():\n",
    "    return \"Hello, world\"\n",
    "\n",
    "greet()"
   ]
  },
  {
   "cell_type": "code",
   "execution_count": 40,
   "id": "ffb687d6",
   "metadata": {},
   "outputs": [
    {
     "name": "stdout",
     "output_type": "stream",
     "text": [
      "Driving Maruti Suzuki car\n"
     ]
    }
   ],
   "source": [
    "class Car:\n",
    "    def __init__(self, make):\n",
    "        self.make = make\n",
    "\n",
    "    def __add__(self, other):\n",
    "        return Car(self.make + \" \" + other.make)\n",
    "    \n",
    "    def drive(self):\n",
    "        print(f\"Driving {self.make} car\")\n",
    "    \n",
    "c1 = Car(\"Maruti\")\n",
    "c2 = Car(\"Suzuki\")\n",
    "c3 = c1 + c2 # c1.__add__(c2) -> Car.__add__(c1, c2)\n",
    "c3.drive()      "
   ]
  },
  {
   "cell_type": "code",
   "execution_count": 46,
   "id": "3013af10",
   "metadata": {},
   "outputs": [
    {
     "name": "stdout",
     "output_type": "stream",
     "text": [
      "<@Toupper: <function greet at 0x000001C8F9B422A0>> <class '__main__.ToUpper'>\n"
     ]
    },
    {
     "data": {
      "text/plain": [
       "'Hello, world'"
      ]
     },
     "execution_count": 46,
     "metadata": {},
     "output_type": "execute_result"
    }
   ],
   "source": [
    "class ToUpper:\n",
    "    def __init__(self, target):\n",
    "        self.target = target\n",
    "\n",
    "    def __call__(self):\n",
    "        return self.target()\n",
    "    \n",
    "    def __str__(self):\n",
    "        #return str(self.target)  # Bad practice\n",
    "        return f\"<@Toupper: {str(self.target)}>\"\n",
    "@ToUpper\n",
    "def greet():\n",
    "    return \"Hello, world\"\n",
    "\n",
    "# greet = ToUpper(greet)\n",
    "\n",
    "greet()\n",
    "print(greet, type(greet))\n",
    "greet()"
   ]
  },
  {
   "cell_type": "code",
   "execution_count": 34,
   "id": "0cde45c8",
   "metadata": {},
   "outputs": [
    {
     "data": {
      "text/plain": [
       "(function, 1962693403296)"
      ]
     },
     "execution_count": 34,
     "metadata": {},
     "output_type": "execute_result"
    }
   ],
   "source": [
    "def greet(): \n",
    "    return \"Hello, world\"\n",
    "\n",
    "\n",
    "type(greet), id(greet)"
   ]
  },
  {
   "cell_type": "code",
   "execution_count": null,
   "id": "0f46a791",
   "metadata": {},
   "outputs": [
    {
     "data": {
      "text/plain": [
       "'<STRONG>HELLO, WORLD</STRONG>'"
      ]
     },
     "execution_count": 49,
     "metadata": {},
     "output_type": "execute_result"
    }
   ],
   "source": [
    "class Style:\n",
    "    def __init__(self, s):\n",
    "        self.style = s\n",
    "\n",
    "    def __call__(self, fn):\n",
    "        self.target = fn\n",
    "        if self.style == 'upper':\n",
    "            return self.to_upper\n",
    "        elif self.style == 'strong':\n",
    "            return self.to_strong\n",
    "        \n",
    "    def to_upper(self):\n",
    "        return self.target().upper()\n",
    "    \n",
    "    def to_strong(self):\n",
    "        return \"<strong>\" + self.target() + \"</strong>\"\n",
    "    \n",
    "@Style(\"upper\")\n",
    "@Style(\"strong\")\n",
    "def greet():\n",
    "    return \"Hello, world\"\n",
    "\n",
    "greet()"
   ]
  },
  {
   "cell_type": "code",
   "execution_count": 52,
   "id": "6c786a53",
   "metadata": {},
   "outputs": [
    {
     "data": {
      "text/plain": [
       "'<STRONG><I>HELLO, WORLD</I></STRONG>'"
      ]
     },
     "execution_count": 52,
     "metadata": {},
     "output_type": "execute_result"
    }
   ],
   "source": [
    "class Style:\n",
    "    def __init__(self, s):\n",
    "        self.style = s\n",
    "\n",
    "    def __call__(self, fn):\n",
    "        self.target = fn\n",
    "        wrapper = f'to_{self.style}'\n",
    "        if hasattr(self, wrapper):\n",
    "            return getattr(self, wrapper)\n",
    "        else:\n",
    "            return self.target\n",
    "           \n",
    "    def to_upper(self):\n",
    "        return self.target().upper()\n",
    "    \n",
    "    def to_strong(self):\n",
    "        return \"<strong>\" + self.target() + \"</strong>\"\n",
    "    \n",
    "    def to_italics(self):\n",
    "        return \"<i>\" + self.target() + \"</i>\"\n",
    "    \n",
    "@Style(\"upper\")\n",
    "@Style(\"strong\")\n",
    "@Style(\"italics\")\n",
    "def greet():\n",
    "    return \"Hello, world\"\n",
    "\n",
    "greet()"
   ]
  },
  {
   "cell_type": "code",
   "execution_count": 2,
   "id": "838d2e6f",
   "metadata": {},
   "outputs": [
    {
     "name": "stdout",
     "output_type": "stream",
     "text": [
      "Square of 2 is 4\n",
      "Square of 5 is 25\n",
      "Square of 6 is 36\n",
      "Square of 3 is 9\n",
      "4.002784013748169\n",
      "[4, 25, 4, 36, 9, 25, 4, 25, 4, 25]\n"
     ]
    }
   ],
   "source": [
    "# Memoize Pattern (Memento)\n",
    "\n",
    "class Memoize:\n",
    "    def __init__(self, fn):\n",
    "        self.fn = fn\n",
    "        self.cache = {}\n",
    "\n",
    "    def __call__(self, *args, **kwargs):\n",
    "        key = self.fn.__qualname__ + str(args) + str(kwargs)\n",
    "        if key not in self.cache:\n",
    "            self.cache[key] = self.fn(*args, **kwargs)\n",
    "        return self.cache[key]\n",
    "    \n",
    "\n",
    "from time import time, sleep\n",
    "\n",
    "@Memoize\n",
    "def square(x):\n",
    "    sleep(1)\n",
    "    print(\"Square of\", x, \"is\", x*x)\n",
    "    return x*x\n",
    "\n",
    "nums = [2, 5, 2, 6, 3, 5, 2, 5, 2, 5]\n",
    "result = []\n",
    "\n",
    "start = time()\n",
    "for v in nums:\n",
    "    result.append(square(v))\n",
    "duration = time() - start\n",
    "print(duration)\n",
    "print(result)\n"
   ]
  },
  {
   "cell_type": "code",
   "execution_count": 7,
   "id": "aaee2b10",
   "metadata": {},
   "outputs": [
    {
     "name": "stdout",
     "output_type": "stream",
     "text": [
      "Fetching https://python.org\n",
      "Fetching https://pypi.org\n",
      "Fetching https://fsf.org\n",
      "Fetching https://www.chandrashekar.info\n",
      "[200, 200, 200, 200, 200, 200, 200, 200]\n",
      "3.732240915298462\n"
     ]
    }
   ],
   "source": [
    "from time import time, sleep\n",
    "\n",
    "urls = [\n",
    "    \"https://python.org\",\n",
    "    \"https://pypi.org\",\n",
    "    \"https://fsf.org\",\n",
    "    \"https://python.org\",\n",
    "    \"https://python.org\",\n",
    "    \"https://fsf.org\",\n",
    "    \"https://www.chandrashekar.info\",\n",
    "    \"https://python.org\"\n",
    "]\n",
    "\n",
    "from functools import lru_cache\n",
    "\n",
    "@lru_cache\n",
    "def fetch_url(u):\n",
    "    from urllib.request import urlopen\n",
    "    print(\"Fetching\", u)\n",
    "    res = urlopen(u)\n",
    "    return res.code\n",
    "\n",
    "start = time()\n",
    "result = []\n",
    "for u in urls:\n",
    "    r = fetch_url(u)\n",
    "    result.append(r)\n",
    "duration = time() - start\n",
    "print(result)\n",
    "print(duration)\n"
   ]
  }
 ],
 "metadata": {
  "kernelspec": {
   "display_name": "base",
   "language": "python",
   "name": "python3"
  },
  "language_info": {
   "codemirror_mode": {
    "name": "ipython",
    "version": 3
   },
   "file_extension": ".py",
   "mimetype": "text/x-python",
   "name": "python",
   "nbconvert_exporter": "python",
   "pygments_lexer": "ipython3",
   "version": "3.13.5"
  }
 },
 "nbformat": 4,
 "nbformat_minor": 5
}
