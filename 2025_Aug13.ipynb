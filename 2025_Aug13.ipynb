{
 "cells": [
  {
   "cell_type": "code",
   "execution_count": 3,
   "id": "b1ce78e6",
   "metadata": {},
   "outputs": [
    {
     "name": "stdout",
     "output_type": "stream",
     "text": [
      "1962685286784 1962685286784\n"
     ]
    }
   ],
   "source": [
    "class World:\n",
    "    def __new__(cls):\n",
    "        if hasattr(cls, 'instance'):\n",
    "            return cls.instance\n",
    "        else:\n",
    "            cls.instance = super().__new__(cls)\n",
    "            return cls.instance\n",
    "\n",
    "\n",
    "w1 = World()\n",
    "w2 = World()\n",
    "print(id(w1), id(w2))"
   ]
  },
  {
   "cell_type": "markdown",
   "id": "7520603d",
   "metadata": {},
   "source": [
    "#### Decorators in Python"
   ]
  },
  {
   "cell_type": "markdown",
   "id": "95da952c",
   "metadata": {},
   "source": [
    "A syntax feature that aids in AOP patterns in a simpler syntax / structure "
   ]
  },
  {
   "cell_type": "code",
   "execution_count": 12,
   "id": "dc6fd258",
   "metadata": {},
   "outputs": [],
   "source": [
    "def to_upper(fn):\n",
    "    def wrap():\n",
    "        return fn().upper()\n",
    "    return wrap\n",
    "\n",
    "def strong(fn):\n",
    "    def wrap():\n",
    "        return \"<strong>\" + fn() + \"</strong>\"\n",
    "    return wrap\n",
    "\n",
    "\n"
   ]
  },
  {
   "cell_type": "code",
   "execution_count": 16,
   "id": "619bcb59",
   "metadata": {},
   "outputs": [
    {
     "data": {
      "text/plain": [
       "'<strong>HELLO, WORLD</strong>'"
      ]
     },
     "execution_count": 16,
     "metadata": {},
     "output_type": "execute_result"
    }
   ],
   "source": [
    "@strong\n",
    "@to_upper\n",
    "def greet():\n",
    "    return \"Hello, world\"\n",
    "\n",
    "#greet = to_upper(greet)\n",
    "greet()"
   ]
  },
  {
   "cell_type": "code",
   "execution_count": 10,
   "id": "3b9d7516",
   "metadata": {},
   "outputs": [
    {
     "name": "stdout",
     "output_type": "stream",
     "text": [
      "decorator invoked\n",
      "wrap invoked\n",
      "testfn invoked\n",
      "wrap invoked\n",
      "testfn invoked\n",
      "wrap invoked\n",
      "testfn invoked\n"
     ]
    }
   ],
   "source": [
    "def decorator(fn):\n",
    "    print(\"decorator invoked\")\n",
    "    def wrap():\n",
    "        print(\"wrap invoked\")\n",
    "        fn()\n",
    "    return wrap\n",
    "\n",
    "@decorator\n",
    "def testfn():\n",
    "    print(\"testfn invoked\")\n",
    "\n",
    "\n",
    "testfn()\n",
    "testfn()\n",
    "testfn()"
   ]
  },
  {
   "cell_type": "code",
   "execution_count": null,
   "id": "8cff58af",
   "metadata": {},
   "outputs": [],
   "source": [
    "@profile\n",
    "def slow_test(count):\n",
    "    for i in range(count):\n",
    "        pass\n",
    "\n",
    "slow_test(100_000_000)\n",
    "slow_test(10_000_000)\n",
    "slow_test.report()\n",
    "\n",
    "# OUT: Wed Aug 13 10:43:15 2025: slow_test(100_000_000) took 1.23 seconds\n",
    "# OUT  Wed Aug 13 10:43:16 2025: slow_test(10_000_000) took 0.27 seconds\n"
   ]
  },
  {
   "cell_type": "code",
   "execution_count": 20,
   "id": "6a3f3e0a",
   "metadata": {},
   "outputs": [
    {
     "data": {
      "text/plain": [
       "'Wed Aug 13 10:43:15 2025'"
      ]
     },
     "execution_count": 20,
     "metadata": {},
     "output_type": "execute_result"
    }
   ],
   "source": [
    "from time import ctime\n",
    "ctime()"
   ]
  }
 ],
 "metadata": {
  "kernelspec": {
   "display_name": "base",
   "language": "python",
   "name": "python3"
  },
  "language_info": {
   "codemirror_mode": {
    "name": "ipython",
    "version": 3
   },
   "file_extension": ".py",
   "mimetype": "text/x-python",
   "name": "python",
   "nbconvert_exporter": "python",
   "pygments_lexer": "ipython3",
   "version": "3.13.5"
  }
 },
 "nbformat": 4,
 "nbformat_minor": 5
}
